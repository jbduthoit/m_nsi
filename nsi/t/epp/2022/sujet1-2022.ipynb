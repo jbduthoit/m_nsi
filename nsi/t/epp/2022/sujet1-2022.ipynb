{
 "cells": [
  {
   "cell_type": "markdown",
   "id": "4b907c77",
   "metadata": {},
   "source": [
    "## Etablissement :"
   ]
  },
  {
   "cell_type": "markdown",
   "id": "6458bdbc",
   "metadata": {},
   "source": [
    "## Nom prénom :"
   ]
  },
  {
   "cell_type": "markdown",
   "id": "90c6b07b",
   "metadata": {},
   "source": [
    "<hr>\n",
    "<h1 align=\"center\"; margin:10;>BACCALAUREAT SESSION 2022<br>\n",
    "    Épreuve de l’enseignement de spécialité<br>\n",
    "    NUMERIQUE et SCIENCES INFORMATIQUES<br>\n",
    "    Partie pratique\n",
    "</h1>\n",
    "<h2 align=\"center\">Terminale de la voie générale<br></h2>\n",
    "<hr>"
   ]
  },
  {
   "cell_type": "markdown",
   "id": "0d5164ea",
   "metadata": {},
   "source": [
    "## Sujet n°1\n",
    "__________________\n",
    "\n",
    "\n",
    "## DUREE DE L’EPREUVE : 1 heure\n",
    "## - Le sujet comporte 2 exercices\n",
    "## - Le candidat doit traiter les 2 exercices."
   ]
  },
  {
   "cell_type": "markdown",
   "id": "9af9fa15",
   "metadata": {},
   "source": [
    "### EXERCICE 1 (4 points)\n",
    "Écrire une fonction recherche qui prend en paramètres caractere, un caractère, et  \n",
    "mot, une chaîne de caractères, et qui renvoie le nombre d’occurrences de caractere  \n",
    "dans mot, c’est-à-dire le nombre de fois où caractere apparaît dans mot.  \n",
    "Exemples :\n",
    "```\n",
    ">>> recherche('e', \"sciences\")\n",
    "2\n",
    ">>> recherche('i',\"mississippi\")\n",
    "4\n",
    ">>> recherche('a',\"mississippi\")\n",
    "0\n",
    "```\n"
   ]
  },
  {
   "cell_type": "code",
   "execution_count": null,
   "id": "4794e3d0",
   "metadata": {},
   "outputs": [],
   "source": [
    "def recherche():\n",
    "    pass\n",
    "\n",
    "assert recherche('e', \"sciences\") ==2,'erreur 1'\n",
    "assert recherche('i',\"mississippi\")==4,'erreur 2'\n",
    "assert recherche('a',\"mississippi\")==0,'erreur 3'\n"
   ]
  },
  {
   "cell_type": "markdown",
   "id": "46498811",
   "metadata": {},
   "source": [
    "### EXERCICE 2 (4 points)\n",
    "On s’intéresse à un algorithme récursif qui permet de rendre la monnaie à partir d’une  \n",
    "liste donnée de valeurs de pièces et de billets - le système monétaire est donné sous  \n",
    "forme d’une liste **pieces=[100, 50, 20, 10, 5, 2, 1]** - (on supposera qu’il n’y a\n",
    "pas de limitation quant à leur nombre), on cherche à donner la liste de pièces à rendre  \n",
    "pour une somme donnée en argument. \n",
    "Compléter le code Python ci-dessous de la fonction rendu_glouton qui implémente cet  \n",
    "algorithme et renvoie la liste des pièces à rendre  \n",
    "\n",
    "```\n",
    "pieces = [100,50,20,10,5,2,1]\n",
    "def rendu_glouton(arendre, solution=[], i=0):\n",
    "    if arendre == 0:\n",
    "        return ...\n",
    "    p = pieces[i]\n",
    "    if p <= ... :\n",
    "        solution.append(...)\n",
    "        return rendu_glouton(arendre - p, solution, i)\n",
    "    else :\n",
    "        return rendu_glouton(arendre, solution, ...)\n",
    "\n",
    "On devra obtenir :\n",
    ">>>rendu_glouton_r(68,[],0)\n",
    "[50, 10, 5, 2, 1]\n",
    ">>>rendu_glouton_r(291,[],0)\n",
    "[100, 100, 50, 20, 20, 1]\n",
    "```\n"
   ]
  },
  {
   "cell_type": "code",
   "execution_count": null,
   "id": "5b96f59b",
   "metadata": {},
   "outputs": [],
   "source": [
    "Pieces = [100,50,20,10,5,2,1]\n",
    "def rendu_glouton(arendre, solution=[], i=0):\n",
    "    if arendre == 0:\n",
    "        return ...\n",
    "    p = Pieces[i]\n",
    "    if p <= ... :\n",
    "        solution.append(...)\n",
    "        return rendu_glouton(arendre - p, solution, i)\n",
    "    else :\n",
    "        return rendu_glouton(arendre, solution, ...)\n",
    "\n",
    "assert rendu_glouton_r(68,[],0)==[50, 10, 5, 2, 1],'erreur 1'\n",
    "assert rendu_glouton_r(291,[],0)==[100, 100, 50, 20, 20, 1],'erreur 2'\n"
   ]
  }
 ],
 "metadata": {
  "kernelspec": {
   "display_name": "Python 3 (ipykernel)",
   "language": "python",
   "name": "python3"
  },
  "language_info": {
   "codemirror_mode": {
    "name": "ipython",
    "version": 3
   },
   "file_extension": ".py",
   "mimetype": "text/x-python",
   "name": "python",
   "nbconvert_exporter": "python",
   "pygments_lexer": "ipython3",
   "version": "3.10.2"
  }
 },
 "nbformat": 4,
 "nbformat_minor": 5
}
