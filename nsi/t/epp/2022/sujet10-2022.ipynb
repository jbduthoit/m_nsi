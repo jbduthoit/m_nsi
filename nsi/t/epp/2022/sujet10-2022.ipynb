{
 "cells": [
  {
   "cell_type": "markdown",
   "id": "da4d5d7d",
   "metadata": {},
   "source": [
    "## Etablissement :"
   ]
  },
  {
   "cell_type": "markdown",
   "id": "be7025d9",
   "metadata": {},
   "source": [
    "## Nom prénom :"
   ]
  },
  {
   "cell_type": "markdown",
   "id": "f846f6f8",
   "metadata": {},
   "source": [
    "<hr>\n",
    "<h1 align=\"center\"; margin:10;>BACCALAUREAT SESSION 2022<br>\n",
    "    Épreuve de l’enseignement de spécialité<br>\n",
    "    NUMERIQUE et SCIENCES INFORMATIQUES<br>\n",
    "    Partie pratique\n",
    "</h1>\n",
    "<h2 align=\"center\">Terminale de la voie générale<br></h2>\n",
    "<hr>"
   ]
  },
  {
   "cell_type": "markdown",
   "id": "6936c39d",
   "metadata": {},
   "source": [
    "\n",
    "## Sujet n° 10\n",
    "___\n",
    "## DUREE DE L’EPREUVE : 1 heure\n",
    "## - Le sujet comporte 2 exercices\n",
    "## - Le candidat doit traiter les 2 exercices."
   ]
  },
  {
   "cell_type": "markdown",
   "id": "352a9954",
   "metadata": {},
   "source": [
    "### EXERCICE 1 (4 points)\n",
    "\n",
    "L’occurrence d’un caractère dans un phrase est le nombre de fois où ce caractère est présent.\n",
    "\n",
    "Exemples :\n",
    "* l’occurrence du caractère ‘o’ dans ‘bonjour’ est 2 ;\n",
    "* l’occurrence du caractère ‘b’ dans ‘Bébé’ est 1 ;\n",
    "* l’occurrence du caractère ‘B’ dans ‘Bébé’ est 1 ;\n",
    "* l’occurrence du caractère ‘ ‘ dans ‘Hello world !’ est 2.\n",
    "\n",
    "On cherche les occurrences des caractères dans une phrase. On souhaite stocker ces\n",
    "occurrences dans un dictionnaire dont les clefs seraient les caractères de la phrase et\n",
    "les valeurs l’occurrence de ces caractères.\n",
    "\n",
    "Par exemple : avec la phrase 'Hello world !' le dictionnaire est le suivant : \n",
    "```\n",
    "{'H': 1,'e': 1,'l': 3,'o': 2,' ': 2,'w': 1,'r': 1,'d': 1,'!': 1}\n",
    "(l’ordre des clefs n’ayant pas d’importance).\n",
    "```\n",
    "Écrire une fonction occurence_lettres avec prenant comme paramètre une variable  \n",
    "phrase de type str. Cette fonction doit renvoyer un dictionnaire de type constitué des  \n",
    "occurrences des caractères présents dans la phrase.  \n"
   ]
  },
  {
   "cell_type": "code",
   "execution_count": null,
   "id": "0fc0efd2",
   "metadata": {},
   "outputs": [],
   "source": [
    "def occurence_lettres():\n",
    "    pass\n"
   ]
  },
  {
   "cell_type": "markdown",
   "id": "9043a97b",
   "metadata": {},
   "source": [
    "### EXERCICE 2 (4 points)\n",
    "La fonction fusion prend deux listes L1,L2 d’entiers triées par ordre croissant et les  \n",
    "fusionne en une liste triée L12 qu’elle renvoie.  \n",
    "Le code Python de la fonction est  \n",
    "\n",
    "```\n",
    "def fusion(L1,L2):\n",
    "    n1 = len(L1)\n",
    "    n2 = len(L2)\n",
    "    L12 = [0]*(n1+n2)\n",
    "    i1 = 0\n",
    "    i2 = 0\n",
    "    i = 0\n",
    "    while i1 < n1 and ... :\n",
    "        if L1[i1] < L2[i2]:\n",
    "            L12[i] = ...\n",
    "            i1 = ...\n",
    "        else:\n",
    "            L12[i] = L2[i2]\n",
    "            i2 = ...\n",
    "        i += 1\n",
    "    while i1 < n1:\n",
    "    \tL12[i] = ...\n",
    "    \ti1 = i1 + 1\n",
    "    \ti = ...\n",
    "    while i2 < n2:\n",
    "    \tL12[i] = ...\n",
    "    \ti2 = i2 + 1\n",
    "    \ti = ...\n",
    "    return L12\n",
    "\n",
    "```\n",
    "Compléter le code.\n",
    "\n",
    "Exemple :\n",
    "```\n",
    ">>> fusion([1,6,10],[0,7,8,9])\n",
    "[0, 1, 6, 7, 8, 9, 10]\n",
    "```\n"
   ]
  },
  {
   "cell_type": "code",
   "execution_count": null,
   "id": "176f0235",
   "metadata": {},
   "outputs": [],
   "source": [
    "def fusion(L1,L2):\n",
    "    n1 = len(L1)\n",
    "    n2 = len(L2)\n",
    "    L12 = [0]*(n1+n2)\n",
    "    i1 = 0\n",
    "    i2 = 0\n",
    "    i = 0\n",
    "    while i1 < n1 and ... :\n",
    "        if L1[i1] < L2[i2]:\n",
    "            L12[i] = ...\n",
    "            i1 = ...\n",
    "        else:\n",
    "            L12[i] = L2[i2]\n",
    "            i2 = ...\n",
    "        i += 1\n",
    "    while i1 < n1:\n",
    "        L12[i] = ...\n",
    "        i1 = i1 + 1\n",
    "        i = ...\n",
    "    while i2 < n2:\n",
    "        L12[i] = ...\n",
    "        i2 = i2 + 1\n",
    "        i = ...\n",
    "    return L12\n",
    "\n"
   ]
  }
 ],
 "metadata": {
  "kernelspec": {
   "display_name": "Python 3",
   "language": "python",
   "name": "python3"
  },
  "language_info": {
   "codemirror_mode": {
    "name": "ipython",
    "version": 3
   },
   "file_extension": ".py",
   "mimetype": "text/x-python",
   "name": "python",
   "nbconvert_exporter": "python",
   "pygments_lexer": "ipython3",
   "version": "3.9.9"
  }
 },
 "nbformat": 4,
 "nbformat_minor": 5
}
