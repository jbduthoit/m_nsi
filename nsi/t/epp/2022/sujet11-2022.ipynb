{
 "cells": [
  {
   "cell_type": "markdown",
   "id": "da4d5d7d",
   "metadata": {},
   "source": [
    "## Etablissement :"
   ]
  },
  {
   "cell_type": "markdown",
   "id": "be7025d9",
   "metadata": {},
   "source": [
    "## Nom prénom :"
   ]
  },
  {
   "cell_type": "markdown",
   "id": "f846f6f8",
   "metadata": {},
   "source": [
    "<hr>\n",
    "<h1 align=\"center\"; margin:10;>BACCALAUREAT SESSION 2022<br>\n",
    "    Épreuve de l’enseignement de spécialité<br>\n",
    "    NUMERIQUE et SCIENCES INFORMATIQUES<br>\n",
    "    Partie pratique\n",
    "</h1>\n",
    "<h2 align=\"center\">Terminale de la voie générale<br></h2>\n",
    "<hr>"
   ]
  },
  {
   "cell_type": "markdown",
   "id": "6936c39d",
   "metadata": {},
   "source": [
    "\n",
    "## Sujet n° 11\n",
    "___\n",
    "## DUREE DE L’EPREUVE : 1 heure\n",
    "## - Le sujet comporte 2 exercices\n",
    "## - Le candidat doit traiter les 2 exercices."
   ]
  },
  {
   "cell_type": "markdown",
   "id": "352a9954",
   "metadata": {},
   "source": [
    "### EXERCICE 1 (4 points)\n",
    "\n",
    "Écrire une fonction recherche qui prend en paramètres un tableau tab de nombres  \n",
    "entiers triés par ordre croissant et un nombre entier n, et qui effectue une recherche \n",
    "dichotomique du nombre entier n dans le tableau non vide tab.  \n",
    "Cette fonction doit renvoyer un indice correspondant au nombre cherché s’il est dans le  \n",
    "tableau, -1 sinon.  \n",
    "\n",
    "**Exemples:**\n",
    "\n",
    "```\n",
    ">>> recherche([2, 3, 4, 5, 6], 5)\n",
    "3\n",
    ">>> recherche([2, 3, 4, 6, 7], 5)\n",
    "-1\n",
    "```"
   ]
  },
  {
   "cell_type": "code",
   "execution_count": null,
   "id": "0fc0efd2",
   "metadata": {},
   "outputs": [],
   "source": [
    "def recherche():\n",
    "    pass\n"
   ]
  },
  {
   "cell_type": "markdown",
   "id": "9043a97b",
   "metadata": {},
   "source": [
    "### EXERCICE 2 (4 points)\n",
    "\n",
    "Le codage de César transforme un message en changeant chaque lettre en la décalant dans l’alphabet.\n",
    "\n",
    "Par exemple, avec un décalage de 3, le A se transforme en D, le B en E, ..., le X en A, le Y en B et le Z en C. Les autres caractères (‘!’,’ ?’...) ne sont pas codés.\n",
    "\n",
    "La fonction position_alphabet ci-dessous prend en paramètre un caractère lettre et renvoie la position de lettre dans la chaîne de caractères ALPHABET s’il s’y trouve et -1 sinon.\n",
    "\n",
    "La fonction cesar prend en paramètre une chaîne de caractères message et un nombre entier decalage et renvoie le nouveau message codé avec le codage de César utilisant le décalage decalage.\n",
    "```\n",
    "ALPHABET='ABCDEFGHIJKLMNOPQRSTUVWXYZ'\n",
    "\n",
    "def position_alphabet(lettre):\n",
    "    return ALPHABET.find(lettre)\n",
    "\n",
    "def cesar(message, decalage):\n",
    "    resultat = ''\n",
    "    for ... in message :\n",
    "        if lettre in ALPHABET :\n",
    "            indice = ( ... )%26\n",
    "            resultat = resultat + ALPHABET[indice]\n",
    "        else:\n",
    "            resultat = ...\n",
    "    return resultat\n",
    "```\n",
    "Compléter la fonction césar.\n",
    "\n",
    "#### Exemples :\n",
    "```\n",
    ">>> cesar('BONJOUR A TOUS. VIVE LA MATIERE NSI !',4)\n",
    "'FSRNSYV E XSYW. ZMZI PE QEXMIVI RWM !'\n",
    ">>> cesar('GTSOTZW F YTZX. ANAJ QF RFYNJWJ SXN !',-5)\n",
    "'BONJOUR A TOUS. VIVE LA MATIERE NSI !'\n",
    "```\n"
   ]
  },
  {
   "cell_type": "code",
   "execution_count": null,
   "id": "176f0235",
   "metadata": {},
   "outputs": [],
   "source": [
    "ALPHABET='ABCDEFGHIJKLMNOPQRSTUVWXYZ'\n",
    "\n",
    "def position_alphabet(lettre):\n",
    "    return ALPHABET.find(lettre)\n",
    "\n",
    "def cesar(message, decalage):\n",
    "    resultat = ''\n",
    "    for ... in message :\n",
    "        if lettre in ALPHABET :\n",
    "            indice = ( ... )%26\n",
    "            resultat = resultat + ALPHABET[indice]\n",
    "        else:\n",
    "            resultat = ...\n",
    "    return resultat\n",
    "\n",
    "print(cesar('BONJOUR A TOUS. VIVE LA MATIERE NSI !',4))\n",
    "print(cesar('GTSOTZW F YTZX. ANAJ QF RFYNJWJ SXN !',-5))\n",
    "\n"
   ]
  }
 ],
 "metadata": {
  "kernelspec": {
   "display_name": "Python 3 (ipykernel)",
   "language": "python",
   "name": "python3"
  },
  "language_info": {
   "codemirror_mode": {
    "name": "ipython",
    "version": 3
   },
   "file_extension": ".py",
   "mimetype": "text/x-python",
   "name": "python",
   "nbconvert_exporter": "python",
   "pygments_lexer": "ipython3",
   "version": "3.10.2"
  }
 },
 "nbformat": 4,
 "nbformat_minor": 5
}
