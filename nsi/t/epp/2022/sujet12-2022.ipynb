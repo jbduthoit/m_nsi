{
 "cells": [
  {
   "cell_type": "markdown",
   "id": "da4d5d7d",
   "metadata": {},
   "source": [
    "## Etablissement :"
   ]
  },
  {
   "cell_type": "markdown",
   "id": "be7025d9",
   "metadata": {},
   "source": [
    "## Nom prénom :"
   ]
  },
  {
   "cell_type": "markdown",
   "id": "f846f6f8",
   "metadata": {},
   "source": [
    "<hr>\n",
    "<h1 align=\"center\"; margin:10;>BACCALAUREAT SESSION 2022<br>\n",
    "    Épreuve de l’enseignement de spécialité<br>\n",
    "    NUMERIQUE et SCIENCES INFORMATIQUES<br>\n",
    "    Partie pratique\n",
    "</h1>\n",
    "<h2 align=\"center\">Terminale de la voie générale<br></h2>\n",
    "<hr>"
   ]
  },
  {
   "cell_type": "markdown",
   "id": "6936c39d",
   "metadata": {},
   "source": [
    "\n",
    "## Sujet n° 12\n",
    "___\n",
    "## DUREE DE L’EPREUVE : 1 heure\n",
    "## - Le sujet comporte 2 exercices\n",
    "## - Le candidat doit traiter les 2 exercices."
   ]
  },
  {
   "cell_type": "markdown",
   "id": "352a9954",
   "metadata": {},
   "source": [
    "### EXERCICE 1 (4 points)\n",
    "\n",
    "Programmer la fonction moyenne prenant en paramètre un tableau d'entiers tab (type  \n",
    "list) qui renvoie la moyenne de ses éléments si le tableau est non vide et affiche  \n",
    "'erreur' si le tableau est vide.  \n",
    "\n",
    "**Exemples :**\n",
    "```\n",
    ">>> moyenne([5,3,8])\n",
    "5.333333333333333\n",
    ">>> moyenne([1,2,3,4,5,6,7,8,9,10])\n",
    "5.5\n",
    ">>> moyenne([])\n",
    "'erreur'\n",
    "```\n"
   ]
  },
  {
   "cell_type": "code",
   "execution_count": null,
   "id": "0fc0efd2",
   "metadata": {},
   "outputs": [],
   "source": [
    "def moyenne():\n",
    "    pass\n"
   ]
  },
  {
   "cell_type": "markdown",
   "id": "9043a97b",
   "metadata": {},
   "source": [
    "### EXERCICE 2 (4 points)\n",
    "On considère un tableau d'entiers tab (type list dont les éléments sont des 0 ou des 1).   \n",
    "On se propose de trier ce tableau selon l'algorithme suivant : à chaque étape du tri,le tableau est constitué de trois zones consécutives,  \n",
    "la première ne contenant que des 0, la seconde n'étant pas triée et la dernière ne contenant que des 1.  \n",
    "\n",
    "![](img12_2.png)\n",
    "\n",
    "Tant que la zone non triée n'est pas réduite à un seul élément, on regarde son premier élément :\n",
    "\n",
    "    si cet élément vaut 0, on considère qu'il appartient désormais à la zone ne contenant que des 0 ;\n",
    "\n",
    "    si cet élément vaut 1, il est échangé avec le dernier élément de la zone non triée et on considère alors qu’il appartient à la zone ne contenant que des 1.\n",
    "\n",
    "Dans tous les cas, la longueur de la zone non triée diminue de 1.\n",
    "\n",
    "Compléter le code python dans la cellule ci-dessous **la fonction tri suivante** :\n",
    "```\n",
    "def tri(tab):\n",
    "    #i est le premier indice de la zone non triee, j le dernier indice.\n",
    "    #Au debut, la zone non triee est le tableau entier.\n",
    "    i= ...\n",
    "    j= ...\n",
    "    while i != j :\n",
    "        if tab[i]== 0:\n",
    "            i= ...\n",
    "        else :\n",
    "            valeur = tab[j]\n",
    "            tab[j] = ...\n",
    "            ...\n",
    "            j= ...\n",
    "    ...\n",
    "```\n",
    "**Exemple :**\n",
    "```\n",
    ">>> tri([0,1,0,1,0,1,0,1,0])\n",
    "[0, 0, 0, 0, 0, 1, 1, 1, 1]\n",
    "```\n"
   ]
  },
  {
   "cell_type": "code",
   "execution_count": null,
   "id": "176f0235",
   "metadata": {},
   "outputs": [],
   "source": [
    "def tri(tab):\n",
    "    i= ...\n",
    "    j= ...\n",
    "    while i != j :\n",
    "        if tab[i]== 0:\n",
    "            i= ...\n",
    "        else :\n",
    "            valeur = tab[j]\n",
    "            tab[j] = ...\n",
    "            ...\n",
    "            j= ...\n",
    "    ...\n",
    "\n",
    "\n",
    "tri([0,1,0,1,0,1,0,1,0])\n"
   ]
  }
 ],
 "metadata": {
  "kernelspec": {
   "display_name": "Python 3 (ipykernel)",
   "language": "python",
   "name": "python3"
  },
  "language_info": {
   "codemirror_mode": {
    "name": "ipython",
    "version": 3
   },
   "file_extension": ".py",
   "mimetype": "text/x-python",
   "name": "python",
   "nbconvert_exporter": "python",
   "pygments_lexer": "ipython3",
   "version": "3.10.2"
  }
 },
 "nbformat": 4,
 "nbformat_minor": 5
}
