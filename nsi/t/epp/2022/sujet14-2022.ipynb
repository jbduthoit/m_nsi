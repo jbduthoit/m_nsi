{
 "cells": [
  {
   "cell_type": "markdown",
   "id": "da4d5d7d",
   "metadata": {},
   "source": [
    "## Etablissement :"
   ]
  },
  {
   "cell_type": "markdown",
   "id": "be7025d9",
   "metadata": {},
   "source": [
    "## Nom prénom :"
   ]
  },
  {
   "cell_type": "markdown",
   "id": "f846f6f8",
   "metadata": {},
   "source": [
    "<hr>\n",
    "<h1 align=\"center\"; margin:10;>BACCALAUREAT SESSION 2022<br>\n",
    "    Épreuve de l’enseignement de spécialité<br>\n",
    "    NUMERIQUE et SCIENCES INFORMATIQUES<br>\n",
    "    Partie pratique\n",
    "</h1>\n",
    "<h2 align=\"center\">Terminale de la voie générale<br></h2>\n",
    "<hr>"
   ]
  },
  {
   "cell_type": "markdown",
   "id": "6936c39d",
   "metadata": {},
   "source": [
    "\n",
    "## Sujet n° 14\n",
    "___\n",
    "## DUREE DE L’EPREUVE : 1 heure\n",
    "## - Le sujet comporte 2 exercices\n",
    "## - Le candidat doit traiter les 2 exercices."
   ]
  },
  {
   "cell_type": "markdown",
   "id": "352a9954",
   "metadata": {},
   "source": [
    "### EXERCICE 1 (4 points)\n",
    "\n",
    "On considère des mots à trous : ce sont des chaînes de caractères contenant uniquement\n",
    "des majuscules et des caractères '*'. Par exemple 'INFO*MA*IQUE', '***I***E**' et\n",
    "'*S*' sont des mots à trous.\n",
    "Programmer une fonction correspond qui :\n",
    "* prend en paramètres deux chaînes de caractères mot et mot_a_trous où  \n",
    "mot_a_trous est un mot à trous comme indiqué ci-dessus,\n",
    "* renvoie :\n",
    " - True si on peut obtenir mot en remplaçant convenablement les caractères '*' de mot_a_trous.\n",
    " - False sinon.\n",
    "\n",
    "**Exemples :**\n",
    "```\n",
    ">>> correspond('INFORMATIQUE', 'INFO*MA*IQUE')\n",
    "True\n",
    ">>> correspond('AUTOMATIQUE', 'INFO*MA*IQUE')\n",
    "False\n",
    "```"
   ]
  },
  {
   "cell_type": "code",
   "execution_count": null,
   "id": "0fc0efd2",
   "metadata": {},
   "outputs": [],
   "source": [
    "def rendu():\n",
    "    pass\n"
   ]
  },
  {
   "cell_type": "markdown",
   "id": "9043a97b",
   "metadata": {},
   "source": [
    "### EXERCICE 2 (4 points)\n",
    "On considère au plus 26 personnes A, B, C, D, E, F ... qui peuvent s'envoyer des messages\n",
    "avec deux règles à respecter :\n",
    "\n",
    "* chaque personne ne peut envoyer des messages qu'à la même personne (éventuellement elle-même),\n",
    "* chaque personne ne peut recevoir des messages qu'en provenance d'une seule personne (éventuellement elle-même).\n",
    "\n",
    "Voici un exemple - avec 6 personnes - de « plan d'envoi des messages » qui respecte les\n",
    "règles ci-dessus, puisque chaque personne est présente une seule fois dans chaque colonne :\n",
    "\n",
    "- A envoie ses messages à E\n",
    "- E envoie ses messages à B\n",
    "- B envoie ses messages à F\n",
    "- F envoie ses messages à A\n",
    "- C envoie ses messages à D\n",
    "- D envoie ses messages à C\n",
    "\n",
    "Et le dictionnaire correspondant à ce plan d'envoi est le suivant :  \n",
    "\n",
    "plan_a = {'A':'E', 'B':'F', 'C':'D', 'D':'C', 'E':'B', 'F':'A'}  \n",
    "\n",
    "Sur le plan d'envoi plan_a des messages ci-dessus, il y a deux cycles distincts : un premier  \n",
    "cycle avec A, E, B, F et un second cycle avec C et D.  \n",
    "\n",
    "En revanche, le plan d’envoi plan_b ci-dessous :\n",
    "plan_b = {'A':'C', 'B':'F', 'C':'E', 'D':'A', 'E':'B', 'F':'D'}\n",
    "comporte un unique cycle : A, C, E, B, F, D. Dans ce cas, lorsqu’un plan d’envoi comporte un\n",
    "unique cycle, on dit que le plan d’envoi est cyclique.\n",
    "Pour savoir si un plan d'envoi de messages comportant N personnes est cyclique, on peut\n",
    "utiliser l'algorithme ci-dessous :\n",
    "On part de la personne A et on inspecte les N – 1 successeurs dans le plan d'envoi :  \n",
    "- Si un de ces N – 1 successeurs est A lui-même, on a trouvé un cycle de taille\n",
    "\n",
    "inférieure ou égale à N – 1. Il y a donc au moins deux cycles et le plan d'envoi n'est pas cyclique.\n",
    "- Si on ne retombe pas sur A lors de cette inspection, on a un unique cycle qui passe\n",
    "\n",
    "par toutes les personnes : le plan d'envoi est cyclique.\n",
    "\n",
    "Compléter la fonction suivante en respectant la spécification.\n",
    "Remarque : la fonction python len permet d'obtenir la longueur d'un dictionnaire.\n",
    "```\n",
    "def est_cyclique(plan):\n",
    "    '''\n",
    "    Prend en paramètre un dictionnaire `plan` correspondant \n",
    "    à un plan d'envoi de messages entre `N` personnes A, B, C, \n",
    "    D, E, F ...(avec N <= 26).\n",
    "    Renvoie True si le plan d'envoi de messages est cyclique\n",
    "    et False sinon. \n",
    "    '''\n",
    "    personne = 'A'\n",
    "    N = len(...)                          \n",
    "    for i in range(...):\n",
    "        if plan[...] == ...:\n",
    "            return ...\n",
    "        else:\n",
    "            personne = ...\n",
    "    return ...\n",
    " \n",
    "Exemples :\n",
    ">>> est_cyclique({'A':'E', 'F':'A', 'C':'D', 'E':'B', 'B':'F', 'D':'C'})\n",
    "False\n",
    ">>> est_cyclique({'A':'E', 'F':'C', 'C':'D', 'E':'B', 'B':'F', 'D':'A'})\n",
    "True\n",
    ">>> est_cyclique({'A':'B', 'F':'C', 'C':'D', 'E':'A', 'B':'F', 'D':'E'})\n",
    "True\n",
    ">>> est_cyclique({'A':'B', 'F':'A', 'C':'D', 'E':'C', 'B':'F', 'D':'E'})\n",
    "False\n",
    "\n",
    "```"
   ]
  },
  {
   "cell_type": "code",
   "execution_count": null,
   "id": "176f0235",
   "metadata": {},
   "outputs": [],
   "source": [
    "def est_cyclique(plan):\n",
    "    '''\n",
    "    Prend en paramètre un dictionnaire `plan` correspondant \n",
    "    à un plan d'envoi de messages entre `N` personnes A, B, C, \n",
    "    D, E, F ...(avec N <= 26).\n",
    "    Renvoie True si le plan d'envoi de messages est cyclique\n",
    "    et False sinon. \n",
    "    '''\n",
    "    personne = 'A'\n",
    "    N = len(...)                          \n",
    "    for i in range(...):\n",
    "        if plan[...] == ...:\n",
    "            return ...\n",
    "        else:\n",
    "            personne = ...\n",
    "    return ...\n",
    "\n",
    "assert est_cyclique({'A':'E', 'F':'A', 'C':'D', 'E':'B', 'B':'F', 'D':'C'})== False\n",
    "assert est_cyclique({'A':'E', 'F':'C', 'C':'D', 'E':'B', 'B':'F', 'D':'A'})== True\n",
    "assert est_cyclique({'A':'B', 'F':'C', 'C':'D', 'E':'A', 'B':'F', 'D':'E'})== True\n",
    "assert est_cyclique({'A':'B', 'F':'A', 'C':'D', 'E':'C', 'B':'F', 'D':'E'})== False\n"
   ]
  }
 ],
 "metadata": {
  "kernelspec": {
   "display_name": "Python 3",
   "language": "python",
   "name": "python3"
  },
  "language_info": {
   "codemirror_mode": {
    "name": "ipython",
    "version": 3
   },
   "file_extension": ".py",
   "mimetype": "text/x-python",
   "name": "python",
   "nbconvert_exporter": "python",
   "pygments_lexer": "ipython3",
   "version": "3.9.9"
  }
 },
 "nbformat": 4,
 "nbformat_minor": 5
}
