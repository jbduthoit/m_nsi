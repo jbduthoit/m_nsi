{
 "cells": [
  {
   "cell_type": "markdown",
   "id": "da4d5d7d",
   "metadata": {},
   "source": [
    "## Etablissement :"
   ]
  },
  {
   "cell_type": "markdown",
   "id": "be7025d9",
   "metadata": {},
   "source": [
    "## Nom prénom :"
   ]
  },
  {
   "cell_type": "markdown",
   "id": "f846f6f8",
   "metadata": {},
   "source": [
    "<hr>\n",
    "<h1 align=\"center\"; margin:10;>BACCALAUREAT SESSION 2022<br>\n",
    "    Épreuve de l’enseignement de spécialité<br>\n",
    "    NUMERIQUE et SCIENCES INFORMATIQUES<br>\n",
    "    Partie pratique\n",
    "</h1>\n",
    "<h2 align=\"center\">Terminale de la voie générale<br></h2>\n",
    "<hr>"
   ]
  },
  {
   "cell_type": "markdown",
   "id": "6936c39d",
   "metadata": {},
   "source": [
    "\n",
    "## Sujet n° 15\n",
    "___\n",
    "## DUREE DE L’EPREUVE : 1 heure\n",
    "## - Le sujet comporte 2 exercices\n",
    "## - Le candidat doit traiter les 2 exercices."
   ]
  },
  {
   "cell_type": "markdown",
   "id": "352a9954",
   "metadata": {},
   "source": [
    "### EXERCICE 1 (4 points)\n",
    "\n",
    "Écrire une fonction python appelée nb_repetitions qui prend en paramètres   \n",
    "un élément elt et une liste tab et renvoie le nombre de fois où l’élément apparaît dans la liste.\n",
    "\n",
    "**Exemples :**\n",
    "\n",
    "```\n",
    ">>> nb_repetitions(5,[2,5,3,5,6,9,5])\n",
    "3\n",
    ">>> nb_repetitions('A',[ 'B', 'A', 'B', 'A', 'R'])\n",
    "2\n",
    ">>> nb_repetitions(12,[1, '! ',7,21,36,44])\n",
    "0\n",
    "```\n"
   ]
  },
  {
   "cell_type": "code",
   "execution_count": null,
   "id": "0fc0efd2",
   "metadata": {},
   "outputs": [],
   "source": [
    "def nb_repetitions():\n",
    "    pass\n",
    "\n",
    "assert nb_repetitions(5,[2,5,3,5,6,9,5])== 3\n",
    "assert nb_repetitions('A',[ 'B', 'A', 'B', 'A', 'R'])== 2\n",
    "assert nb_repetitions(12,[1, '! ',7,21,36,44]) == 0\n"
   ]
  },
  {
   "cell_type": "markdown",
   "id": "9043a97b",
   "metadata": {},
   "source": [
    "### EXERCICE 2 (4 points)\n",
    "Pour rappel, la conversion d’un nombre entier positif en binaire peut s’effectuer à l’aide des divisions successives comme illustré ici :\n",
    "\n",
    "![](img15_2.png)\n",
    "\n",
    "Voici une fonction python basée sur la méthode des divisions successives permettant de convertir un nombre entier positif en binaire :\n",
    "\n",
    "**Compléter la fonction binaire.**\n",
    "\n",
    "```\n",
    "def binaire(a):\n",
    "    bin_a = str(...)\n",
    "    a = a // 2\n",
    "    while a ... :\n",
    "        bin_a = ...(a%2) + ...\n",
    "        a = ...\n",
    "    return bin_a\n",
    "```\n",
    "\n",
    "\n",
    "**Exemples :**\n",
    "```\n",
    ">>> binaire(0)\n",
    "'0'\n",
    ">>> binaire(77)\n",
    "'1001101'\n",
    "```\n"
   ]
  },
  {
   "cell_type": "code",
   "execution_count": null,
   "id": "176f0235",
   "metadata": {},
   "outputs": [],
   "source": [
    "def binaire(a):\n",
    "    bin_a = str(...)\n",
    "    a = a // 2\n",
    "    while a ... :\n",
    "        bin_a = ...(a%2) + ...\n",
    "        a = ...\n",
    "    return bin_a\n"
   ]
  }
 ],
 "metadata": {
  "kernelspec": {
   "display_name": "Python 3 (ipykernel)",
   "language": "python",
   "name": "python3"
  },
  "language_info": {
   "codemirror_mode": {
    "name": "ipython",
    "version": 3
   },
   "file_extension": ".py",
   "mimetype": "text/x-python",
   "name": "python",
   "nbconvert_exporter": "python",
   "pygments_lexer": "ipython3",
   "version": "3.10.2"
  }
 },
 "nbformat": 4,
 "nbformat_minor": 5
}
