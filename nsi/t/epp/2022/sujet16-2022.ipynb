{
 "cells": [
  {
   "cell_type": "markdown",
   "id": "da4d5d7d",
   "metadata": {},
   "source": [
    "## Etablissement :"
   ]
  },
  {
   "cell_type": "markdown",
   "id": "be7025d9",
   "metadata": {},
   "source": [
    "## Nom prénom :"
   ]
  },
  {
   "cell_type": "markdown",
   "id": "f846f6f8",
   "metadata": {},
   "source": [
    "<hr>\n",
    "<h1 align=\"center\"; margin:10;>BACCALAUREAT SESSION 2022<br>\n",
    "    Épreuve de l’enseignement de spécialité<br>\n",
    "    NUMERIQUE et SCIENCES INFORMATIQUES<br>\n",
    "    Partie pratique\n",
    "</h1>\n",
    "<h2 align=\"center\">Terminale de la voie générale<br></h2>\n",
    "<hr>"
   ]
  },
  {
   "cell_type": "markdown",
   "id": "6936c39d",
   "metadata": {},
   "source": [
    "\n",
    "## Sujet n° 16\n",
    "___\n",
    "## DUREE DE L’EPREUVE : 1 heure\n",
    "## - Le sujet comporte 2 exercices\n",
    "## - Le candidat doit traiter les 2 exercices."
   ]
  },
  {
   "cell_type": "markdown",
   "id": "352a9954",
   "metadata": {},
   "source": [
    "### EXERCICE 1 (4 points)\n",
    "Écrire une fonction maxi qui prend en paramètre une liste tab de nombres entiers et  \n",
    "renvoie un couple donnant le plus grand élément de cette liste, ainsi que l’indice de la  \n",
    "première apparition de ce maximum dans la liste.  \n",
    "\n",
    "**Exemple :**\n",
    "\n",
    "```\n",
    ">>> maxi([1,5,6,9,1,2,3,7,9,8])\n",
    "(9,3)\n",
    "```\n"
   ]
  },
  {
   "cell_type": "code",
   "execution_count": null,
   "id": "0fc0efd2",
   "metadata": {},
   "outputs": [],
   "source": [
    "def maxi():\n",
    "    pass\n"
   ]
  },
  {
   "cell_type": "markdown",
   "id": "9043a97b",
   "metadata": {},
   "source": [
    "### EXERCICE 2 (4 points)\n",
    "Cet exercice utilise des piles qui seront représentées en Python par des listes (type list).  \n",
    "On rappelle que l’expression T1 = list(T)fait une copie de T indépendante de T, que  \n",
    "l’expression x = T.pop()enlève le sommet de la pile T et le place dans la variable x et,  \n",
    "enfin, que l’expression T.append(v)place la valeur v au sommet de la pile T.  \n",
    "Compléter le code Python de la fonction positif ci-dessous qui prend une pile T de  \n",
    "nombres entiers en paramètre et qui renvoie la pile des entiers positifs dans le même  \n",
    "ordre, sans modifier la variable T.  \n",
    "\n",
    "```\n",
    "def positif(T):\n",
    "    T2 = ...(T)\n",
    "    T3 = ...\n",
    "    while T2 != []:\n",
    "        x = ...\n",
    "        if ... >= 0:\n",
    "            T3.append(...)\n",
    "    T2 = []\n",
    "    while T3 != ...:\n",
    "        x = T3.pop()\n",
    "        ...\n",
    "    print('T = ',T)\n",
    "    return T2\n",
    "```\n",
    "\n",
    "**Exemple :**\n",
    "```\n",
    ">>> positif([-1,0,5,-3,4,-6,10,9,-8 ])\n",
    "T = [-1, 0, 5, -3, 4, -6, 10, 9, -8]\n",
    "[0, 5, 4, 10, 9]\n",
    "```\n"
   ]
  },
  {
   "cell_type": "code",
   "execution_count": null,
   "id": "176f0235",
   "metadata": {},
   "outputs": [],
   "source": [
    "def positif(T):\n",
    "    T2 = ...(T)\n",
    "    T3 = ...\n",
    "    while T2 != []:\n",
    "        x = ...\n",
    "        if ... >= 0:\n",
    "            T3.append(...)\n",
    "    T2 = []\n",
    "    while T3 != ...:\n",
    "        x = T3.pop()\n",
    "        ...\n",
    "    print('T = ',T)\n",
    "    return T2\n",
    "\n",
    "positif([-1,0,5,-3,4,-6,10,9,-8 ])\n"
   ]
  }
 ],
 "metadata": {
  "kernelspec": {
   "display_name": "Python 3",
   "language": "python",
   "name": "python3"
  },
  "language_info": {
   "codemirror_mode": {
    "name": "ipython",
    "version": 3
   },
   "file_extension": ".py",
   "mimetype": "text/x-python",
   "name": "python",
   "nbconvert_exporter": "python",
   "pygments_lexer": "ipython3",
   "version": "3.9.9"
  }
 },
 "nbformat": 4,
 "nbformat_minor": 5
}
