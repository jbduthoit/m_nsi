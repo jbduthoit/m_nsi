{
 "cells": [
  {
   "cell_type": "markdown",
   "id": "da4d5d7d",
   "metadata": {},
   "source": [
    "## Etablissement :"
   ]
  },
  {
   "cell_type": "markdown",
   "id": "be7025d9",
   "metadata": {},
   "source": [
    "## Nom prénom :"
   ]
  },
  {
   "cell_type": "markdown",
   "id": "f846f6f8",
   "metadata": {},
   "source": [
    "<hr>\n",
    "<h1 align=\"center\"; margin:10;>BACCALAUREAT SESSION 2022<br>\n",
    "    Épreuve de l’enseignement de spécialité<br>\n",
    "    NUMERIQUE et SCIENCES INFORMATIQUES<br>\n",
    "    Partie pratique\n",
    "</h1>\n",
    "<h2 align=\"center\">Terminale de la voie générale<br></h2>\n",
    "<hr>"
   ]
  },
  {
   "cell_type": "markdown",
   "id": "6936c39d",
   "metadata": {},
   "source": [
    "\n",
    "## Sujet n° 18\n",
    "___\n",
    "## DUREE DE L’EPREUVE : 1 heure\n",
    "## - Le sujet comporte 2 exercices\n",
    "## - Le candidat doit traiter les 2 exercices."
   ]
  },
  {
   "cell_type": "markdown",
   "id": "352a9954",
   "metadata": {},
   "source": [
    "### EXERCICE 1 (4 points)\n",
    "\n",
    "On a relevé les valeurs moyennes annuelles des températures à Paris pour la période  \n",
    "allant de 2013 à 2019. Les résultats ont été récupérés sous la forme de deux listes : \n",
    "l’une pour les températures, l’autre pour les années :  \n",
    "\n",
    "t_moy = [14.9, 13.3, 13.1, 12.5, 13.0, 13.6, 13.7]\n",
    "\n",
    "annees = [2013, 2014, 2015, 2016, 2017, 2018, 2019]\n",
    "\n",
    "Écrire la fonction mini qui prend en paramètres le tableau releve des relevés et le  \n",
    "tableau date des dates et qui renvoie la plus petite valeur relevée au cours de la  \n",
    "période et l’année correspondante.  \n",
    "\n",
    "**Exemple :**\n",
    "```\n",
    ">>> mini(t_moy, annees)\n",
    "12.5, 2016\n",
    "```\n"
   ]
  },
  {
   "cell_type": "code",
   "execution_count": null,
   "id": "0fc0efd2",
   "metadata": {},
   "outputs": [],
   "source": [
    "def mini():\n",
    "    pass\n",
    "\n",
    "t_moy = [14.9, 13.3, 13.1, 12.5, 13.0, 13.6, 13.7]\n",
    "annees = [2013, 2014, 2015, 2016, 2017, 2018, 2019]\n",
    "\n",
    "mini(t_moy, annees)\n"
   ]
  },
  {
   "cell_type": "markdown",
   "id": "9043a97b",
   "metadata": {},
   "source": [
    "### EXERCICE 2 (4 points)\n",
    "Un mot palindrome peut se lire de la même façon de gauche à droite ou de droite à gauche : bob, radar, et non sont des mots palindromes.  \n",
    "De même certains nombres sont eux aussi des palindromes : 33, 121, 345543.  \n",
    "L’objectif de cet exercice est d’obtenir un programme Python permettant de tester si un nombre est un nombre palindrome.  \n",
    "Pour remplir cette tâche, on vous demande de compléter le code des trois fonctions ci-dessous sachant que la fonction est_nbre_palindrome s’appuiera sur la fonction  \n",
    "est_palindrome qui elle-même s’appuiera sur la fonction inverse_chaine.  \n",
    "La fonction inverse_chaine inverse l'ordre des caractères d'une chaîne de caractères chaine et renvoie la chaîne inversée.  \n",
    "La fonction est_palindrome teste si une chaine de caractères chaine est un palindrome.   \n",
    "Elle renvoie True si c’est le cas et False sinon. Cette fonction s’appuie sur la fonction précédente.  \n",
    "La fonction est_nbre_palindrome teste si un nombre nbre est un palindrome.   \n",
    "Elle renvoie True si c’est le cas et False sinon. Cette fonction s’appuie sur la fonction précédente.  \n",
    "\n",
    "```\n",
    "Compléter le code des trois fonctions ci-dessous.\n",
    "def inverse_chaine(chaine):\n",
    "    result = ...\n",
    "    for caractere in chaine:\n",
    "       result = ...\n",
    "    return result\n",
    "\n",
    "def est_palindrome(chaine):\n",
    "    inverse = inverse_chaine(chaine)\n",
    "    return ...\n",
    "    \n",
    "def est_nbre_palindrome(nbre):\n",
    "    chaine = ...\n",
    "    return est_palindrome(chaine)\n",
    "\n",
    "```\n",
    "\n",
    "**Exemples :**\n",
    "```\n",
    ">>> inverse_chaine('bac')\n",
    "'cab'\n",
    "\n",
    ">>> est_palindrome('NSI')\n",
    "False\n",
    "\n",
    ">>> est_palindrome('ISN-NSI')\n",
    "True\n",
    "\n",
    ">>>est_nbre_palindrome(214312)\n",
    "False\n",
    "\n",
    ">>>est_nbre_palindrome(213312)\n",
    "True\n",
    "\n",
    "```\n"
   ]
  },
  {
   "cell_type": "code",
   "execution_count": null,
   "id": "176f0235",
   "metadata": {},
   "outputs": [],
   "source": [
    "def inverse_chaine(chaine):\n",
    "    result = ...\n",
    "    for caractere in chaine:\n",
    "        result = ...\n",
    "    return result\n",
    "\n",
    "def est_palindrome(chaine):\n",
    "    inverse = inverse_chaine(chaine)\n",
    "    return ...\n",
    "    \n",
    "def est_nbre_palindrome(nbre):\n",
    "    chaine = ...\n",
    "    return est_palindrome(chaine)\n",
    "\n",
    "assert inverse_chaine('bac')=='cab'\n",
    "assert est_palindrome('NSI')== False\n",
    "assert est_palindrome('ISN-NSI')==True\n",
    "assert est_nbre_palindrome(214312)==False\n",
    "assert est_nbre_palindrome(213312)==True\n"
   ]
  }
 ],
 "metadata": {
  "kernelspec": {
   "display_name": "Python 3 (ipykernel)",
   "language": "python",
   "name": "python3"
  },
  "language_info": {
   "codemirror_mode": {
    "name": "ipython",
    "version": 3
   },
   "file_extension": ".py",
   "mimetype": "text/x-python",
   "name": "python",
   "nbconvert_exporter": "python",
   "pygments_lexer": "ipython3",
   "version": "3.10.2"
  }
 },
 "nbformat": 4,
 "nbformat_minor": 5
}
