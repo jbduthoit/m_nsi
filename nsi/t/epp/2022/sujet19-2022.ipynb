{
 "cells": [
  {
   "cell_type": "markdown",
   "id": "da4d5d7d",
   "metadata": {},
   "source": [
    "## Etablissement :"
   ]
  },
  {
   "cell_type": "markdown",
   "id": "be7025d9",
   "metadata": {},
   "source": [
    "## Nom prénom :"
   ]
  },
  {
   "cell_type": "markdown",
   "id": "f846f6f8",
   "metadata": {},
   "source": [
    "<hr>\n",
    "<h1 align=\"center\"; margin:10;>BACCALAUREAT SESSION 2022<br>\n",
    "    Épreuve de l’enseignement de spécialité<br>\n",
    "    NUMERIQUE et SCIENCES INFORMATIQUES<br>\n",
    "    Partie pratique\n",
    "</h1>\n",
    "<h2 align=\"center\">Terminale de la voie générale<br></h2>\n",
    "<hr>"
   ]
  },
  {
   "cell_type": "markdown",
   "id": "6936c39d",
   "metadata": {},
   "source": [
    "\n",
    "## Sujet n° 19\n",
    "___\n",
    "## DUREE DE L’EPREUVE : 1 heure\n",
    "## - Le sujet comporte 2 exercices\n",
    "## - Le candidat doit traiter les 2 exercices."
   ]
  },
  {
   "cell_type": "markdown",
   "id": "352a9954",
   "metadata": {},
   "source": [
    "### EXERCICE 1 (4 points)\n",
    "\n",
    "Programmer la fonction multiplication prenant en paramètres deux nombres entiers  \n",
    "n1 et n2, et qui renvoie le produit de ces deux nombres.  \n",
    "Les seules opérations autorisées sont l’addition et la soustraction.  \n",
    "\n",
    "**Exemples :**\n",
    "```\n",
    ">>> multiplication(3,5)\n",
    "15\n",
    "\n",
    ">>> multiplication(-4,-8)\n",
    "32\n",
    "\n",
    ">>> multiplication(-2,6)\n",
    "-12\n",
    "\n",
    ">>> multiplication(-2,0)\n",
    "0\n",
    "```"
   ]
  },
  {
   "cell_type": "code",
   "execution_count": null,
   "id": "0fc0efd2",
   "metadata": {},
   "outputs": [],
   "source": [
    "def multiplication():\n",
    "    pass\n",
    "\n",
    "assert multiplication(3,5) ==15\n",
    "assert multiplication(-4,-8)==32\n",
    "assert multiplication(-2,6)==-12\n",
    "assert multiplication(-2,0)==0\n"
   ]
  },
  {
   "cell_type": "markdown",
   "id": "9043a97b",
   "metadata": {},
   "source": [
    "### EXERCICE 2 (4 points)\n",
    "\n",
    "Soit T un tableau non vide d'entiers triés dans l'ordre croissant et n un entier.  \n",
    "La fonction chercher, donnée à la page suivante, doit renvoyer un indice où la valeur n apparaît éventuellement dans T, et None sinon.  \n",
    "Les paramètres de la fonction sont :  \n",
    "\n",
    "- T, le tableau dans lequel s'effectue la recherche ;\n",
    "- n, l'entier à chercher dans le tableau ;\n",
    "- i, l'indice de début de la partie du tableau où s'effectue la recherche ;\n",
    "- j, l'indice de fin de la partie du tableau où s'effectue la recherche.\n",
    "\n",
    "La fonction chercher est une fonction récursive basée sur le principe « diviser pour régner ».  \n",
    "Le code de la fonction commence par vérifier si 0 <= i et j < len(T).  \n",
    "Si cette condition n’est pas vérifiée, elle affiche \"Erreur\" puis renvoie None.  \n",
    "\n",
    "Recopier et compléter le code de la fonction chercher proposée ci-dessous :\n",
    "```\n",
    "def chercher(T,n,i,j):\n",
    "    if i < 0 or ??? :\n",
    "        print(\"Erreur\")\n",
    "        return None    \n",
    "    if i > j :\n",
    "        return None\n",
    "    m = (i+j) // ???\n",
    "    if T[m] < ??? :\n",
    "        return chercher(T, n, ??? , ???)\n",
    "    elif ??? :\n",
    "        return chercher(T, n, ??? , ??? )\n",
    "    else :\n",
    "        return ??? \n",
    "```\n",
    "\n",
    "**L’exécution du code doit donner :**\n",
    "\n",
    "```\n",
    ">>> chercher([1,5,6,6,9,12],7,0,10)\n",
    "Erreur\n",
    "\n",
    ">>> chercher([1,5,6,6,9,12],7,0,5)\n",
    "\n",
    ">>> chercher([1,5,6,6,9,12],9,0,5)\n",
    "4\n",
    "\n",
    ">>> chercher([1,5,6,6,9,12],6,0,5)\n",
    "2\n",
    "```\n"
   ]
  },
  {
   "cell_type": "code",
   "execution_count": null,
   "id": "176f0235",
   "metadata": {},
   "outputs": [],
   "source": [
    "def chercher(T,n,i,j):\n",
    "    if i < 0 or ??? :\n",
    "        print(\"Erreur\")\n",
    "        return None    \n",
    "    if i > j :\n",
    "        return None\n",
    "    m = (i+j) // ???\n",
    "    if T[m] < ??? :\n",
    "        return chercher(T, n, ??? , ???)\n",
    "    elif ??? :\n",
    "        return chercher(T, n, ??? , ??? )\n",
    "    else :\n",
    "        return ??? \n",
    "\n",
    "\n",
    "print(chercher([1,5,6,6,9,12],7,0,10)\n",
    "print(chercher([1,5,6,6,9,12],7,0,5)\n",
    "print(chercher([1,5,6,6,9,12],9,0,5)\n",
    "print(chercher([1,5,6,6,9,12],6,0,5)\n",
    "\n"
   ]
  }
 ],
 "metadata": {
  "kernelspec": {
   "display_name": "Python 3",
   "language": "python",
   "name": "python3"
  },
  "language_info": {
   "codemirror_mode": {
    "name": "ipython",
    "version": 3
   },
   "file_extension": ".py",
   "mimetype": "text/x-python",
   "name": "python",
   "nbconvert_exporter": "python",
   "pygments_lexer": "ipython3",
   "version": "3.9.9"
  }
 },
 "nbformat": 4,
 "nbformat_minor": 5
}
