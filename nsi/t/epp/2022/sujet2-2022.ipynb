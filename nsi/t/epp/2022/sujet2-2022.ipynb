{
 "cells": [
  {
   "cell_type": "markdown",
   "id": "da4d5d7d",
   "metadata": {},
   "source": [
    "## Etablissement"
   ]
  },
  {
   "cell_type": "markdown",
   "id": "be7025d9",
   "metadata": {},
   "source": [
    "## Nom prénom :"
   ]
  },
  {
   "cell_type": "markdown",
   "id": "6936c39d",
   "metadata": {},
   "source": [
    "<hr>\n",
    "<h1 align=\"center\"; margin:10;>BACCALAUREAT SESSION 2022<br>\n",
    "    Épreuve de l’enseignement de spécialité<br>\n",
    "    NUMERIQUE et SCIENCES INFORMATIQUES<br>\n",
    "    Partie pratique\n",
    "</h1>\n",
    "<h2 align=\"center\">Terminale de la voie générale<br></h2>\n",
    "<hr>"
   ]
  },
  {
   "cell_type": "markdown",
   "id": "812c4ea9",
   "metadata": {},
   "source": [
    "## Sujet n° 2\n",
    "___\n",
    "## DUREE DE L’EPREUVE : 1 heure\n",
    "## - Le sujet comporte 2 exercices\n",
    "## - Le candidat doit traiter les 2 exercices."
   ]
  },
  {
   "cell_type": "markdown",
   "id": "352a9954",
   "metadata": {},
   "source": [
    "### EXERCICE 1 (4 points)\n",
    "\n",
    "Soit le couple (note,coefficient):  \n",
    " note est un nombre de type flottant (*float) compris entre 0 et 20 ;  \n",
    " coefficient est un nombre entier positif.  \n",
    "Les résultats aux évaluations d'un élève sont regroupés dans une liste composée de couples (note,coefficient).  \n",
    "Écrire une fonction moyenne qui renvoie la moyenne pondérée de cette liste donnée en paramètre.  \n",
    "Par exemple, l’expression moyenne([(15,2),(9,1),(12,3)]) devra renvoyer le\n",
    "\n",
    "résultat du calcul suivant :\n",
    "\n",
    "Exemples :\n",
    "$$\\frac{2 × 15 + 1 × 9 + 3 × 12}{2+1+3}= 12,5$$\n"
   ]
  },
  {
   "cell_type": "code",
   "execution_count": null,
   "id": "0fc0efd2",
   "metadata": {},
   "outputs": [],
   "source": [
    "def moyenne(notes):\n",
    "    pass\n",
    "\n",
    "assert  moyenne([(15,2),(9,1),(12,3)])==12.5,'erreur 1'\n"
   ]
  },
  {
   "cell_type": "markdown",
   "id": "9043a97b",
   "metadata": {},
   "source": [
    "### EXERCICE 2 (4 points)\n",
    "On cherche à déterminer les valeurs du triangle de Pascal. Dans ce tableau de forme  \n",
    "triangulaire, chaque ligne commence et se termine par le nombre 1. Par ailleurs, la valeur  \n",
    "qui occupe une case située à l’intérieur du tableau s’obtient en ajoutant les valeurs des  \n",
    "deux cases situées juste au-dessus, comme l’indique la figure suivante :  \n",
    "![](img2.png)\n",
    "Compléter la fonction pascal ci-après. Elle doit renvoyer une liste correspondant au  \n",
    "triangle de Pascal de la ligne 1 à la ligne n où n est un nombre entier supérieur ou égal à  \n",
    "2 (le tableau sera contenu dans la variable C). La variable Ck doit, quant à elle, contenir,  \n",
    "à l’étape numéro k, la k-ième ligne du tableau.  \n",
    "\n",
    "```\n",
    "def pascal(n):\n",
    "    C= [[1]]\n",
    "    for k in range(1,...):\n",
    "        Ck = [...]\n",
    "        for i in range(1,k):\n",
    "            Ck.append(C[...][i-1]+C[...][...] )\n",
    "        Ck.append(...)\n",
    "        C.append(Ck)\n",
    "    return C\n",
    "\n",
    "Pour n = 4, voici ce que l’on devra obtenir :\n",
    "\n",
    ">> pascal(4)\n",
    "[[1], [1, 1], [1, 2, 1], [1, 3, 3, 1], [1, 4, 6, 4, 1]]\n",
    "Et pour n = 5, voici ce que l’on devra obtenir :\n",
    "\n",
    ">> pascal(5)\n",
    "[[1], [1, 1], [1, 2, 1], [1, 3, 3, 1], [1, 4, 6, 4, 1], [1, 5, 10,\n",
    "10, 5, 1]]\n",
    "\n",
    "```\n"
   ]
  },
  {
   "cell_type": "code",
   "execution_count": null,
   "id": "176f0235",
   "metadata": {},
   "outputs": [],
   "source": [
    "def pascal(n):\n",
    "    C= [[1]]\n",
    "    for k in range(1,...):\n",
    "        Ck = [...]\n",
    "        for i in range(1,k):\n",
    "            Ck.append(C[...][i-1]+C[...][...] )\n",
    "        Ck.append(...)\n",
    "        C.append(Ck)\n",
    "    return C\n",
    "\n",
    "# Pour n = 4, voici ce que l’on devra obtenir :\n",
    "assert pascal(4) ==[[1], [1, 1], [1, 2, 1], [1, 3, 3, 1], [1, 4, 6, 4, 1]]\n",
    "\n",
    "#Et pour n = 5, voici ce que l’on devra obtenir :\n",
    "assert pascal(5) ==[[1], [1, 1], [1, 2, 1], [1, 3, 3, 1], [1, 4, 6, 4, 1], [1, 5, 10,10, 5, 1]]\n"
   ]
  }
 ],
 "metadata": {
  "kernelspec": {
   "display_name": "Python 3 (ipykernel)",
   "language": "python",
   "name": "python3"
  },
  "language_info": {
   "codemirror_mode": {
    "name": "ipython",
    "version": 3
   },
   "file_extension": ".py",
   "mimetype": "text/x-python",
   "name": "python",
   "nbconvert_exporter": "python",
   "pygments_lexer": "ipython3",
   "version": "3.10.2"
  }
 },
 "nbformat": 4,
 "nbformat_minor": 5
}
