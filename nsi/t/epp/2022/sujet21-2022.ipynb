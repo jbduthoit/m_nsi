{
 "cells": [
  {
   "cell_type": "markdown",
   "id": "da4d5d7d",
   "metadata": {},
   "source": [
    "## Etablissement :"
   ]
  },
  {
   "cell_type": "markdown",
   "id": "be7025d9",
   "metadata": {},
   "source": [
    "## Nom prénom :"
   ]
  },
  {
   "cell_type": "markdown",
   "id": "f846f6f8",
   "metadata": {},
   "source": [
    "<hr>\n",
    "<h1 align=\"center\"; margin:10;>BACCALAUREAT SESSION 2022<br>\n",
    "    Épreuve de l’enseignement de spécialité<br>\n",
    "    NUMERIQUE et SCIENCES INFORMATIQUES<br>\n",
    "    Partie pratique\n",
    "</h1>\n",
    "<h2 align=\"center\">Terminale de la voie générale<br></h2>\n",
    "<hr>"
   ]
  },
  {
   "cell_type": "markdown",
   "id": "6936c39d",
   "metadata": {},
   "source": [
    "\n",
    "## Sujet n° 21\n",
    "___\n",
    "## DUREE DE L’EPREUVE : 1 heure\n",
    "## - Le sujet comporte 2 exercices\n",
    "## - Le candidat doit traiter les 2 exercices."
   ]
  },
  {
   "cell_type": "markdown",
   "id": "352a9954",
   "metadata": {},
   "source": [
    "### EXERCICE 1 (4 points)\n",
    "Programmer la fonction multiplication, prenant en paramètres deux nombres entiers  \n",
    "n1 et n2, et qui renvoie le produit de ces deux nombres.  \n",
    "Les seules opérations autorisées sont l’addition et la soustraction.  \n",
    "\n",
    "**Exemples :**\n",
    "```\n",
    ">>> multiplication(3,5)\n",
    "15\n",
    "\n",
    ">>> multiplication(-4,-8)\n",
    "32\n",
    "\n",
    ">>> multiplication(-2,6)\n",
    "-12\n",
    "\n",
    ">>> multiplication(-2,0)\n",
    "0\n",
    "```\n"
   ]
  },
  {
   "cell_type": "code",
   "execution_count": null,
   "id": "0fc0efd2",
   "metadata": {},
   "outputs": [],
   "source": [
    "def  multiplication(n1,n2) :\n",
    "    pass\n",
    "\n",
    "\n",
    "assert multiplication(3,5)==15\n",
    "assert multiplication(-4,-8)==32\n",
    "assert multiplication(-2,6)== -12\n",
    "assert multiplication(-2,0)== 0"
   ]
  },
  {
   "cell_type": "markdown",
   "id": "9043a97b",
   "metadata": {},
   "source": [
    "### EXERCICE 2 (4 points)\n",
    "Recopier et compléter sous Python la fonction suivante en respectant la spécification. On ne recopiera pas les commentaires.\n",
    "```\n",
    "def dichotomie(tab, x):\n",
    "    \"\"\"\n",
    "    tab : tableau d’entiers trié dans l’ordre croissant\n",
    "    x : nombre entier\n",
    "    La fonction renvoie True si tab contient x et False sinon\n",
    "    \"\"\"\n",
    "\n",
    "    debut = 0 \n",
    "    fin = len(tab) - 1\n",
    "    while debut <= fin:\n",
    "        m = ...\n",
    "        if x == tab[m]:\n",
    "            return ...\n",
    "        if x > tab[m]:\n",
    "            debut = m + 1\n",
    "        else:\n",
    "             fin = ...\n",
    "    return ...\n",
    "\n",
    "```\n",
    "**Exemples :**\n",
    "```\n",
    "assert dichotomie([15, 16, 18, 19, 23, 24, 28, 29, 31, 33],28) == True\n",
    "assert dichotomie([15, 16, 18, 19, 23, 24, 28, 29, 31, 33],27)  == False\n",
    "```\n"
   ]
  },
  {
   "cell_type": "code",
   "execution_count": null,
   "id": "176f0235",
   "metadata": {},
   "outputs": [],
   "source": [
    "def dichotomie(tab, x):\n",
    "    \"\"\"\n",
    "    tab : tableau d’entiers trié dans l’ordre croissant\n",
    "    x : nombre entier\n",
    "    La fonction renvoie True si tab contient x et False sinon\n",
    "    \"\"\"\n",
    "\n",
    "    debut = 0 \n",
    "    fin = len(tab) - 1\n",
    "    while debut <= fin:\n",
    "        m = ...\n",
    "        if x == tab[m]:\n",
    "            return ...\n",
    "        if x > tab[m]:\n",
    "            debut = m + 1\n",
    "        else:\n",
    "             fin = ...\n",
    "    return ...\n",
    "\n",
    "assert dichotomie([15, 16, 18, 19, 23, 24, 28, 29, 31, 33],28) == True\n",
    "assert dichotomie([15, 16, 18, 19, 23, 24, 28, 29, 31, 33],27)  == False\n"
   ]
  }
 ],
 "metadata": {
  "kernelspec": {
   "display_name": "Python 3",
   "language": "python",
   "name": "python3"
  },
  "language_info": {
   "codemirror_mode": {
    "name": "ipython",
    "version": 3
   },
   "file_extension": ".py",
   "mimetype": "text/x-python",
   "name": "python",
   "nbconvert_exporter": "python",
   "pygments_lexer": "ipython3",
   "version": "3.9.9"
  }
 },
 "nbformat": 4,
 "nbformat_minor": 5
}
