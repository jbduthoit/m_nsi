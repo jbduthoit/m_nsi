{
 "cells": [
  {
   "cell_type": "markdown",
   "id": "da4d5d7d",
   "metadata": {},
   "source": [
    "## Etablissement :"
   ]
  },
  {
   "cell_type": "markdown",
   "id": "be7025d9",
   "metadata": {},
   "source": [
    "## Nom prénom :"
   ]
  },
  {
   "cell_type": "markdown",
   "id": "f846f6f8",
   "metadata": {},
   "source": [
    "<hr>\n",
    "<h1 align=\"center\"; margin:10;>BACCALAUREAT SESSION 2022<br>\n",
    "    Épreuve de l’enseignement de spécialité<br>\n",
    "    NUMERIQUE et SCIENCES INFORMATIQUES<br>\n",
    "    Partie pratique\n",
    "</h1>\n",
    "<h2 align=\"center\">Terminale de la voie générale<br></h2>\n",
    "<hr>"
   ]
  },
  {
   "cell_type": "markdown",
   "id": "6936c39d",
   "metadata": {},
   "source": [
    "\n",
    "## Sujet n° 22\n",
    "___\n",
    "## DUREE DE L’EPREUVE : 1 heure\n",
    "## - Le sujet comporte 2 exercices\n",
    "## - Le candidat doit traiter les 2 exercices."
   ]
  },
  {
   "cell_type": "markdown",
   "id": "352a9954",
   "metadata": {},
   "source": [
    "### EXERCICE 1 (4 points)\n",
    "\n",
    "Programmer une fonction renverse, prenant en paramètre une chaîne de caractères non vide\n",
    "mot et renvoie une chaîne de caractères en inversant ceux de la chaîne mot.\n",
    "\n",
    "**Exemple :**\n",
    "```\n",
    ">>> renverse(\"informatique\")\n",
    "\"euqitamrofni\"\n",
    "```"
   ]
  },
  {
   "cell_type": "code",
   "execution_count": null,
   "id": "0fc0efd2",
   "metadata": {},
   "outputs": [],
   "source": [
    "def renverse(chaine):\n",
    "    pass\n",
    "\n",
    "assert renverse(\"informatique\")==\"euqitamrofni\"\n",
    "\n"
   ]
  },
  {
   "cell_type": "markdown",
   "id": "9043a97b",
   "metadata": {},
   "source": [
    "### EXERCICE 2 (4 points)\n",
    "\n",
    "Un nombre premier est un nombre entier naturel qui admet exactement deux diviseurs distincts entiers et positifs : \n",
    "1 et lui-même.  \n",
    "Le crible d’Ératosthène permet de déterminer les nombres premiers plus petit qu’un certain  nombre N fixé.  \n",
    "On considère pour cela un tableau tab de N booléens, initialement tous égaux à True,  \n",
    "sauf tab[Criblecrible0] et tab[1] qui valent False, 0 et 1 n’étant pas des nombres premiers.  \n",
    "On parcourt alors ce tableau de gauche à droite.  \n",
    "\n",
    "Pour chaque indice i :\n",
    "- si tab[i] vaut True : le nombre i est premier et on donne la valeur False à toutes les  \n",
    "cases du tableau dont l’indice est un multiple de i, à partir de $2*i$ (c’est-à-dire $2*i$, $3*i$ ...).  \n",
    "\n",
    "- si tab[i] vaut False : le nombre i n’est pas premier et on n’effectue aucun changement sur le tableau.\n",
    "\n",
    "On dispose de la fonction crible, incomplète et donnée ci-dessous, prenant en paramètre un  \n",
    "entier N strictement positif et renvoyant un tableau contenant tous les nombres premiers plus  \n",
    "petits que N.  \n",
    "\n",
    "```\n",
    "def crible(N):\n",
    "    \"\"\"renvoie un tableau contenant tous les nombres premiers plus petit que N\"\"\"\n",
    "    premiers = []\n",
    "    tab = [True] * N\n",
    "    tab[0], tab[1] = False, False\n",
    "    for i in range(..., N):\n",
    "        if tab[i] == ...:\n",
    "            premiers.append(...)\n",
    "            for multiple in range(2*i, N, ...):\n",
    "                tab[multiple] = ...\n",
    "    return premiers\n",
    "\n",
    "assert crible(40) == [2, 3, 5, 7, 11, 13, 17, 19, 23, 29, 31, 37]\n",
    "\n",
    "```"
   ]
  },
  {
   "cell_type": "code",
   "execution_count": null,
   "id": "176f0235",
   "metadata": {},
   "outputs": [],
   "source": [
    "def crible(N):\n",
    "    \"\"\"renvoie un tableau contenant tous les nombres premiers plus petit que N\"\"\"\n",
    "    premiers = []\n",
    "    tab = [True] * N\n",
    "    tab[0], tab[1] = False, False\n",
    "    for i in range(..., N):\n",
    "        if tab[i] == ...:\n",
    "            premiers.append(...)\n",
    "            for multiple in range(2*i, N, ...):\n",
    "                tab[multiple] = ...\n",
    "    return premiers\n",
    "\n",
    "assert crible(40) == [2, 3, 5, 7, 11, 13, 17, 19, 23, 29, 31, 37]\n"
   ]
  }
 ],
 "metadata": {
  "kernelspec": {
   "display_name": "Python 3",
   "language": "python",
   "name": "python3"
  },
  "language_info": {
   "codemirror_mode": {
    "name": "ipython",
    "version": 3
   },
   "file_extension": ".py",
   "mimetype": "text/x-python",
   "name": "python",
   "nbconvert_exporter": "python",
   "pygments_lexer": "ipython3",
   "version": "3.9.9"
  }
 },
 "nbformat": 4,
 "nbformat_minor": 5
}
