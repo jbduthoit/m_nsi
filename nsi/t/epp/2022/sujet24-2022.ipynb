{
 "cells": [
  {
   "cell_type": "markdown",
   "id": "da4d5d7d",
   "metadata": {},
   "source": [
    "## Etablissement :"
   ]
  },
  {
   "cell_type": "markdown",
   "id": "be7025d9",
   "metadata": {},
   "source": [
    "## Nom prénom :"
   ]
  },
  {
   "cell_type": "markdown",
   "id": "f846f6f8",
   "metadata": {},
   "source": [
    "<hr>\n",
    "<h1 align=\"center\"; margin:10;>BACCALAUREAT SESSION 2022<br>\n",
    "    Épreuve de l’enseignement de spécialité<br>\n",
    "    NUMERIQUE et SCIENCES INFORMATIQUES<br>\n",
    "    Partie pratique\n",
    "</h1>\n",
    "<h2 align=\"center\">Terminale de la voie générale<br></h2>\n",
    "<hr>"
   ]
  },
  {
   "cell_type": "markdown",
   "id": "6936c39d",
   "metadata": {},
   "source": [
    "\n",
    "## Sujet n° 24\n",
    "___\n",
    "## DUREE DE L’EPREUVE : 1 heure\n",
    "## - Le sujet comporte 2 exercices\n",
    "## - Le candidat doit traiter les 2 exercices."
   ]
  },
  {
   "cell_type": "markdown",
   "id": "352a9954",
   "metadata": {},
   "source": [
    "### EXERCICE 1 (4 points)\n",
    "Écrire la fonction maxliste, prenant en paramètre un tableau non vide de nombres tab (type\n",
    "list) et renvoyant le plus grand élément de ce tableau.\n",
    "\n",
    "**Exemples :**\n",
    "```\n",
    ">>> maxliste([98, 12, 104, 23, 131, 9])\n",
    "131\n",
    ">>> maxliste([-27, 24, -3, 15])\n",
    "24\n",
    "```\n",
    "\n"
   ]
  },
  {
   "cell_type": "code",
   "execution_count": null,
   "id": "0fc0efd2",
   "metadata": {},
   "outputs": [],
   "source": [
    "def maxliste(...):\n",
    "    ....\n",
    "    pass\n",
    "\n",
    "assert maxliste([98, 12, 104, 23, 131, 9])==131\n",
    "assert maxliste([-27, 24, -3, 15])==24\n"
   ]
  },
  {
   "cell_type": "markdown",
   "id": "9043a97b",
   "metadata": {},
   "source": [
    "### EXERCICE 2 (4 points)\n",
    "On dispose de chaînes de caractères contenant uniquement des parenthèses ouvrantes et fermantes.  \n",
    "\n",
    "Un parenthésage est correct si :\n",
    "- le nombre de parenthèses ouvrantes de la chaîne est égal au nombre de parenthèses fermantes.\n",
    "- en parcourant la chaîne de gauche à droite, le nombre de parenthèses déjà ouvertes doit être,à tout moment, supérieur ou égal au nombre de parenthèses déjà fermées.\n",
    "\n",
    "- Ainsi, \"((()())(()))\" est un parenthésage correct.\n",
    "- Les parenthésages \"())(()\" et \"(())(()\" sont, eux, incorrects.\n",
    "\n",
    "On dispose du code de la classe Pile suivant :\n",
    "```\n",
    "class Pile:\n",
    "    \"\"\" Classe définissant une pile \"\"\"\n",
    "    def __init__(self, valeurs=[]):\n",
    "        self.valeurs = valeurs\n",
    "\n",
    "    def est_vide(self):\n",
    "        \"\"\"Renvoie True si la pile est vide, False sinon\"\"\"\n",
    "        return self.valeurs == []\n",
    "\n",
    "    def empiler(self, c):\n",
    "        \"\"\"Place l’élément c au sommet de la pile\"\"\"\n",
    "        self.valeurs.append(c)\n",
    "\n",
    "    def depiler(self):\n",
    "        \"\"\"Supprime l’élément placé au sommet de la pile, à condition qu’elle soit non vide\"\"\"\n",
    "        if self.est_vide() == False:\n",
    "            self.valeurs.pop()\n",
    "\n",
    "\n",
    "def parenthesage (ch):\n",
    "    \"\"\"Renvoie True si la chaîne ch est bien parenthésée et False sinon\"\"\"\n",
    "    p = Pile()\n",
    "    for c in ch:\n",
    "        if c == ...:\n",
    "            p.empiler(c)\n",
    "        elif c == ...:\n",
    "            if p.est_vide():\n",
    "                return ...\n",
    "            else:\n",
    "                ...\n",
    "    return p.est_vide()\n",
    "\n",
    "assert parenthesage(\"((()())(()))\") == True\n",
    "assert parenthesage(\"())(()\") == False\n",
    "assert parenthesage(\"(())(()\") == False\n",
    "\n",
    "```"
   ]
  },
  {
   "cell_type": "code",
   "execution_count": null,
   "id": "176f0235",
   "metadata": {},
   "outputs": [],
   "source": [
    "class Pile:\n",
    "    \"\"\" Classe définissant une pile \"\"\"\n",
    "    def __init__(self, valeurs=[]):\n",
    "        self.valeurs = valeurs\n",
    "\n",
    "    def est_vide(self):\n",
    "        \"\"\"Renvoie True si la pile est vide, False sinon\"\"\"\n",
    "        return self.valeurs == []\n",
    "\n",
    "    def empiler(self, c):\n",
    "        \"\"\"Place l’élément c au sommet de la pile\"\"\"\n",
    "        self.valeurs.append(c)\n",
    "\n",
    "    def depiler(self):\n",
    "        \"\"\"Supprime l’élément placé au sommet de la pile, à condition qu’elle soit non vide\"\"\"\n",
    "        if self.est_vide() == False:\n",
    "            self.valeurs.pop()\n",
    "\n",
    "\n",
    "def parenthesage (ch):\n",
    "    \"\"\"Renvoie True si la chaîne ch est bien parenthésée et False sinon\"\"\"\n",
    "    p = Pile()\n",
    "    for c in ch:\n",
    "        if c == ...:\n",
    "            p.empiler(c)\n",
    "        elif c == ...:\n",
    "            if p.est_vide():\n",
    "                return ...\n",
    "            else:\n",
    "                ...\n",
    "    return p.est_vide()\n",
    "\n",
    "assert parenthesage(\"((()())(()))\") == True\n",
    "assert parenthesage(\"())(()\") == False\n",
    "assert parenthesage(\"(())(()\") == False\n"
   ]
  }
 ],
 "metadata": {
  "kernelspec": {
   "display_name": "Python 3",
   "language": "python",
   "name": "python3"
  },
  "language_info": {
   "codemirror_mode": {
    "name": "ipython",
    "version": 3
   },
   "file_extension": ".py",
   "mimetype": "text/x-python",
   "name": "python",
   "nbconvert_exporter": "python",
   "pygments_lexer": "ipython3",
   "version": "3.9.9"
  }
 },
 "nbformat": 4,
 "nbformat_minor": 5
}
