{
 "cells": [
  {
   "cell_type": "markdown",
   "id": "da4d5d7d",
   "metadata": {},
   "source": [
    "## Etablissement :"
   ]
  },
  {
   "cell_type": "markdown",
   "id": "be7025d9",
   "metadata": {},
   "source": [
    "## Nom prénom :"
   ]
  },
  {
   "cell_type": "markdown",
   "id": "f846f6f8",
   "metadata": {},
   "source": [
    "<hr>\n",
    "<h1 align=\"center\"; margin:10;>BACCALAUREAT SESSION 2022<br>\n",
    "    Épreuve de l’enseignement de spécialité<br>\n",
    "    NUMERIQUE et SCIENCES INFORMATIQUES<br>\n",
    "    Partie pratique\n",
    "</h1>\n",
    "<h2 align=\"center\">Terminale de la voie générale<br></h2>\n",
    "<hr>"
   ]
  },
  {
   "cell_type": "markdown",
   "id": "6936c39d",
   "metadata": {},
   "source": [
    "\n",
    "## Sujet n° 26\n",
    "___\n",
    "## DUREE DE L’EPREUVE : 1 heure\n",
    "## - Le sujet comporte 2 exercices\n",
    "## - Le candidat doit traiter les 2 exercices."
   ]
  },
  {
   "cell_type": "markdown",
   "id": "352a9954",
   "metadata": {},
   "source": [
    "### EXERCICE 1 (4 points)\n",
    "Écrire une fonction RechercheMin qui prend en paramètre un tableau de nombres non  \n",
    "trié tab, et qui renvoie l'indice de la première occurrence du minimum de ce tableau. \n",
    "Les tableaux seront représentés sous forme de liste Python.  \n",
    "\n",
    "**Exemples :**\n",
    "\n",
    "```\n",
    ">>> RechercheMin([5])\n",
    "0\n",
    "\n",
    ">>> RechercheMin([2, 4, 1])\n",
    "2\n",
    "\n",
    ">>> RechercheMin([5, 3, 2, 2, 4])\n",
    "2\n",
    "```\n"
   ]
  },
  {
   "cell_type": "code",
   "execution_count": 1,
   "id": "0fc0efd2",
   "metadata": {},
   "outputs": [],
   "source": [
    "def RechercheMin(valeur):\n",
    "    pass\n",
    "\n",
    "\n",
    "assert  RechercheMin([5])==0\n",
    "assert  RechercheMin([2, 4, 1])==2\n",
    "assert  RechercheMin([5, 3, 2, 2, 4])== 2\n"
   ]
  },
  {
   "cell_type": "markdown",
   "id": "9043a97b",
   "metadata": {},
   "source": [
    "### EXERCICE 2 (4 points)\n",
    "\n",
    "On considère la fonction separe ci-dessous qui prend en argument un tableau tab dont  \n",
    "les éléments sont des 0 et des 1 et qui sépare les 0 des 1 en plaçant les 0 en début de  \n",
    "tableau et les 1 à la suite.  \n",
    "\n",
    "```\n",
    "def separe(tab):\n",
    "    i = 0\n",
    "    j = ...\n",
    "    while i < j :\n",
    "        if tab[i] == 0 :\n",
    "            i = ...\n",
    "        else :\n",
    "            tab[i], tab[j] = ...\n",
    "            j = ...\n",
    "    return tab\n",
    "```\n",
    "\n",
    "Compléter la fonction separe ci-dessus.\n",
    "\n",
    "**Exemples :**\n",
    "```\n",
    ">>> separe([1, 0, 1, 0, 1, 0, 1, 0])\n",
    "[0, 0, 0, 0, 1, 1, 1, 1]\n",
    "\n",
    ">>> separe([1, 0, 0, 0, 1, 1, 0, 1, 1, 0, 1, 0, 1, 1, 1, 0])\n",
    "[0, 0, 0, 0, 0, 0, 0, 1, 1, 1, 1, 1, 1, 1, 1, 1]\n",
    "\n",
    "```\n"
   ]
  },
  {
   "cell_type": "code",
   "execution_count": null,
   "id": "176f0235",
   "metadata": {},
   "outputs": [],
   "source": [
    "def separe(tab):\n",
    "    i = 0\n",
    "    j = ...\n",
    "    while i < j :\n",
    "        if tab[i] == 0 :\n",
    "            i = ...\n",
    "        else :\n",
    "            tab[i], tab[j] = ...\n",
    "            j = ...\n",
    "    return tab\n",
    "\n",
    "assert separe([1, 0, 1, 0, 1, 0, 1, 0])==[0, 0, 0, 0, 1, 1, 1, 1]\n",
    "assert separe([1, 0, 0, 0, 1, 1, 0, 1, 1, 0, 1, 0, 1, 1, 1, 0])==[0, 0, 0, 0, 0, 0, 0, 1, 1, 1, 1, 1, 1, 1, 1, 1]\n"
   ]
  }
 ],
 "metadata": {
  "kernelspec": {
   "display_name": "Python 3",
   "language": "python",
   "name": "python3"
  },
  "language_info": {
   "codemirror_mode": {
    "name": "ipython",
    "version": 3
   },
   "file_extension": ".py",
   "mimetype": "text/x-python",
   "name": "python",
   "nbconvert_exporter": "python",
   "pygments_lexer": "ipython3",
   "version": "3.9.9"
  }
 },
 "nbformat": 4,
 "nbformat_minor": 5
}
