{
 "cells": [
  {
   "cell_type": "markdown",
   "id": "da4d5d7d",
   "metadata": {},
   "source": [
    "## Etablissement :"
   ]
  },
  {
   "cell_type": "markdown",
   "id": "be7025d9",
   "metadata": {},
   "source": [
    "## Nom prénom :"
   ]
  },
  {
   "cell_type": "markdown",
   "id": "f846f6f8",
   "metadata": {},
   "source": [
    "<hr>\n",
    "<h1 align=\"center\"; margin:10;>BACCALAUREAT SESSION 2022<br>\n",
    "    Épreuve de l’enseignement de spécialité<br>\n",
    "    NUMERIQUE et SCIENCES INFORMATIQUES<br>\n",
    "    Partie pratique\n",
    "</h1>\n",
    "<h2 align=\"center\">Terminale de la voie générale<br></h2>\n",
    "<hr>"
   ]
  },
  {
   "cell_type": "markdown",
   "id": "6936c39d",
   "metadata": {},
   "source": [
    "\n",
    "## Sujet n° 27\n",
    "___\n",
    "## DUREE DE L’EPREUVE : 1 heure\n",
    "## - Le sujet comporte 2 exercices\n",
    "## - Le candidat doit traiter les 2 exercices."
   ]
  },
  {
   "cell_type": "markdown",
   "id": "352a9954",
   "metadata": {},
   "source": [
    "### EXERCICE 1 (4 points)\n",
    "Dans cet exercice, un arbre binaire de caractères est stocké sous la forme d’un  \n",
    "dictionnaire où les clefs sont les caractères des nœuds de l’arbre et les valeurs, pour  \n",
    "chaque clef, la liste des caractères des fils gauche et droit du nœud.  \n",
    "\n",
    "**Par exemple, l’arbre**\n",
    "\n",
    "![](img27_1.png)\n",
    "\n",
    "est stocké dans\n",
    "```\n",
    "a = {'F':['B','G'], 'B':['A','D'], 'A':['',''], 'D':['C','E'], \\\n",
    "'C':['',''], 'E':['',''], 'G':['','I'], 'I':['','H'], \\\n",
    "'H':['','']}\n",
    "```\n",
    "\n",
    "Écrire une fonction récursive taille prenant en paramètres un arbre binaire arbre sous  \n",
    "la forme d’un dictionnaire et un caractère lettre qui est la valeur du sommet de l’arbre,  \n",
    "et qui renvoie la taille de l’arbre à savoir le nombre total de nœud.  \n",
    "On pourra distinguer les 4 cas où les deux « fils » du nœud sont '', le fils gauche  \n",
    "seulement est '', le fils droit seulement est '', aucun des deux fils n’est ''.  \n",
    "\n",
    "**Exemple :**\n",
    "\n",
    "```\n",
    ">>> taille(a, ’F’)\n",
    "9\n",
    "```\n",
    "\n"
   ]
  },
  {
   "cell_type": "code",
   "execution_count": null,
   "id": "0fc0efd2",
   "metadata": {},
   "outputs": [],
   "source": [
    "a = {'F':['B','G'], 'B':['A','D'], 'A':['',''], 'D':['C','E'],'C':['',''], 'E':['',''], 'G':['','I'], 'I':['','H'], 'H':['','']}\n",
    "\n",
    "def RechercheMin(valeur):\n",
    "    pass\n",
    "\n",
    "\n",
    "assert  RechercheMin([5])==0\n",
    "assert  RechercheMin([2, 4, 1])==2\n",
    "assert  RechercheMin([5, 3, 2, 2, 4])== 2\n"
   ]
  },
  {
   "cell_type": "markdown",
   "id": "9043a97b",
   "metadata": {},
   "source": [
    "### EXERCICE 2 (4 points)\n",
    "\n",
    "On considère l'algorithme de tri de tableau suivant : à chaque étape, on parcourt depuis le début du tableau tous les éléments non rangés et on place en dernière position le plus grand élément.\n",
    "\n",
    "Exemple avec le tableau :\n",
    "```\n",
    "t = [41, 55, 21, 18, 12, 6, 25]\n",
    "\n",
    "Etape 1 : on parcourt tous les éléments du tableau, on permute le plus grand élément avec le dernier. Le tableau devient\n",
    "\n",
    "t = [41, 25, 21, 18, 12, 6, 55]\n",
    "\n",
    "Etape 2 : on parcourt tous les éléments sauf le dernier, on permute le plus grand élément trouvé avec l'avant dernier. Le tableau devient :\n",
    "\n",
    "t = [6, 25, 21, 18, 12, 41, 55]\n",
    "\n",
    "Et ainsi de suite.\n",
    "\n",
    "La code de la fonction tri_iteratif qui implémente cet algorithme est donné ci-dessous.\n",
    "\n",
    "def tri_iteratif(tab):\n",
    "    for k in range( ... , 0, -1):\n",
    "        imax = ...\n",
    "        for i in range(0 , ... ):\n",
    "            if tab[i] > ... :\n",
    "                imax = i\n",
    "        if tab[imax] > ... :\n",
    "            ... , tab[imax] = tab[imax] , ...\n",
    "    return tab\n",
    "```\n",
    "\n",
    "Compléter le code qui doit donner :\n",
    "```\n",
    ">>> tri_iteratif([41, 55, 21, 18, 12, 6, 25])\n",
    "[6, 18, 12, 21, 25, 41, 55]\n",
    "```\n",
    "On rappelle que l’instruction\n",
    "\n",
    "a, b = b, a\n",
    "\n",
    "échange les contenus de a et de b."
   ]
  },
  {
   "cell_type": "code",
   "execution_count": null,
   "id": "176f0235",
   "metadata": {},
   "outputs": [],
   "source": [
    "def tri_iteratif(tab):\n",
    "    for k in range( ... , 0, -1):\n",
    "        imax = ...\n",
    "        for i in range(0 , ... ):\n",
    "            if tab[i] > ... :\n",
    "                imax = i\n",
    "        if tab[imax] > ... :\n",
    "            ... , tab[imax] = tab[imax] , ...\n",
    "    return tab\n",
    "\n",
    "\n",
    "assert tri_iteratif([41, 55, 21, 18, 12, 6, 25]))==[6, 18, 12, 21, 25, 41, 55]\n",
    "\n"
   ]
  },
  {
   "cell_type": "code",
   "execution_count": null,
   "id": "0b593fff",
   "metadata": {},
   "outputs": [],
   "source": []
  }
 ],
 "metadata": {
  "kernelspec": {
   "display_name": "Python 3",
   "language": "python",
   "name": "python3"
  },
  "language_info": {
   "codemirror_mode": {
    "name": "ipython",
    "version": 3
   },
   "file_extension": ".py",
   "mimetype": "text/x-python",
   "name": "python",
   "nbconvert_exporter": "python",
   "pygments_lexer": "ipython3",
   "version": "3.9.9"
  }
 },
 "nbformat": 4,
 "nbformat_minor": 5
}
