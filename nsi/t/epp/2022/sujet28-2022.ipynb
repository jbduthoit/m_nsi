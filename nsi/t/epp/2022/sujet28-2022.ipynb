{
 "cells": [
  {
   "cell_type": "markdown",
   "id": "da4d5d7d",
   "metadata": {},
   "source": [
    "## Etablissement :"
   ]
  },
  {
   "cell_type": "markdown",
   "id": "be7025d9",
   "metadata": {},
   "source": [
    "## Nom prénom :"
   ]
  },
  {
   "cell_type": "markdown",
   "id": "f846f6f8",
   "metadata": {},
   "source": [
    "<hr>\n",
    "<h1 align=\"center\"; margin:10;>BACCALAUREAT SESSION 2022<br>\n",
    "    Épreuve de l’enseignement de spécialité<br>\n",
    "    NUMERIQUE et SCIENCES INFORMATIQUES<br>\n",
    "    Partie pratique\n",
    "</h1>\n",
    "<h2 align=\"center\">Terminale de la voie générale<br></h2>\n",
    "<hr>"
   ]
  },
  {
   "cell_type": "markdown",
   "id": "6936c39d",
   "metadata": {},
   "source": [
    "\n",
    "## Sujet n° 28\n",
    "___\n",
    "## DUREE DE L’EPREUVE : 1 heure\n",
    "## - Le sujet comporte 2 exercices\n",
    "## - Le candidat doit traiter les 2 exercices."
   ]
  },
  {
   "cell_type": "markdown",
   "id": "352a9954",
   "metadata": {},
   "source": [
    "### EXERCICE 1 (4 points)\n",
    "Écrire une fonction moyenne qui prend en paramètre un tableau non vide de nombres  \n",
    "flottants et qui renvoie la moyenne des valeurs du tableau. Les tableaux seront  \n",
    "représentés sous forme de liste Python.  \n",
    "\n",
    "**Exemples :**\n",
    "```\n",
    ">>> moyenne([1.0])\n",
    "1.0\n",
    "\n",
    ">>> moyenne([1.0, 2.0, 4.0])\n",
    "2.3333333333333335\n",
    "```\n"
   ]
  },
  {
   "cell_type": "code",
   "execution_count": null,
   "id": "0fc0efd2",
   "metadata": {},
   "outputs": [],
   "source": [
    "def moyenne(....):\n",
    "    ......\n",
    "    pass\n",
    "\n",
    "\n",
    "assert  moyenne([1.0])==1.0\n",
    "assert moyenne([1.0, 2.0, 4.0])==2.3333333333333335\n"
   ]
  },
  {
   "cell_type": "markdown",
   "id": "9043a97b",
   "metadata": {},
   "source": [
    "### EXERCICE 2 (4 points)\n",
    "\n",
    "Pour rappel, la conversion d’un nombre entier positif en binaire peut s’effectuer à l’aide des divisions successives comme illustré ici :\n",
    "\n",
    "Voici une fonction python basée sur la méthode des divisions successives permettant de convertir un nombre entier positif en binaire :\n",
    "\n",
    "```\n",
    "def dec_to_bin(a):\n",
    "    bin_a = ...\n",
    "    a = a//2\n",
    "    while a ... :\n",
    "        bin_a = ... + bin_a\n",
    "        a = ...\n",
    "    return bin_a\n",
    "```\n",
    "Compléter la fonction dec_to_bin.\n",
    "\n",
    "**Exemples :**\n",
    "```\n",
    ">>> dec_to_bin(83)\n",
    "'1010011'\n",
    "\n",
    ">>> dec_to_bin(127)\n",
    "'1111111'\n",
    "```\n"
   ]
  },
  {
   "cell_type": "code",
   "execution_count": null,
   "id": "176f0235",
   "metadata": {},
   "outputs": [],
   "source": [
    "def dec_to_bin(a):\n",
    "    bin_a = ...\n",
    "    a = a//2\n",
    "    while a ... :\n",
    "        bin_a = ... + bin_a\n",
    "        a = ...\n",
    "    return bin_a\n",
    "\n",
    "assert binaire(83) == '1010011'\n",
    "assert binaire(127) == '1111111'\n"
   ]
  }
 ],
 "metadata": {
  "kernelspec": {
   "display_name": "Python 3",
   "language": "python",
   "name": "python3"
  },
  "language_info": {
   "codemirror_mode": {
    "name": "ipython",
    "version": 3
   },
   "file_extension": ".py",
   "mimetype": "text/x-python",
   "name": "python",
   "nbconvert_exporter": "python",
   "pygments_lexer": "ipython3",
   "version": "3.9.9"
  }
 },
 "nbformat": 4,
 "nbformat_minor": 5
}
