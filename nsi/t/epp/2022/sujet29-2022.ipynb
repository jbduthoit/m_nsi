{
 "cells": [
  {
   "cell_type": "markdown",
   "id": "da4d5d7d",
   "metadata": {},
   "source": [
    "## Etablissement :"
   ]
  },
  {
   "cell_type": "markdown",
   "id": "be7025d9",
   "metadata": {},
   "source": [
    "## Nom prénom :"
   ]
  },
  {
   "cell_type": "markdown",
   "id": "f846f6f8",
   "metadata": {},
   "source": [
    "<hr>\n",
    "<h1 align=\"center\"; margin:10;>BACCALAUREAT SESSION 2022<br>\n",
    "    Épreuve de l’enseignement de spécialité<br>\n",
    "    NUMERIQUE et SCIENCES INFORMATIQUES<br>\n",
    "    Partie pratique\n",
    "</h1>\n",
    "<h2 align=\"center\">Terminale de la voie générale<br></h2>\n",
    "<hr>"
   ]
  },
  {
   "cell_type": "markdown",
   "id": "6936c39d",
   "metadata": {},
   "source": [
    "\n",
    "## Sujet n° 29\n",
    "___\n",
    "## DUREE DE L’EPREUVE : 1 heure\n",
    "## - Le sujet comporte 2 exercices\n",
    "## - Le candidat doit traiter les 2 exercices."
   ]
  },
  {
   "cell_type": "markdown",
   "id": "352a9954",
   "metadata": {},
   "source": [
    "### EXERCICE 1 (4 points)\n",
    "On s’intéresse à la suite d’entiers définie par\n",
    "\n",
    "$U_1$ = 1,$U_2$ = 1 et, pour tout entier naturel n, par $U_{n+2} = U_{n+1} + U_{n}$ .\n",
    "\n",
    "Elle s’appelle la suite de Fibonnaci.\n",
    "\n",
    "Écrire la fonction fibonacci qui prend un entier n > 0 et qui renvoie l’élément d’indice n de cette suite.\n",
    "\n",
    "On utilisera une programmation dynamique (pas de récursivité).\n",
    "\n",
    "#### Exemples :\n",
    "```\n",
    ">>> fibonacci(1)\n",
    "1\n",
    ">>> fibonacci(2)\n",
    "1\n",
    ">>> fibonacci(25)\n",
    "75025\n",
    ">>> fibonacci(45)\n",
    "1134903170\n",
    "```"
   ]
  },
  {
   "cell_type": "code",
   "execution_count": null,
   "id": "0fc0efd2",
   "metadata": {},
   "outputs": [],
   "source": [
    "def fibonacci(....):\n",
    "    ......\n",
    "    pass\n",
    "\n",
    "\n",
    "assert fibonacci(1)==1\n",
    "assert fibonacci(2)==1\n",
    "assert fibonacci(25)==75025\n",
    "assert fibonacci(45)==1134903170\n"
   ]
  },
  {
   "cell_type": "markdown",
   "id": "9043a97b",
   "metadata": {},
   "source": [
    "### EXERCICE 2 (4 points)\n",
    "\n",
    "Les variables liste_eleves et liste_notes ayant été préalablement définies et étant de même longueur, la fonction meilleures_notes renvoie la note maximale qui a été attribuée, le nombre d’élèves ayant obtenu cette note et la liste des noms de ces élèves.\n",
    "\n",
    "Compléter le code Python de la fonction meilleures_notes ci-dessous.\n",
    "```\n",
    "liste_eleves = ['a','b','c','d','e','f','g','h','i','j']\n",
    "liste_notes = [1, 40, 80, 60, 58, 80, 75, 80, 60, 24]\n",
    "\n",
    "def meilleures_notes():\n",
    "    note_maxi = 0\n",
    "    nb_eleves_note_maxi = ...\n",
    "    liste_maxi =  ...\n",
    "\n",
    "    for compteur in range(...):\n",
    "        if liste_notes[compteur] == ...:\n",
    "            nb_eleves_note_maxi = nb_eleves_note_maxi + 1\n",
    "            liste_maxi.append(liste_eleves[...])\n",
    "        if liste_notes[compteur] > note_maxi:\n",
    "            note_maxi = liste_notes[compteur]\n",
    "            nb_eleves_note_maxi = ...\n",
    "            liste_maxi = [...]\n",
    "\n",
    "    return (note_maxi,nb_eleves_note_maxi,liste_maxi)\n",
    "\n",
    "Une fois complété, le code ci-dessus donne\n",
    "\n",
    ">>> meilleures_notes()\n",
    "(80, 3, ['c', 'f', 'h'])\n",
    "```"
   ]
  },
  {
   "cell_type": "code",
   "execution_count": null,
   "id": "176f0235",
   "metadata": {},
   "outputs": [],
   "source": [
    "liste_eleves = ['a','b','c','d','e','f','g','h','i','j']\n",
    "liste_notes = [1, 40, 80, 60, 58, 80, 75, 80, 60, 24]\n",
    "\n",
    "def meilleures_notes():\n",
    "    note_maxi = 0\n",
    "    nb_eleves_note_maxi = ...\n",
    "    liste_maxi =  ...\n",
    "    \n",
    "    for compteur in range(...):\n",
    "        if liste_notes[compteur] == ...:\n",
    "            nb_eleves_note_maxi = nb_eleves_note_maxi + 1\n",
    "            liste_maxi.append(liste_eleves[...])\n",
    "        if liste_notes[compteur] > note_maxi:\n",
    "            note_maxi = liste_notes[compteur]\n",
    "            nb_eleves_note_maxi = ...\n",
    "            liste_maxi = [...]\n",
    "            \n",
    "    return (note_maxi,nb_eleves_note_maxi,liste_maxi)\n",
    "\n",
    "assert meilleures_notes() ==(80, 3, ['c', 'f', 'h'])\n"
   ]
  }
 ],
 "metadata": {
  "kernelspec": {
   "display_name": "Python 3",
   "language": "python",
   "name": "python3"
  },
  "language_info": {
   "codemirror_mode": {
    "name": "ipython",
    "version": 3
   },
   "file_extension": ".py",
   "mimetype": "text/x-python",
   "name": "python",
   "nbconvert_exporter": "python",
   "pygments_lexer": "ipython3",
   "version": "3.9.9"
  }
 },
 "nbformat": 4,
 "nbformat_minor": 5
}
