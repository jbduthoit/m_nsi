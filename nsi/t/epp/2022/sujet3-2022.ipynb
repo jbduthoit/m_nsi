{
 "cells": [
  {
   "cell_type": "markdown",
   "id": "da4d5d7d",
   "metadata": {},
   "source": [
    "## Etablissement"
   ]
  },
  {
   "cell_type": "markdown",
   "id": "be7025d9",
   "metadata": {},
   "source": [
    "## Nom prénom :"
   ]
  },
  {
   "cell_type": "markdown",
   "id": "6936c39d",
   "metadata": {},
   "source": [
    "<hr>\n",
    "<h1 align=\"center\"; margin:10;>BACCALAUREAT SESSION 2022<br>\n",
    "    Épreuve de l’enseignement de spécialité<br>\n",
    "    NUMERIQUE et SCIENCES INFORMATIQUES<br>\n",
    "    Partie pratique\n",
    "</h1>\n",
    "<h2 align=\"center\">Terminale de la voie générale<br></h2>\n",
    "<hr>"
   ]
  },
  {
   "cell_type": "markdown",
   "id": "e25d4a69",
   "metadata": {},
   "source": [
    "## Sujet n° 3\n",
    "___\n",
    "## DUREE DE L’EPREUVE : 1 heure\n",
    "## - Le sujet comporte 2 exercices\n",
    "## - Le candidat doit traiter les 2 exercices."
   ]
  },
  {
   "cell_type": "markdown",
   "id": "be8ad294",
   "metadata": {},
   "source": [
    "### EXERCICE 1 (4 points)\n",
    "Le codage par différence (delta encoding en anglais) permet de compresser un tableau de  \n",
    "données en indiquant pour chaque donnée, sa différence avec la précédente (plutôt que la  \n",
    "donnée elle-même). On se retrouve alors avec un tableau de données assez petites nécessitant  \n",
    "moins de place en mémoire. Cette méthode se révèle efficace lorsque les valeurs consécutives  \n",
    "sont proches.  \n",
    "Programmer la fonction delta qui prend en paramètre un tableau non vide de nombres entiers  \n",
    "et qui renvoie un tableau contenant les valeurs entières compressées à l’aide cette technique.  \n",
    "\n",
    "### Exemples :\n",
    "```\n",
    ">>> delta([1000, 800, 802, 1000, 1003])\n",
    "[1000, -200, 2, 198, 3]\n",
    "\n",
    ">>> delta([42])\n",
    "42\n",
    "```\n",
    "\n"
   ]
  },
  {
   "cell_type": "code",
   "execution_count": null,
   "id": "edebc5b2",
   "metadata": {},
   "outputs": [],
   "source": [
    "def delta():\n",
    "    pass\n",
    "\n",
    "assert delta([1000, 800, 802, 1000, 1003])==[1000, -200, 2, 198, 3],'erreur 1'\n",
    "assert delta([42])==42,'erreur 2'\n"
   ]
  },
  {
   "cell_type": "markdown",
   "id": "9043a97b",
   "metadata": {},
   "source": [
    "### EXERCICE 2 (4 points)\n",
    "Une expression arithmétique ne comportant que les quatre opérations +, −,×,÷ peut être  \n",
    "représentée sous forme d’arbre binaire. Les nœuds internes sont des opérateurs et les feuilles  \n",
    "sont des nombres. Dans un tel arbre, la disposition des nœuds joue le rôle des parenthèses que  \n",
    "nous connaissons bien.  \n",
    "En parcourant en profondeur infixe l’arbre binaire ci-contre, on \n",
    "retrouve l’expression notée habituellement : \n",
    "3 × (8 + 7) − (2 + 1).  \n",
    "![](img3.png)\n",
    "La classe Noeud ci-après permet d’implémenter une structure d’arbre binaire.\n",
    "Compléter la fonction récursive expression_infixe qui prend  \n",
    "en paramètre un objet de la classe Noeud et qui renvoie  \n",
    "l’expression arithmétique représentée par l’arbre binaire passé  \n",
    "en paramètre, sous forme d’une chaîne de caractères contenant  \n",
    "des parenthèses.  \n",
    "Résultat attendu avec l’arbre ci-dessus :\n",
    "```\n",
    ">>> e = Noeud(Noeud(Noeud(None, 3, None), '*', Noeud(Noeud(None, 8, None),\n",
    "'+', Noeud(None, 7, None))), '-', Noeud(Noeud(None, 2, None), '+',\n",
    "Noeud(None, 1, None)))\n",
    "\n",
    ">>> expression_infixe(e)\n",
    "'((3*(8+7))-(2+1))'\n",
    "\n",
    "\n",
    "class Noeud:\n",
    "    def __init__(self, g, v, d):\n",
    "        self.gauche = g\n",
    "        self.valeur = v\n",
    "        self.droit = d\n",
    "    \n",
    "    def __str__(self):\n",
    "        return str(self.valeur)\n",
    "    \n",
    "    def est_une_feuille(self):\n",
    "        '''Renvoie True si et seulement si le noeud est une feuille'''\n",
    "        return self.gauche is None and self.droit is None\n",
    "\n",
    "\n",
    "def expression_infixe(e):\n",
    "    s = ...\n",
    "    if e.gauche is not None:\n",
    "        s = s + expression_infixe(...)\n",
    "    s = s + ...\n",
    "    if ... is not None:\n",
    "        s = s + ...\n",
    "    if ...:\n",
    "        return s\n",
    "    \n",
    "    return '('+ s +')'\n",
    "\n",
    "```\n"
   ]
  },
  {
   "cell_type": "code",
   "execution_count": null,
   "id": "6ab403d6",
   "metadata": {},
   "outputs": [],
   "source": [
    "class Noeud:\n",
    "    def __init__(self, g, v, d):\n",
    "        self.gauche = g\n",
    "        self.valeur = v\n",
    "        self.droit = d\n",
    "    \n",
    "    def __str__(self):\n",
    "        return str(self.valeur)\n",
    "    \n",
    "    def est_une_feuille(self):\n",
    "        '''Renvoie True si et seulement si le noeud est une feuille'''\n",
    "        return self.gauche is None and self.droit is None\n",
    "\n",
    "\n",
    "def expression_infixe(e):\n",
    "    s = ...\n",
    "    if e.gauche is not None:\n",
    "        s = s + expression_infixe(...)\n",
    "    s = s + ...\n",
    "    if ... is not None:\n",
    "        s = s + ...\n",
    "    if ...:\n",
    "        return s\n",
    "    \n",
    "    return '('+ s +')'\n"
   ]
  }
 ],
 "metadata": {
  "kernelspec": {
   "display_name": "Python 3 (ipykernel)",
   "language": "python",
   "name": "python3"
  },
  "language_info": {
   "codemirror_mode": {
    "name": "ipython",
    "version": 3
   },
   "file_extension": ".py",
   "mimetype": "text/x-python",
   "name": "python",
   "nbconvert_exporter": "python",
   "pygments_lexer": "ipython3",
   "version": "3.10.2"
  }
 },
 "nbformat": 4,
 "nbformat_minor": 5
}
