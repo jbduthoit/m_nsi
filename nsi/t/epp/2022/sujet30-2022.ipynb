{
 "cells": [
  {
   "cell_type": "markdown",
   "id": "da4d5d7d",
   "metadata": {},
   "source": [
    "## Etablissement :"
   ]
  },
  {
   "cell_type": "markdown",
   "id": "be7025d9",
   "metadata": {},
   "source": [
    "## Nom prénom :"
   ]
  },
  {
   "cell_type": "markdown",
   "id": "f846f6f8",
   "metadata": {},
   "source": [
    "<hr>\n",
    "<h1 align=\"center\"; margin:10;>BACCALAUREAT SESSION 2022<br>\n",
    "    Épreuve de l’enseignement de spécialité<br>\n",
    "    NUMERIQUE et SCIENCES INFORMATIQUES<br>\n",
    "    Partie pratique\n",
    "</h1>\n",
    "<h2 align=\"center\">Terminale de la voie générale<br></h2>\n",
    "<hr>"
   ]
  },
  {
   "cell_type": "markdown",
   "id": "6936c39d",
   "metadata": {},
   "source": [
    "\n",
    "## Sujet n° 30\n",
    "___\n",
    "## DUREE DE L’EPREUVE : 1 heure\n",
    "## - Le sujet comporte 2 exercices\n",
    "## - Le candidat doit traiter les 2 exercices."
   ]
  },
  {
   "cell_type": "markdown",
   "id": "352a9954",
   "metadata": {},
   "source": [
    "### EXERCICE 1 (4 points)\n",
    "Programmer la fonction fusion prenant en paramètres deux tableaux non vides tab1 et tab2  \n",
    "(type list) d'entiers, chacun dans l’ordre croissant, et renvoyant un tableau trié dans l’ordre  \n",
    "croissant et contenant l’ensemble des valeurs de tab1 et tab2.  \n",
    "\n",
    "**Exemples :**\n",
    "\n",
    "```\n",
    ">>> fusion([3, 5], [2, 5])\n",
    "[2, 3, 5, 5]\n",
    "\n",
    ">>> fusion([-2, 4], [-3, 5, 10])\n",
    "[-3, -2, 4, 5, 10]\n",
    "\n",
    ">>> fusion([4], [2, 6])\n",
    "[2, 4, 6]\n",
    "```"
   ]
  },
  {
   "cell_type": "code",
   "execution_count": null,
   "id": "0fc0efd2",
   "metadata": {},
   "outputs": [],
   "source": [
    "def fusion(....):\n",
    "    ......\n",
    "    pass\n",
    "\n",
    "assert fusion([3, 5], [2, 5])==[2, 3, 5, 5]\n",
    "assert fusion([-2, 4], [-3, 5, 10])==[-3, -2, 4, 5, 10]\n",
    "assert fusion([4], [2, 6])==[2, 4, 6]\n"
   ]
  },
  {
   "cell_type": "markdown",
   "id": "9043a97b",
   "metadata": {},
   "source": [
    "### EXERCICE 2 (4 points)\n",
    "\n",
    "Les chiffres romains sont un système ancien d’écriture des nombres.   \n",
    "Les chiffres romains sont: I, V, X, L, C, D, et M.  \n",
    "\n",
    "Ces symboles représentent respectivement 1, 5, 10, 50, 100, 500, et 1000 en base dix.  \n",
    "Lorsque deux caractères successifs sont tels que le caractère placé à gauche possède une  \n",
    "valeur supérieure ou égale à celui de droite, le nombre s’obtient en additionnant le caractère de  \n",
    "gauche à la valeur de la chaîne située à droite.  \n",
    "\n",
    "Ainsi, \"XVI\" est le nombre 16 car X + VI = 10 + 6.  \n",
    "Lorsque deux caractères successifs sont tels que le caractère placé à gauche possède une  \n",
    "valeur strictement inférieure à celui de droite, le nombre s’obtient en retranchant le caractère de  \n",
    "gauche à la valeur de la chaîne située à droite.  \n",
    "\n",
    "Ainsi, \"CDIII\" est le nombre 403 car DIII – C = 503 – 100.  \n",
    "\n",
    "On dispose d’un dictionnaire dico, à compléter, où les clés sont les caractères apparaissant  \n",
    "dans l’écriture en chiffres romains et où les valeurs sont les nombres entiers associés en écriture décimale.\n",
    "\n",
    "On souhaite créer une fonction récursive rom_to_dec qui prend en paramètre une chaîne de  \n",
    "caractères (non vide) représentant un nombre écrit en chiffres romains et renvoyant le nombre  \n",
    "associé en écriture décimale :  \n",
    "\n",
    "```\n",
    "def rom_to_dec (nombre):\n",
    "\n",
    "    \"\"\" Renvoie l’écriture décimale du nombre donné en chiffres romains \"\"\"\n",
    "\n",
    "    dico = {\"I\":1, \"V\":5, ...}\n",
    "    if len(nombre) == 1:\n",
    "        return ...\n",
    "\n",
    "    else:\n",
    "        ### on supprime le premier caractère de la chaîne contenue dans la variable nombre\n",
    "        ### et cette nouvelle chaîne est enregistrée dans la variable nombre_droite\n",
    "        nombre_droite = nombre[1:]\n",
    "    \n",
    "        \n",
    "        if dico[nombre[0]] >= dico[nombre[1]]:\n",
    "            return dico[nombre[0]] + ...\n",
    "        else:\n",
    "            return ...\n",
    "\n",
    "assert rom_to_dec(\"CXLII\") == 142\n",
    "```\n"
   ]
  },
  {
   "cell_type": "code",
   "execution_count": null,
   "id": "176f0235",
   "metadata": {},
   "outputs": [],
   "source": [
    "def rom_to_dec (nombre):\n",
    "\n",
    "    \"\"\" Renvoie l’écriture décimale du nombre donné en chiffres romains \"\"\"\n",
    "\n",
    "    dico = {\"I\":1, \"V\":5, ...}\n",
    "    if len(nombre) == 1:\n",
    "        return ...\n",
    "\n",
    "    else:\n",
    "        ### on supprime le premier caractère de la chaîne contenue dans la variable nombre\n",
    "        ### et cette nouvelle chaîne est enregistrée dans la variable nombre_droite\n",
    "        nombre_droite = nombre[1:]\n",
    "    \n",
    "        \n",
    "        if dico[nombre[0]] >= dico[nombre[1]]:\n",
    "            return dico[nombre[0]] + ...\n",
    "        else:\n",
    "            return ...\n",
    "\n",
    "assert rom_to_dec(\"CXLII\") == 142\n",
    "\n"
   ]
  }
 ],
 "metadata": {
  "kernelspec": {
   "display_name": "Python 3",
   "language": "python",
   "name": "python3"
  },
  "language_info": {
   "codemirror_mode": {
    "name": "ipython",
    "version": 3
   },
   "file_extension": ".py",
   "mimetype": "text/x-python",
   "name": "python",
   "nbconvert_exporter": "python",
   "pygments_lexer": "ipython3",
   "version": "3.9.9"
  }
 },
 "nbformat": 4,
 "nbformat_minor": 5
}
