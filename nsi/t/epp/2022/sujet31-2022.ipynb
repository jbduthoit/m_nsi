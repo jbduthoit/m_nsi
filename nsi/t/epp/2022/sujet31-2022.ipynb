{
 "cells": [
  {
   "cell_type": "markdown",
   "id": "da4d5d7d",
   "metadata": {},
   "source": [
    "## Etablissement :"
   ]
  },
  {
   "cell_type": "markdown",
   "id": "be7025d9",
   "metadata": {},
   "source": [
    "## Nom prénom :"
   ]
  },
  {
   "cell_type": "markdown",
   "id": "f846f6f8",
   "metadata": {},
   "source": [
    "<hr>\n",
    "<h1 align=\"center\"; margin:10;>BACCALAUREAT SESSION 2022<br>\n",
    "    Épreuve de l’enseignement de spécialité<br>\n",
    "    NUMERIQUE et SCIENCES INFORMATIQUES<br>\n",
    "    Partie pratique\n",
    "</h1>\n",
    "<h2 align=\"center\">Terminale de la voie générale<br></h2>\n",
    "<hr>"
   ]
  },
  {
   "cell_type": "markdown",
   "id": "6936c39d",
   "metadata": {},
   "source": [
    "\n",
    "## Sujet n° 31\n",
    "___\n",
    "## DUREE DE L’EPREUVE : 1 heure\n",
    "## - Le sujet comporte 2 exercices\n",
    "## - Le candidat doit traiter les 2 exercices."
   ]
  },
  {
   "cell_type": "markdown",
   "id": "352a9954",
   "metadata": {},
   "source": [
    "### EXERCICE 1 (4 points)\n",
    "Écrire en langage Python une fonction recherche prenant comme paramètres une  \n",
    "variable a de type numérique (float ou int) et un tableau t (type list) et qui  \n",
    "renvoie le nombre d'occurrences de a dans t.  \n",
    "\n",
    "**Exemples d'utilisations de la fonction recherche :** \n",
    "```\n",
    ">>> recherche(5,[])\n",
    "0\n",
    ">>> recherche(5,[-2, 3, 4, 8])\n",
    "0\n",
    ">>> recherche(5,[-2, 3, 1, 5, 3, 7, 4])\n",
    "1\n",
    ">>> recherche(5,[-2, 5, 3, 5, 4, 5])\n",
    "3\n",
    "```\n"
   ]
  },
  {
   "cell_type": "code",
   "execution_count": null,
   "id": "0fc0efd2",
   "metadata": {},
   "outputs": [],
   "source": [
    "def rechercher(....):\n",
    "    ......\n",
    "    pass\n",
    "\n",
    "assert recherche(5,[]) == 0\n",
    "assert recherche(5,[-2, 3, 4, 8])==0\n",
    "assert recherche(5,[-2, 3, 1, 5, 3, 7, 4])==1\n",
    "assert recherche(5,[-2, 5, 3, 5, 4, 5])==3\n"
   ]
  },
  {
   "cell_type": "markdown",
   "id": "9043a97b",
   "metadata": {},
   "source": [
    "### EXERCICE 2 (4 points)\n",
    "\n",
    "La fonction rendu_monnaie_centimes prend en paramètres deux nombres entiers  \n",
    "positifs s_due et s_versee et elle permet de procéder au rendu de monnaie de la  \n",
    "différence s_versee – s_due pour des achats effectués avec le système de pièces de  \n",
    "la zone Euro. On utilise pour cela un algorithme qui commence par rendre le maximum de  \n",
    "pièces de plus grandes valeurs et ainsi de suite. La fonction renvoie la liste des pièces qui  \n",
    "composent le rendu.  \n",
    "\n",
    "Toutes les sommes sont exprimées en centimes d’euros. Les valeurs possibles pour les \n",
    "pièces sont donc [1, 2, 5, 10, 20, 50, 100, 200].\n",
    "\n",
    "Ainsi, l’instruction rendu_monnaie_centimes(452, 500)\n",
    "\n",
    "renverra  la liste [20, 20, 5, 2, 1].  \n",
    "\n",
    "En effet, la somme à rendre est de 48 centimes soit 20 + 20 + 5 + 2 + 1. \n",
    "\n",
    "Le code de la fonction est donné ci-dessous :  \n",
    "\n",
    "```\n",
    "def rendu_monnaie_centimes(s_due, s_versee):\n",
    "    pieces = [1, 2, 5, 10, 20, 50, 100, 200]\n",
    "    rendu = ...\n",
    "    a_rendre = ...\n",
    "    i = len(pieces) - 1\n",
    "    while a_rendre > ... :\n",
    "        if pieces[i] <= a_rendre :\n",
    "            rendu.append(...)\n",
    "            a_rendre = ...\n",
    "        else :\n",
    "            i = ...\n",
    "    return rendu\n",
    "```    \n",
    "\n",
    "**Compléter ce code pour qu’il donne :**\n",
    "\n",
    "```\n",
    ">>> rendu_monnaie_centimes(700,700)\n",
    "[]\n",
    "\n",
    ">>> rendu_monnaie_centimes(112,500)\n",
    "[200, 100, 50, 20, 10, 5, 2, 1]\n",
    "\n",
    "```\n"
   ]
  },
  {
   "cell_type": "code",
   "execution_count": null,
   "id": "176f0235",
   "metadata": {},
   "outputs": [],
   "source": [
    "def rendu_monnaie_centimes(s_due, s_versee):\n",
    "    pieces = [1, 2, 5, 10, 20, 50, 100, 200]\n",
    "    rendu = ...\n",
    "    a_rendre = ...\n",
    "    i = len(pieces) - 1\n",
    "    while a_rendre > ... :\n",
    "        if pieces[i] <= a_rendre :\n",
    "            rendu.append(...)\n",
    "            a_rendre = ...\n",
    "        else :\n",
    "            i = ...\n",
    "    return rendu\n",
    "\n",
    "assert rendu_monnaie_centimes(700,700)==[]\n",
    "assert rendu_monnaie_centimes(112,500)==[200, 100, 50, 20, 10, 5, 2, 1]\n"
   ]
  }
 ],
 "metadata": {
  "kernelspec": {
   "display_name": "Python 3",
   "language": "python",
   "name": "python3"
  },
  "language_info": {
   "codemirror_mode": {
    "name": "ipython",
    "version": 3
   },
   "file_extension": ".py",
   "mimetype": "text/x-python",
   "name": "python",
   "nbconvert_exporter": "python",
   "pygments_lexer": "ipython3",
   "version": "3.9.9"
  }
 },
 "nbformat": 4,
 "nbformat_minor": 5
}
