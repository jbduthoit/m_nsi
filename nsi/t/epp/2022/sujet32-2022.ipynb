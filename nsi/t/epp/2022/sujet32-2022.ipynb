{
 "cells": [
  {
   "cell_type": "markdown",
   "id": "da4d5d7d",
   "metadata": {},
   "source": [
    "## Etablissement :"
   ]
  },
  {
   "cell_type": "markdown",
   "id": "be7025d9",
   "metadata": {},
   "source": [
    "## Nom prénom :"
   ]
  },
  {
   "cell_type": "markdown",
   "id": "f846f6f8",
   "metadata": {},
   "source": [
    "<hr>\n",
    "<h1 align=\"center\"; margin:10;>BACCALAUREAT SESSION 2022<br>\n",
    "    Épreuve de l’enseignement de spécialité<br>\n",
    "    NUMERIQUE et SCIENCES INFORMATIQUES<br>\n",
    "    Partie pratique\n",
    "</h1>\n",
    "<h2 align=\"center\">Terminale de la voie générale<br></h2>\n",
    "<hr>"
   ]
  },
  {
   "cell_type": "markdown",
   "id": "6936c39d",
   "metadata": {},
   "source": [
    "\n",
    "## Sujet n° 32\n",
    "___\n",
    "## DUREE DE L’EPREUVE : 1 heure\n",
    "## - Le sujet comporte 2 exercices\n",
    "## - Le candidat doit traiter les 2 exercices."
   ]
  },
  {
   "cell_type": "markdown",
   "id": "352a9954",
   "metadata": {},
   "source": [
    "### EXERCICE 1 (4 points)\n",
    "Écrire une fonction recherche qui prend en paramètres elt un nombre et tab un  \n",
    "tableau de nombres, et qui renvoie l’indice de la dernière occurrence de elt dans tab si  \n",
    "elt est dans tab et le -1 sinon.  \n",
    "\n",
    "\n",
    "**Exemples d'utilisations de la fonction recherche :** \n",
    "```\n",
    ">>>recherche(1,[2,3,4])\n",
    "-1\n",
    ">>>recherche(1,[10,12,1,56])\n",
    "2\n",
    ">>>recherche(1,[1,50,1])\n",
    "2\n",
    ">>>recherche(1,[8,1,10,1,7,1,8])\n",
    "5\n",
    "```\n"
   ]
  },
  {
   "cell_type": "code",
   "execution_count": null,
   "id": "0fc0efd2",
   "metadata": {},
   "outputs": [],
   "source": [
    "def rechercher(....):\n",
    "    ......\n",
    "    pass\n",
    "\n",
    "assert recherche(1,[2,3,4]) == -1\n",
    "assert recherche(1,[10,12,1,56]) == 2\n",
    "assert recherche(1,[1,50,1]) == 2\n",
    "assert recherche(1,[8,1,10,1,7,1,8]) == 5\n"
   ]
  },
  {
   "cell_type": "markdown",
   "id": "9043a97b",
   "metadata": {},
   "source": [
    "### EXERCICE 2 (4 points)\n",
    "\n",
    "On définit une classe gérant une adresse IPv4.\n",
    "\n",
    "On rappelle qu’une adresse IPv4 est une adresse de longueur 4 octets, notée en décimale à point, en séparant chacun des octets par un point. On considère un réseau privé avec une plage d’adresses IP de 192.168.0.0 à 192.168.0.255.\n",
    "\n",
    "On considère que les adresses IP saisies sont valides.\n",
    "\n",
    "Les adresses IP 192.168.0.0 et 192.168.0.255 sont des adresses réservées.\n",
    "\n",
    "Le code ci-dessous implémente la classe AdresseIP.\n",
    "```\n",
    "class AdresseIP:\n",
    "\n",
    "    def __init__(self, adresse):\n",
    "        self.adresse = ...\n",
    "\n",
    "    def liste_octet(self):\n",
    "        \"\"\"renvoie une liste de nombres entiers,\n",
    "           la liste des octets de l'adresse IP\"\"\"\n",
    "        return [int(i) for i in self.adresse.split(\".\")] \n",
    "\n",
    "    def est_reservee(self):\n",
    "        \"\"\"renvoie True si l'adresse IP est une adresse\n",
    "           réservée, False sinon\"\"\"\n",
    "        return ... or ...\n",
    "\n",
    "    def adresse_suivante(self):\n",
    "        \"\"\"renvoie un objet de AdresseIP avec l'adresse \n",
    "           IP qui suit l’adresse self\n",
    "           si elle existe et False sinon\"\"\"\n",
    "        if ... < 254:\n",
    "            octet_nouveau = ... + ...\n",
    "            return AdresseIP('192.168.0.' + ...)\n",
    "        else:\n",
    "            return False\n",
    "```\n",
    "Compléter le code ci-dessus et instancier trois objets : adresse1, adresse2, adresse3 avec respectivement les arguments suivants :\n",
    "\n",
    "'192.168.0.1', '192.168.0.2', '192.168.0.0'\n",
    "\n",
    "Vérifier que :\n",
    "```\n",
    ">>> adresse1.est_reservee()\n",
    "False\n",
    ">>> adresse3.est_reservee()\n",
    "True\n",
    ">>> adresse2.adresse_suivante().adresse\n",
    "'192.168.0.3'\n",
    "```"
   ]
  },
  {
   "cell_type": "code",
   "execution_count": null,
   "id": "176f0235",
   "metadata": {},
   "outputs": [],
   "source": [
    "class AdresseIP:\n",
    "\n",
    "    def __init__(self, adresse):\n",
    "        self.adresse = ...\n",
    "\n",
    "    def liste_octet(self):\n",
    "        \"\"\"renvoie une liste de nombres entiers,\n",
    "           la liste des octets de l'adresse IP\"\"\"\n",
    "        return [int(i) for i in self.adresse.split(\".\")] \n",
    "\n",
    "    def est_reservee(self):\n",
    "        \"\"\"renvoie True si l'adresse IP est une adresse\n",
    "           réservée, False sinon\"\"\"\n",
    "        return ... or ...\n",
    "\n",
    "    def adresse_suivante(self):\n",
    "        \"\"\"renvoie un objet de AdresseIP avec l'adresse \n",
    "           IP qui suit l’adresse self\n",
    "           si elle existe et False sinon\"\"\"\n",
    "        if ... < 254:\n",
    "            octet_nouveau = ... + ...\n",
    "            return AdresseIP('192.168.0.' + ...)\n",
    "        else:\n",
    "            return False\n",
    "\n",
    "assert adresse1.est_reservee()==False\n",
    "assert adresse3.est_reservee()==#True\n",
    "assert adresse2.adresse_suivante().adresse =='192.168.0.3'\n",
    "\n",
    "\n"
   ]
  }
 ],
 "metadata": {
  "kernelspec": {
   "display_name": "Python 3",
   "language": "python",
   "name": "python3"
  },
  "language_info": {
   "codemirror_mode": {
    "name": "ipython",
    "version": 3
   },
   "file_extension": ".py",
   "mimetype": "text/x-python",
   "name": "python",
   "nbconvert_exporter": "python",
   "pygments_lexer": "ipython3",
   "version": "3.9.9"
  }
 },
 "nbformat": 4,
 "nbformat_minor": 5
}
