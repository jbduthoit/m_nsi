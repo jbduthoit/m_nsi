{
 "cells": [
  {
   "cell_type": "markdown",
   "id": "da4d5d7d",
   "metadata": {},
   "source": [
    "## Etablissement :"
   ]
  },
  {
   "cell_type": "markdown",
   "id": "be7025d9",
   "metadata": {},
   "source": [
    "## Nom prénom :"
   ]
  },
  {
   "cell_type": "markdown",
   "id": "f846f6f8",
   "metadata": {},
   "source": [
    "<hr>\n",
    "<h1 align=\"center\"; margin:10;>BACCALAUREAT SESSION 2022<br>\n",
    "    Épreuve de l’enseignement de spécialité<br>\n",
    "    NUMERIQUE et SCIENCES INFORMATIQUES<br>\n",
    "    Partie pratique\n",
    "</h1>\n",
    "<h2 align=\"center\">Terminale de la voie générale<br></h2>\n",
    "<hr>"
   ]
  },
  {
   "cell_type": "markdown",
   "id": "6936c39d",
   "metadata": {},
   "source": [
    "\n",
    "## Sujet n° 33\n",
    "___\n",
    "## DUREE DE L’EPREUVE : 1 heure\n",
    "## - Le sujet comporte 2 exercices\n",
    "## - Le candidat doit traiter les 2 exercices."
   ]
  },
  {
   "cell_type": "markdown",
   "id": "352a9954",
   "metadata": {},
   "source": [
    "### EXERCICE 1 (4 points)\n",
    "On modélise la représentation binaire d'un entier non signé par un tableau d'entiers dont  \n",
    "les éléments sont 0 ou 1. Par exemple, le tableau [1, 0, 1, 0, 0, 1, 1] représente  \n",
    "l'écriture binaire de l'entier dont l'écriture décimale est  \n",
    "\n",
    "2**6 + 2**4 + 2**1 + 2**0 = 83.\n",
    "\n",
    "À l'aide d'un parcours séquentiel, écrire la fonction convertir répondant aux  \n",
    "spécifications suivantes :  \n",
    "\n",
    "def convertir(T):\n",
    "\"\"\"\n",
    "T est un tableau d'entiers, dont les éléments sont 0 ou 1 et\n",
    "représentant un entier écrit en binaire. Renvoie l'écriture\n",
    "décimale de l'entier positif dont la représentation binaire\n",
    "est donnée par le tableau T\n",
    "\"\"\"\n",
    "\n",
    "**Exemple :**\n",
    "```\n",
    ">>> convertir([1, 0, 1, 0, 0, 1, 1])\n",
    "83\n",
    ">>> convertir([1, 0, 0, 0, 0, 0, 1, 0])\n",
    "130\n",
    "```\n"
   ]
  },
  {
   "cell_type": "code",
   "execution_count": null,
   "id": "0fc0efd2",
   "metadata": {},
   "outputs": [],
   "source": [
    "def convertir(T):\n",
    "    \"\"\"\n",
    "    T est un tableau d'entiers, dont les éléments sont 0 ou 1 et\n",
    "    représentant un entier écrit en binaire. Renvoie l'écriture\n",
    "    décimale de l'entier positif dont la représentation binaire\n",
    "    est donnée par le tableau T\n",
    "    \"\"\"\n",
    "    pass\n",
    "\n",
    "\n",
    "assert convertir([1, 0, 1, 0, 0, 1, 1])==83\n",
    "assert convertir([1, 0, 0, 0, 0, 0, 1, 0])==130\n"
   ]
  },
  {
   "cell_type": "markdown",
   "id": "9043a97b",
   "metadata": {},
   "source": [
    "### EXERCICE 2 (4 points)\n",
    "\n",
    "La fonction tri_insertion suivante prend en argument une liste L et trie cette liste en utilisant la méthode du tri par insertion. Compléter cette fonction pour qu'elle réponde à la spécification demandée.\n",
    "```\n",
    "def tri_insertion(L):\n",
    "    n = len(L)\n",
    "\n",
    "    # cas du tableau vide\n",
    "    if ...:\n",
    "        return L\n",
    "\n",
    "    for j in range(1,n):\n",
    "        e = L[j]\n",
    "        i = j\n",
    "\n",
    "    # A l'étape j, le sous-tableau L[0,j-1] est trié\n",
    "    # et on insère L[j] dans ce sous-tableau en déterminant\n",
    "    # le plus petit i tel que 0 <= i <= j et L[i-1] > L[j].\n",
    "        while  i > 0 and L[i-1] > ...:\n",
    "            i = ...\n",
    "\n",
    "        # si i != j, on décale le sous tableau L[i,j-1] d’un cran\n",
    "        # vers la droite et on place L[j] en position i\n",
    "        if i != j:\n",
    "            for k in range(j,i,...):\n",
    "                L[k] = L[...]\n",
    "            L[i] = ...\n",
    "    return L\n",
    "```\n",
    "\n",
    "### Exemples :\n",
    "```\n",
    "> tri_insertion([2,5,-1,7,0,28])  \n",
    "[-1, 0, 2, 5, 7, 28]  \n",
    "\n",
    "> tri_insertion([10,9,8,7,6,5,4,3,2,1,0])  \n",
    "[0, 1, 2, 3, 4, 5, 6, 7, 8, 9, 10]  \n",
    "```"
   ]
  },
  {
   "cell_type": "code",
   "execution_count": null,
   "id": "176f0235",
   "metadata": {},
   "outputs": [],
   "source": [
    "def tri_insertion(L):\n",
    "    n = len(L)\n",
    "\n",
    "    # cas du tableau vide\n",
    "    if ...:\n",
    "        return L\n",
    "\n",
    "    for j in range(1,n):\n",
    "        e = L[j]\n",
    "        i = j\n",
    "\n",
    "    # A l'etape j, le sous-tableau L[0,j-1] est trie\n",
    "    # et on insere L[j] dans ce sous-tableau en determinant\n",
    "    # le plus petit i tel que 0 <= i <= j et L[i-1] > L[j].\n",
    "        while  i > 0 and L[i-1] > ...:\n",
    "            i = ...\n",
    "        \n",
    "        # si i != j, on decale le sous tableau L[i,j-1] d'un cran\n",
    "        # vers la droite et on place L[j] en position i\n",
    "        if i != j:\n",
    "            for k in range(j,i,...):\n",
    "                L[k] = L[...]\n",
    "            L[i] = ...\n",
    "    return L\n",
    "\n",
    "\n",
    "assert tri_insertion([10,9,8,7,6,5,4,3,2,1,0])==[0, 1, 2, 3, 4, 5, 6, 7, 8, 9, 10],'erreur 1'\n",
    "assert tri_insertion([8,6,4,2,1,10])==[1, 2, 4, 6, 8, 10],'erreur 2'\n"
   ]
  }
 ],
 "metadata": {
  "kernelspec": {
   "display_name": "Python 3",
   "language": "python",
   "name": "python3"
  },
  "language_info": {
   "codemirror_mode": {
    "name": "ipython",
    "version": 3
   },
   "file_extension": ".py",
   "mimetype": "text/x-python",
   "name": "python",
   "nbconvert_exporter": "python",
   "pygments_lexer": "ipython3",
   "version": "3.9.9"
  }
 },
 "nbformat": 4,
 "nbformat_minor": 5
}
