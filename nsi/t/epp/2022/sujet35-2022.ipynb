{
 "cells": [
  {
   "cell_type": "markdown",
   "id": "da4d5d7d",
   "metadata": {},
   "source": [
    "## Etablissement :"
   ]
  },
  {
   "cell_type": "markdown",
   "id": "be7025d9",
   "metadata": {},
   "source": [
    "## Nom prénom :"
   ]
  },
  {
   "cell_type": "markdown",
   "id": "f846f6f8",
   "metadata": {},
   "source": [
    "<hr>\n",
    "<h1 align=\"center\"; margin:10;>BACCALAUREAT SESSION 2022<br>\n",
    "    Épreuve de l’enseignement de spécialité<br>\n",
    "    NUMERIQUE et SCIENCES INFORMATIQUES<br>\n",
    "    Partie pratique\n",
    "</h1>\n",
    "<h2 align=\"center\">Terminale de la voie générale<br></h2>\n",
    "<hr>"
   ]
  },
  {
   "cell_type": "markdown",
   "id": "6936c39d",
   "metadata": {},
   "source": [
    "\n",
    "## Sujet n° 35\n",
    "___\n",
    "## DUREE DE L’EPREUVE : 1 heure\n",
    "## - Le sujet comporte 2 exercices\n",
    "## - Le candidat doit traiter les 2 exercices."
   ]
  },
  {
   "cell_type": "markdown",
   "id": "352a9954",
   "metadata": {},
   "source": [
    "### EXERCICE 1 (4 points)\n",
    "Ecrire une fonction qui prend en paramètre un tableau d'entiers non vide et qui renvoie la  \n",
    "moyenne de ces entiers. La fonction est spécifiée ci-après et doit passer les assertions fournies.  \n",
    "\n",
    "```\n",
    "def moyenne (tab):\n",
    "    '''\n",
    "    moyenne(list) -> float\n",
    "    Entrée : un tableau non vide d'entiers\n",
    "    Sortie : nombre de type float\n",
    "    Correspondant à la moyenne des valeurs présentes dans le\n",
    "    tableau\n",
    "    '''\n",
    "    \n",
    "assert moyenne([1]) == 1\n",
    "assert moyenne([1,2,3,4,5,6,7]) == 4\n",
    "assert moyenne([1,2]) == 1.5\n",
    "```\n",
    "\n"
   ]
  },
  {
   "cell_type": "code",
   "execution_count": null,
   "id": "0fc0efd2",
   "metadata": {},
   "outputs": [],
   "source": [
    "def moyenne (tab):\n",
    "    '''\n",
    "    moyenne(list) -> float\n",
    "    Entrée : un tableau non vide d'entiers\n",
    "    Sortie : nombre de type float\n",
    "    Correspondant à la moyenne des valeurs présentes dans le\n",
    "    tableau\n",
    "    '''\n",
    "    pass\n",
    "\n",
    "assert moyenne([1]) == 1\n",
    "assert moyenne([1,2,3,4,5,6,7]) == 4\n",
    "assert moyenne([1,2]) == 1.5"
   ]
  },
  {
   "cell_type": "markdown",
   "id": "9043a97b",
   "metadata": {},
   "source": [
    "### EXERCICE 2 (4 points)\n",
    "\n",
    "Le but de l'exercice est de compléter une fonction qui détermine si une valeur est présente dans un tableau de valeurs triées dans l'ordre croissant.\n",
    "\n",
    "L'algorithme traite le cas du tableau vide.\n",
    "\n",
    "L'algorithme est écrit pour que la recherche dichotomique ne se fasse que dans le cas où la valeur est comprise entre les valeurs extrêmes du tableau.\n",
    "\n",
    "On distingue les trois cas qui renvoient False en renvoyant False,1 , False,2 et False,3.\n",
    "\n",
    "Compléter l'algorithme de dichotomie donné ci-après.\n",
    "\n",
    "```\n",
    "def dichotomie(tab, x):\n",
    "    \"\"\"\n",
    "        tab : tableau trié dans l’ordre croissant\n",
    "        x : nombre entier\n",
    "        La fonction renvoie True si tab contient x et False sinon\n",
    "    \"\"\"\n",
    "    # cas du tableau vide\n",
    "    if ...:\n",
    "        return False,1\n",
    "\n",
    "    # cas où x n'est pas compris entre les valeurs extrêmes\n",
    "    if (x < tab[0]) or ...:\n",
    "        return False,2\n",
    "\n",
    "    debut = 0\n",
    "    fin = len(tab) - 1\n",
    "    while debut <= fin:\n",
    "        m = ...\n",
    "        if x == tab[m]:\n",
    "            return ...\n",
    "        if x > tab[m]:\n",
    "            debut = m + 1\n",
    "        else:\n",
    "            fin = ...            \n",
    "    return ...\n",
    "```\n",
    "### Exemples :\n",
    "```\n",
    "> dichotomie([15, 16, 18, 19, 23, 24, 28, 29, 31, 33],28)  \n",
    "True  \n",
    "\n",
    "> dichotomie([15, 16, 18, 19, 23, 24, 28, 29, 31, 33],27)  \n",
    "(False, 3)  \n",
    "\n",
    "> dichotomie([15, 16, 18, 19, 23, 24, 28, 29, 31, 33],1)  \n",
    "(False, 2)  \n",
    "\n",
    "> dichotomie([],28)  \n",
    "(False, 1)  \n",
    "```\n"
   ]
  },
  {
   "cell_type": "code",
   "execution_count": null,
   "id": "176f0235",
   "metadata": {},
   "outputs": [],
   "source": [
    "def dichotomie(tab, x):\n",
    "    \"\"\"\n",
    "        tab : tableau trie dans l'ordre croissant\n",
    "        x : nombre entier\n",
    "        La fonction renvoie True si tab contient x et False sinon\n",
    "    \"\"\"\n",
    "    # cas du tableau vide\n",
    "    if ...:\n",
    "        return False,1\n",
    "\n",
    "    # cas ou x n'est pas compris entre les valeurs extremes\n",
    "    if (x < tab[0]) or ...:\n",
    "        return False,2\n",
    "    \n",
    "    debut = 0\n",
    "    fin = len(tab) - 1\n",
    "    while debut <= fin:\n",
    "        m = ...\n",
    "        if x == tab[m]:\n",
    "            return ...\n",
    "        if x > tab[m]:\n",
    "            debut = m + 1\n",
    "        else:\n",
    "            fin = ...\t\t\t\n",
    "    return ...\n",
    "\n",
    "\n",
    "assert dichotomie([15, 16, 18, 19, 23, 24, 28, 29, 31, 33],28)  == True  \n",
    "assert dichotomie([15, 16, 18, 19, 23, 24, 28, 29, 31, 33],27)  == (False, 3)  \n",
    "assert dichotomie([15, 16, 18, 19, 23, 24, 28, 29, 31, 33],1)  == (False, 2)  \n",
    "assert dichotomie([],28)  == (False, 1)  \n"
   ]
  }
 ],
 "metadata": {
  "kernelspec": {
   "display_name": "Python 3",
   "language": "python",
   "name": "python3"
  },
  "language_info": {
   "codemirror_mode": {
    "name": "ipython",
    "version": 3
   },
   "file_extension": ".py",
   "mimetype": "text/x-python",
   "name": "python",
   "nbconvert_exporter": "python",
   "pygments_lexer": "ipython3",
   "version": "3.9.9"
  }
 },
 "nbformat": 4,
 "nbformat_minor": 5
}
