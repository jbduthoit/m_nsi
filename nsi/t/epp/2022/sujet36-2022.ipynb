{
 "cells": [
  {
   "cell_type": "markdown",
   "id": "da4d5d7d",
   "metadata": {},
   "source": [
    "## Etablissement :"
   ]
  },
  {
   "cell_type": "markdown",
   "id": "be7025d9",
   "metadata": {},
   "source": [
    "## Nom prénom :"
   ]
  },
  {
   "cell_type": "markdown",
   "id": "f846f6f8",
   "metadata": {},
   "source": [
    "<hr>\n",
    "<h1 align=\"center\"; margin:10;>BACCALAUREAT SESSION 2022<br>\n",
    "    Épreuve de l’enseignement de spécialité<br>\n",
    "    NUMERIQUE et SCIENCES INFORMATIQUES<br>\n",
    "    Partie pratique\n",
    "</h1>\n",
    "<h2 align=\"center\">Terminale de la voie générale<br></h2>\n",
    "<hr>"
   ]
  },
  {
   "cell_type": "markdown",
   "id": "6936c39d",
   "metadata": {},
   "source": [
    "\n",
    "## Sujet n° 36\n",
    "___\n",
    "## DUREE DE L’EPREUVE : 1 heure\n",
    "## - Le sujet comporte 2 exercices\n",
    "## - Le candidat doit traiter les 2 exercices."
   ]
  },
  {
   "cell_type": "markdown",
   "id": "352a9954",
   "metadata": {},
   "source": [
    "### EXERCICE 1 (4 points)\n",
    "Programmer la fonction recherche, prenant en paramètre un tableau non vide tab (type list) d'entiers et un entier n,  \n",
    "et qui renvoie l'indice de la dernière occurrence de l'élément cherché. Si l'élément n'est pas présent, la fonction renvoie la longueur du tableau.\n",
    "\n",
    "#### Exemples :\n",
    "```\n",
    ">>> recherche([5, 3],1)\n",
    "2\n",
    "\n",
    ">>> recherche([2,4],2)\n",
    "0\n",
    "\n",
    ">>> recherche([2,3,5,2,4],2)\n",
    "3\n",
    "```\n",
    "\n"
   ]
  },
  {
   "cell_type": "code",
   "execution_count": null,
   "id": "0fc0efd2",
   "metadata": {},
   "outputs": [],
   "source": [
    "def recherche (tab,n):\n",
    "    pass\n",
    "\n",
    "# Les tests\n",
    "assert recherche([5,3],1) == 2,'erreur 1' \n",
    "assert recherche([2,4],2) == 0,'erreur 2' \n",
    "assert recherche([2,3,5,2,4],2) == 3,'erreur 3'  \n"
   ]
  },
  {
   "cell_type": "markdown",
   "id": "9043a97b",
   "metadata": {},
   "source": [
    "### EXERCICE 2 (4 points)\n",
    "\n",
    "On souhaite programmer une fonction donnant la distance la plus courte entre un point de départ et une liste de points. Les points sont tous à coordonnées entières.\n",
    "\n",
    "Les points sont donnés sous la forme d'un tuple de deux entiers.\n",
    "\n",
    "La liste des points à traiter est donc un tableau de tuples.\n",
    "\n",
    "On rappelle que la distance entre deux points du plan de coordonnées (x ; y) et (x' ; y') est donnée par la formule :\n",
    "![racine](img36_2.png)\n",
    "\n",
    "On importe pour cela la fonction racine carrée (sqrt) du module math de Python.\n",
    "\n",
    "On dispose d'une fonction distance et d'une fonction plus_courte_distance :\n",
    "```\n",
    "from math import sqrt  # import de la fonction racine carrée\n",
    "\n",
    "def distance(point1, point2):\n",
    "    \"\"\" Calcule et renvoie la distance entre deux points. \"\"\"\n",
    "    return sqrt((...)**2 + (...)**2)\n",
    "\n",
    "assert distance((1, 0), (5, 3)) == 5.0, \"erreur de calcul\"\n",
    "\n",
    "def plus_courte_distance(tab, depart):\n",
    "    \"\"\" Renvoie le point du tableau tab se trouvant à la plus courte distance du point depart.\"\"\"\n",
    "    point = tab[0]\n",
    "    min_dist = ...\n",
    "    for i in range (1, ...):\n",
    "        if distance(tab[i], depart)...:\n",
    "            point = ...\n",
    "            min_dist = ...\n",
    "    return point\n",
    "\n",
    "assert plus_courte_distance([(7, 9), (2, 5), (5, 2)], (0, 0)) == (2, 5), \"erreur\"\n",
    "```\n"
   ]
  },
  {
   "cell_type": "code",
   "execution_count": null,
   "id": "176f0235",
   "metadata": {},
   "outputs": [],
   "source": [
    "from math import sqrt  0/4\n",
    "\n",
    "def distance(point1, point2):\n",
    "    return sqrt((x-a)**2 + (y-b)**2)#sqrt((point1[0]-point2[0])**2 + (point1[1]-point2[1])**2)\n",
    "\n",
    "assert distance((1, 0), (5, 3)) == 5.0, \"erreur de calcul\"\n",
    "\n",
    "def plus_courte_distance(tab, depart):\n",
    "    point = tab[0]\n",
    "    min_dist = ...\n",
    "    for i in range (1, ...):\n",
    "        if distance(tab[i], depart)...:\n",
    "            point = ...\n",
    "            min_dist = ...\n",
    "    return point\n",
    "\n",
    "assert plus_courte_distance([(7, 9), (2, 5), (5, 2)], (0, 0)) == (2, 5), \"erreur\"\n"
   ]
  }
 ],
 "metadata": {
  "kernelspec": {
   "display_name": "Python 3",
   "language": "python",
   "name": "python3"
  },
  "language_info": {
   "codemirror_mode": {
    "name": "ipython",
    "version": 3
   },
   "file_extension": ".py",
   "mimetype": "text/x-python",
   "name": "python",
   "nbconvert_exporter": "python",
   "pygments_lexer": "ipython3",
   "version": "3.9.9"
  }
 },
 "nbformat": 4,
 "nbformat_minor": 5
}
