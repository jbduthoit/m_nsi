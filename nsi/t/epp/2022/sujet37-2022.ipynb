{
 "cells": [
  {
   "cell_type": "markdown",
   "id": "da4d5d7d",
   "metadata": {},
   "source": [
    "## Etablissement :"
   ]
  },
  {
   "cell_type": "markdown",
   "id": "be7025d9",
   "metadata": {},
   "source": [
    "## Nom prénom :"
   ]
  },
  {
   "cell_type": "markdown",
   "id": "f846f6f8",
   "metadata": {},
   "source": [
    "<hr>\n",
    "<h1 align=\"center\"; margin:10;>BACCALAUREAT SESSION 2022<br>\n",
    "    Épreuve de l’enseignement de spécialité<br>\n",
    "    NUMERIQUE et SCIENCES INFORMATIQUES<br>\n",
    "    Partie pratique\n",
    "</h1>\n",
    "<h2 align=\"center\">Terminale de la voie générale<br></h2>\n",
    "<hr>"
   ]
  },
  {
   "cell_type": "markdown",
   "id": "6936c39d",
   "metadata": {},
   "source": [
    "\n",
    "## Sujet n° 37\n",
    "___\n",
    "## DUREE DE L’EPREUVE : 1 heure\n",
    "## - Le sujet comporte 2 exercices\n",
    "## - Le candidat doit traiter les 2 exercices."
   ]
  },
  {
   "cell_type": "markdown",
   "id": "352a9954",
   "metadata": {},
   "source": [
    "### EXERCICE 1 (4 points)\n",
    "Programmer la fonction verifie qui prend en paramètre un tableau de valeurs numériques non  \n",
    "vide et qui renvoie True si ce tableau est trié dans l’ordre croissant, False sinon.  \n",
    "\n",
    "**Exemples :**\n",
    "\n",
    "```\n",
    ">>> verifie([0, 5, 8, 8, 9])\n",
    "True\n",
    "\n",
    ">>> verifie([8, 12, 4])\n",
    "False\n",
    "\n",
    ">>> verifie([-1, 4])\n",
    "True\n",
    "\n",
    ">>> verifie([5])\n",
    "True\n",
    "```\n"
   ]
  },
  {
   "cell_type": "code",
   "execution_count": null,
   "id": "0fc0efd2",
   "metadata": {},
   "outputs": [],
   "source": [
    "def verifie(tab):\n",
    "    pass\n",
    "\n",
    "# Les tests\n",
    "assert verifie([0, 5, 8, 8, 9]) == True\n",
    "assert  verifie([8, 12, 4]) == False\n",
    "assert  verifie([-1, 4])== True\n",
    "assert  verifie([5]) == True"
   ]
  },
  {
   "cell_type": "markdown",
   "id": "9043a97b",
   "metadata": {},
   "source": [
    "### EXERCICE 2 (4 points)\n",
    "\n",
    "Chaque soir, les auditeurs d’une radio votent en ligne pour leur artiste favori. Ces votes sont\n",
    "stockés dans un tableau.\n",
    "\n",
    "**Exemple :**\n",
    "\n",
    "Urne = ['Oreilles sales', 'Oreilles sales', 'Oreilles sales', 'Extra Vomit','Lady Baba', 'Extra Vomit', 'Lady Baba', 'Extra Vomit', 'Lady Baba', 'Extra Vomit']\n",
    "\n",
    "La fonction depouille doit permettre de compter le nombre de votes exprimés pour chaque  \n",
    "artiste. Elle prend en paramètre un tableau et renvoie le résultat dans un dictionnaire dont les  \n",
    "clés sont les noms des artistes et les valeurs le nombre de votes en leur faveur.  \n",
    "La fonction vainqueur doit désigner le nom du ou des gagnants. Elle prend en paramètre un  \n",
    "dictionnaire dont la structure est celle du dictionnaire renvoyé par la fonction depouille et  \n",
    "renvoie un tableau. Ce tableau peut donc contenir plusieurs éléments s’il y a des artistes exaequo.\n",
    "\n",
    "Compléter les fonctions depouille et vainqueur ci-après pour qu’elles renvoient les résultats attendus.\n",
    "\n",
    "```\n",
    "urne = ['Oreilles sales', 'Oreilles sales', 'Oreilles sales',\n",
    "      'Extra Vomit', 'Lady Baba', 'Extra Vomit', 'Lady Baba',\n",
    "      'Extra Vomit', 'Lady Baba', 'Extra Vomit']\n",
    "\n",
    "def depouille(urne):\n",
    "    resultat = ...\n",
    "    for bulletin in urne:\n",
    "        if ...:\n",
    "            resultat[bulletin] = resultat[bulletin] + 1\n",
    "        else:\n",
    "            ...\n",
    "    return resultat\n",
    "\n",
    "def vainqueur(election):\n",
    "    vainqueur = ''\n",
    "    nmax = 0\n",
    "    for candidat in election:\n",
    "        if ... > ... :\n",
    "            nmax = ...\n",
    "            vainqueur = candidat\n",
    "    liste_finale = [nom for nom in election if election[nom] == ...]\n",
    "    return ...\n",
    "\n",
    "\n",
    "```\n",
    "**Exemples d’utilisation :**\n",
    "```\n",
    ">>> election = depouille(urne)\n",
    ">>> election\n",
    "{'Extra Vomit': 4, 'Oreilles sales': 3, 'Lady Baba': 3}\n",
    "\n",
    ">>> vainqueur(election)\n",
    "['Extra Vomit']\n",
    "```"
   ]
  },
  {
   "cell_type": "code",
   "execution_count": null,
   "id": "176f0235",
   "metadata": {},
   "outputs": [],
   "source": [
    "urne = ['Oreilles sales', 'Oreilles sales', 'Oreilles sales','Extra Vomit', 'Lady Baba', 'Extra Vomit', 'Lady Baba','Extra Vomit', 'Lady Baba', 'Extra Vomit']\n",
    "\n",
    "def depouille(urne):\n",
    "    resultat = ...\n",
    "    for bulletin in urne:\n",
    "        if ...:\n",
    "            resultat[bulletin] = resultat[bulletin] + 1\n",
    "        else:\n",
    "            ...\n",
    "    return resultat\n",
    "\n",
    "def vainqueur(election):\n",
    "    vainqueur = ''\n",
    "    nmax = 0\n",
    "    for candidat in election:\n",
    "        if ... > ... :\n",
    "            nmax = ...\n",
    "            vainqueur = candidat\n",
    "    liste_finale = [nom for nom in election if election[nom] == ...]\n",
    "    return ...\n",
    "\n",
    "\n",
    "election = depouille(urne)\n",
    "assert election == {'Extra Vomit': 4, 'Oreilles sales': 3, 'Lady Baba': 3}\n",
    "assert vainqueur(election) == ['Extra Vomit']\n"
   ]
  }
 ],
 "metadata": {
  "kernelspec": {
   "display_name": "Python 3",
   "language": "python",
   "name": "python3"
  },
  "language_info": {
   "codemirror_mode": {
    "name": "ipython",
    "version": 3
   },
   "file_extension": ".py",
   "mimetype": "text/x-python",
   "name": "python",
   "nbconvert_exporter": "python",
   "pygments_lexer": "ipython3",
   "version": "3.9.9"
  }
 },
 "nbformat": 4,
 "nbformat_minor": 5
}
