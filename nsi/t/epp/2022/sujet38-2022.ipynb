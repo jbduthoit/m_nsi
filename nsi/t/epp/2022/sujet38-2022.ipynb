{
 "cells": [
  {
   "cell_type": "markdown",
   "id": "da4d5d7d",
   "metadata": {},
   "source": [
    "## Etablissement :"
   ]
  },
  {
   "cell_type": "markdown",
   "id": "be7025d9",
   "metadata": {},
   "source": [
    "## Nom prénom :"
   ]
  },
  {
   "cell_type": "markdown",
   "id": "f846f6f8",
   "metadata": {},
   "source": [
    "<hr>\n",
    "<h1 align=\"center\"; margin:10;>BACCALAUREAT SESSION 2022<br>\n",
    "    Épreuve de l’enseignement de spécialité<br>\n",
    "    NUMERIQUE et SCIENCES INFORMATIQUES<br>\n",
    "    Partie pratique\n",
    "</h1>\n",
    "<h2 align=\"center\">Terminale de la voie générale<br></h2>\n",
    "<hr>"
   ]
  },
  {
   "cell_type": "markdown",
   "id": "6936c39d",
   "metadata": {},
   "source": [
    "\n",
    "## Sujet n° 38\n",
    "___\n",
    "## DUREE DE L’EPREUVE : 1 heure\n",
    "## - Le sujet comporte 2 exercices\n",
    "## - Le candidat doit traiter les 2 exercices."
   ]
  },
  {
   "cell_type": "markdown",
   "id": "352a9954",
   "metadata": {},
   "source": [
    "### EXERCICE 1 (4 points)\n",
    "Écrire une fonction tri_selection qui prend en paramètre une liste tab de nombres\n",
    "entiers et qui renvoie le tableau trié par ordre croissant.\n",
    "On utilisera l’algorithme suivant :\n",
    "- on recherche le plus petit élément du tableau, et on l'échange avec l'élément d'indice 0 ;\n",
    "- on recherche le second plus petit élément du tableau, et on l'échange avec l'élément d'indice 1 ;\n",
    "\n",
    "on continue de cette façon jusqu'à ce que le tableau soit entièrement trié.\n",
    "\n",
    "**Exemple :**\n",
    "```\n",
    ">>> tri_selection([1,52,6,-9,12])\n",
    "[-9, 1, 6, 12, 52]\n",
    "```\n"
   ]
  },
  {
   "cell_type": "code",
   "execution_count": null,
   "id": "0fc0efd2",
   "metadata": {},
   "outputs": [],
   "source": [
    "def verifie(tab):\n",
    "    pass\n",
    "\n",
    "\n",
    "assert tri_selection([1,52,6,-9,12]) == [-9, 1, 6, 12, 52]\n"
   ]
  },
  {
   "cell_type": "markdown",
   "id": "9043a97b",
   "metadata": {},
   "source": [
    "### EXERCICE 2 (4 points)\n",
    "Le jeu du « plus ou moins » consiste à deviner un nombre entier choisi entre 1 et 99.\n",
    "\n",
    "Un élève de NSI décide de le coder en langage Python de la manière suivante :\n",
    "\n",
    "    le programme génère un nombre entier aléatoire compris entre 1 et 99 ;\n",
    "\n",
    "    si la proposition de l’utilisateur est plus petite que le nombre cherché, l’utilisateur en est averti. Il peut alors en tester un autre ;\n",
    "\n",
    "    si la proposition de l’utilisateur est plus grande que le nombre cherché, l’utilisateur en est averti. Il peut alors en tester un autre ; si l’utilisateur trouve le bon nombre en 10 essais ou moins, il gagne ;\n",
    "\n",
    "    si l’utilisateur a fait plus de 10 essais sans trouver le bon nombre, il perd.\n",
    "\n",
    "La fonction randint est utilisée. Si a et b sont des entiers, randint(a,b) renvoie un nombre entier compris entre a et b.\n",
    "\n",
    "Compléter le code ci-dessous et le tester :\n",
    "```\n",
    "from random import randint\n",
    "\n",
    "def plus_ou_moins():\n",
    "    nb_mystere = randint(1,...)\n",
    "    nb_test = int(input(\"Proposez un nombre entre 1 et 99 : \"))\n",
    "    compteur = ...\n",
    "\n",
    "    while nb_mystere != ... and compteur < ... :\n",
    "        compteur = compteur + ...\n",
    "        if nb_mystere ... nb_test:\n",
    "            nb_test = int(input(\"Trop petit ! Testez encore : \"))\n",
    "        else:\n",
    "            nb_test = int(input(\"Trop grand ! Testez encore : \"))\n",
    "\n",
    "    if nb_mystere == nb_test:\n",
    "        print (\"Bravo ! Le nombre était \",...)\n",
    "        print(\"Nombre d'essais: \",...)\n",
    "    else:\n",
    "        print (\"Perdu ! Le nombre était \",...)\n",
    "```\n"
   ]
  },
  {
   "cell_type": "code",
   "execution_count": null,
   "id": "176f0235",
   "metadata": {},
   "outputs": [],
   "source": [
    "from random import randint\n",
    "\n",
    "def plus_ou_moins():\n",
    "    nb_mystere = randint(1,...)\n",
    "    nb_test = int(input(\"Proposez un nombre entre 1 et 99 : \"))\n",
    "    compteur = ...\n",
    "\n",
    "    while nb_mystere != ... and compteur < ... :\n",
    "        compteur = compteur + ...\n",
    "        if nb_mystere ... nb_test:\n",
    "            nb_test = int(input(\"Trop petit ! Testez encore : \"))\n",
    "        else:\n",
    "            nb_test = int(input(\"Trop grand ! Testez encore : \"))\n",
    "\n",
    "    if nb_mystere == nb_test:\n",
    "        print (\"Bravo ! Le nombre etait \",...)\n",
    "        print(\"Nombre d'essais: \",...)\n",
    "    else:\n",
    "        print (\"Perdu ! Le nombre etait \",...)\n"
   ]
  }
 ],
 "metadata": {
  "kernelspec": {
   "display_name": "Python 3",
   "language": "python",
   "name": "python3"
  },
  "language_info": {
   "codemirror_mode": {
    "name": "ipython",
    "version": 3
   },
   "file_extension": ".py",
   "mimetype": "text/x-python",
   "name": "python",
   "nbconvert_exporter": "python",
   "pygments_lexer": "ipython3",
   "version": "3.9.9"
  }
 },
 "nbformat": 4,
 "nbformat_minor": 5
}
