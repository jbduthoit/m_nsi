{
 "cells": [
  {
   "cell_type": "markdown",
   "id": "da4d5d7d",
   "metadata": {},
   "source": [
    "## Etablissement :"
   ]
  },
  {
   "cell_type": "markdown",
   "id": "be7025d9",
   "metadata": {},
   "source": [
    "## Nom prénom :"
   ]
  },
  {
   "cell_type": "markdown",
   "id": "f846f6f8",
   "metadata": {},
   "source": [
    "<hr>\n",
    "<h1 align=\"center\"; margin:10;>BACCALAUREAT SESSION 2022<br>\n",
    "    Épreuve de l’enseignement de spécialité<br>\n",
    "    NUMERIQUE et SCIENCES INFORMATIQUES<br>\n",
    "    Partie pratique\n",
    "</h1>\n",
    "<h2 align=\"center\">Terminale de la voie générale<br></h2>\n",
    "<hr>"
   ]
  },
  {
   "cell_type": "markdown",
   "id": "6936c39d",
   "metadata": {},
   "source": [
    "\n",
    "## Sujet n° 39\n",
    "___\n",
    "## DUREE DE L’EPREUVE : 1 heure\n",
    "## - Le sujet comporte 2 exercices\n",
    "## - Le candidat doit traiter les 2 exercices."
   ]
  },
  {
   "cell_type": "markdown",
   "id": "352a9954",
   "metadata": {},
   "source": [
    "### EXERCICE 1 (4 points)\n",
    "Écrire une fonction moyenne prenant en paramètres une liste d’entiers et qui renvoie la\n",
    "moyenne des valeurs de cette liste.\n",
    "Exemple :\n",
    ">>> moyenne([10,20,30,40,60,110])\n",
    "45.0\n",
    "\n"
   ]
  },
  {
   "cell_type": "code",
   "execution_count": null,
   "id": "0fc0efd2",
   "metadata": {},
   "outputs": [],
   "source": [
    "def verifie(tab):\n",
    "    pass\n",
    "\n",
    "# Les tests\n",
    "assert verifie([0, 5, 8, 8, 9]) == True\n",
    "assert  verifie([8, 12, 4]) == False\n",
    "assert  verifie([-1, 4])== True\n",
    "assert  verifie([5]) == True"
   ]
  },
  {
   "cell_type": "markdown",
   "id": "9043a97b",
   "metadata": {},
   "source": [
    "### EXERCICE 2 (4 points)\n",
    "\n",
    "On travaille sur des dessins en noir et blanc obtenu à partir de pixels noirs et blancs :\n",
    "\n",
    "La figure « cœur » ci-dessous va servir d’exemple.\n",
    "\n",
    "![](img39_2.png)\n",
    "\n",
    "On la représente par une grille de nombres, c’est-à-dire par une liste composée de sous-listes de mêmes longueurs.\n",
    "\n",
    "Chaque sous-liste représentera donc une ligne du dessin.\n",
    "\n",
    "\n",
    "\n",
    "Dans le code ci-dessous, la fonction affiche permet d’afficher le dessin. Les pixels noirs (1 dans la grille) seront représentés par le caractère \"*\" et les blancs (0 dans la grille) par deux espaces.\n",
    "\n",
    "La fonction zoomListe prend en argument une liste liste_depart et un entier k. Elle renvoie une liste où chaque élément de liste_depart est dupliqué k fois.\n",
    "\n",
    "La fonction zoomDessin prend en argument la grille dessin et renvoie une grille où toutes les lignes de dessin sont zoomées k fois et répétées k fois.\n",
    "\n",
    "Soit le code ci-dessous :\n",
    "```\n",
    "coeur = [[0, 0, 0, 0, 0, 0, 0, 0, 0, 0, 0, 0, 0], \\\n",
    "         [0, 0, 0, 1, 1, 0, 0, 0, 1, 1, 0, 0, 0], \\\n",
    "         [0, 0, 1, 0, 0, 1, 0, 1, 0, 0, 1, 0, 0], \\\n",
    "         [0, 1, 0, 0, 0, 0, 1, 0, 0, 0, 0, 1, 0], \\\n",
    "         [0, 1, 0, 0, 0, 0, 0, 0, 0, 0, 0, 1, 0], \\\n",
    "         [0, 1, 0, 0, 0, 0, 0, 0, 0, 0, 0, 1, 0], \\\n",
    "         [0, 0, 1, 0, 0, 0, 0, 0, 0, 0, 1, 0, 0], \\\n",
    "         [0, 0, 0, 1, 0, 0, 0, 0, 0, 1, 0, 0, 0], \\\n",
    "         [0, 0, 0, 0, 1, 0, 0, 0, 1, 0, 0, 0, 0], \\\n",
    "         [0, 0, 0, 0, 0, 1, 0, 1, 0, 0, 0, 0, 0], \\\n",
    "         [0, 0, 0, 0, 0, 0, 1, 0, 0, 0, 0, 0, 0], \\\n",
    "         [0, 0, 0, 0, 0, 0, 0, 0, 0, 0, 0, 0, 0]]\n",
    "\n",
    "def affiche(dessin):\n",
    "    ''' affichage d'une grille : les 1 sont représentés par \n",
    "        des \"*\" , les 0 par deux espaces \"  \" '''\n",
    "    for ligne in dessin:\n",
    "        for col in ligne:\n",
    "            if col == 1:\n",
    "                print(\" *\",end=\"\")\n",
    "            else:\n",
    "                print(\"  \",end=\"\")\n",
    "        print()\n",
    "\n",
    "\n",
    "def zoomListe(liste_depart,k):\n",
    "    '''renvoie une liste contenant k fois chaque \n",
    "       élément de liste_depart'''\n",
    "    liste_zoom = ...\n",
    "    for elt in ... :\n",
    "        for i in range(k):\n",
    "            ...\n",
    "    return liste_zoom\n",
    "\n",
    "def zoomDessin(grille,k):\n",
    "    '''renvoie une grille où les lignes sont zoomées k fois \n",
    "       ET répétées k fois'''\n",
    "    grille_zoom=[]\n",
    "    for elt in grille:\n",
    "        liste_zoom = ...\n",
    "        for i in range(k):\n",
    "            ... .append(...)\n",
    "    return grille_zoom\n",
    "```\n",
    "\n",
    "Résultats à obtenir :\n",
    "```\n",
    ">>> affiche(coeur)\n",
    "```\n",
    "![](img39_2b1.png)\n",
    "```\n",
    ">>> affiche(zoomDessin(coeur,3))\n",
    "```\n",
    "![](img39_2b2.png)\n",
    "\n"
   ]
  },
  {
   "cell_type": "code",
   "execution_count": null,
   "id": "176f0235",
   "metadata": {},
   "outputs": [],
   "source": [
    "def affiche(dessin):\n",
    "    ''' affichage d'une grille : les 1 sont représentés par \n",
    "        des \"*\" , les 0 par deux espaces \"  \" '''\n",
    "    for ligne in dessin:\n",
    "        for col in ligne:\n",
    "            if col == 1:\n",
    "                print(\" *\",end=\"\")\n",
    "            else:\n",
    "                print(\"  \",end=\"\")\n",
    "        print()\n",
    "\n",
    "\n",
    "def zoomListe(liste_depart,k):\n",
    "    '''renvoie une liste contenant k fois chaque \n",
    "       élément de liste_depart'''\n",
    "    liste_zoom = ...\n",
    "    for elt in ... :\n",
    "        for i in range(k):\n",
    "            ...\n",
    "    return liste_zoom\n",
    "\n",
    "def zoomDessin(grille,k):\n",
    "    '''renvoie une grille où les lignes sont zoomées k fois \n",
    "       ET répétées k fois'''\n",
    "    grille_zoom=[]\n",
    "    for elt in grille:\n",
    "        liste_zoom = ...\n",
    "        for i in range(k):\n",
    "            ... .append(...)\n",
    "    return grille_zoom\n",
    "\n",
    "\n",
    "print(affiche(coeur))\n",
    "\n",
    "print(affiche(zoomDessin(coeur,3)))\n",
    "\n"
   ]
  }
 ],
 "metadata": {
  "kernelspec": {
   "display_name": "Python 3",
   "language": "python",
   "name": "python3"
  },
  "language_info": {
   "codemirror_mode": {
    "name": "ipython",
    "version": 3
   },
   "file_extension": ".py",
   "mimetype": "text/x-python",
   "name": "python",
   "nbconvert_exporter": "python",
   "pygments_lexer": "ipython3",
   "version": "3.9.9"
  }
 },
 "nbformat": 4,
 "nbformat_minor": 5
}
