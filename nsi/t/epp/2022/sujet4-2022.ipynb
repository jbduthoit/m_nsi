{
 "cells": [
  {
   "cell_type": "markdown",
   "id": "da4d5d7d",
   "metadata": {},
   "source": [
    "## Etablissement :"
   ]
  },
  {
   "cell_type": "markdown",
   "id": "be7025d9",
   "metadata": {},
   "source": [
    "## Nom prénom :"
   ]
  },
  {
   "cell_type": "markdown",
   "id": "f846f6f8",
   "metadata": {},
   "source": [
    "<hr>\n",
    "<h1 align=\"center\"; margin:10;>BACCALAUREAT SESSION 2022<br>\n",
    "    Épreuve de l’enseignement de spécialité<br>\n",
    "    NUMERIQUE et SCIENCES INFORMATIQUES<br>\n",
    "    Partie pratique\n",
    "</h1>\n",
    "<h2 align=\"center\">Terminale de la voie générale<br></h2>\n",
    "<hr>"
   ]
  },
  {
   "cell_type": "markdown",
   "id": "6936c39d",
   "metadata": {
    "slideshow": {
     "slide_type": "skip"
    },
    "tags": []
   },
   "source": [
    "\n",
    "## Sujet n° 4\n",
    "___\n",
    "## DUREE DE L’EPREUVE : 1 heure\n",
    "## - Le sujet comporte 2 exercices\n",
    "## - Le candidat doit traiter les 2 exercices."
   ]
  },
  {
   "cell_type": "markdown",
   "id": "352a9954",
   "metadata": {},
   "source": [
    "### EXERCICE 1 (4 points)\n",
    "Écrire une fonction recherche qui prend en paramètre un tableau de nombres entiers  \n",
    "tab, et qui renvoie la liste (éventuellement vide) des couples d'entiers consécutifs  \n",
    "successifs qu'il peut y avoir dans tab.  \n",
    "\n",
    "Exemples :  \n",
    "```\n",
    ">>> recherche([1, 4, 3, 5])\n",
    "[]\n",
    ">>> recherche([1, 4, 5, 3])\n",
    "[(4, 5)]\n",
    ">>> recherche([7, 1, 2, 5, 3, 4])\n",
    "[(1, 2), (3, 4)]\n",
    ">>> recherche([5, 1, 2, 3, 8, -5, -4, 7])\n",
    "[(1, 2), (2, 3), (-5, -4)]\n",
    "```\n"
   ]
  },
  {
   "cell_type": "code",
   "execution_count": null,
   "id": "0fc0efd2",
   "metadata": {},
   "outputs": [],
   "source": [
    "def recherche():\n",
    "    pass\n",
    "\n",
    "assert recherche([1, 4, 3, 5]) ==[],'erreur 1'\n",
    "assert recherche([1, 4, 5, 3])== [(4, 5)],'erreur 2'\n",
    "assert recherche([7, 1, 2, 5, 3, 4])==[(1, 2), (3, 4)],'erreur 3'\n",
    "assert recherche([5, 1, 2, 3, 8, -5, -4, 7])==[(1, 2), (2, 3), (-5, -4)], 'erreur 4'\n"
   ]
  },
  {
   "cell_type": "markdown",
   "id": "9043a97b",
   "metadata": {},
   "source": [
    "### EXERCICE 2 (4 points)\n",
    "Soit une image binaire représentée dans un tableau à 2 dimensions. Les éléments  \n",
    "M[i][j], appelés pixels, sont égaux soit à 0 soit à 1.  \n",
    "Une composante d’une image est un sous-ensemble de l’image constitué uniquement de  \n",
    "1 et de 0 qui sont côte à côte, soit horizontalement soit verticalement.  \n",
    "Par exemple, les composantes de  \n",
    "![](img4-1.png)\n",
    "sont\n",
    "![](img4-2.png)\n",
    "\n",
    "On souhaite, à partir d’un pixel égal à 1 dans une image M, donner la valeur val à tous  \n",
    "les pixels de la composante à laquelle appartient ce pixel.  \n",
    "La fonction propager prend pour paramètre une image M, deux entiers i et j et une  \n",
    "valeur entière val. Elle met à la valeur val tous les pixels de la composante du pixel  \n",
    "M[i][j] s’il vaut 1 et ne fait rien s’il vaut 0.  \n",
    "\n",
    "Par exemple, propager(M,2,1,3) donne\n",
    "![](img4-3.png)\n",
    "Compléter le code récursif de la fonction propager donné ci-dessous \n",
    "```\n",
    "def propager(M, i, j, val):\n",
    "    if M[i][j]== ...:\n",
    "        return\n",
    "\n",
    "    M[i][j]=val\n",
    "\n",
    "    # l'élément en haut fait partie de la composante\n",
    "    if ((i-1) >= 0 and M[i-1][j] == ...):\n",
    "        propager(M, i-1, j, val)\n",
    "\n",
    "    # l'élément en bas fait partie de la composante\n",
    "    if ((...) < len(M) and M[i+1][j] == 1):\n",
    "        propager(M, ..., j, val)\n",
    "\n",
    "    # l'élément à gauche fait partie de la composante\n",
    "    if ((...) >= 0 and M[i][j-1] == 1):\n",
    "        propager(M, i, ..., val)\n",
    "\n",
    "    # l'élément à droite fait partie de la composante\n",
    "    if ((...) < len(M) and M[i][j+1] == 1):\n",
    "        propager(M, i, ..., val)\n",
    "\n",
    "```\n"
   ]
  },
  {
   "cell_type": "code",
   "execution_count": null,
   "id": "176f0235",
   "metadata": {},
   "outputs": [],
   "source": [
    "def propager(M, i, j, val):\n",
    "    if M[i][j]== ...:\n",
    "        return\n",
    "\n",
    "    M[i][j]=val\n",
    "\n",
    "    # l'élément en haut fait partie de la composante\n",
    "    if ((i-1) >= 0 and M[i-1][j] == ...):\n",
    "        propager(M, i-1, j, val)\n",
    "\n",
    "    # l'élément en bas fait partie de la composante\n",
    "    if ((...) < len(M) and M[i+1][j] == 1):\n",
    "        propager(M, ..., j, val)\n",
    "\n",
    "    # l'élément à gauche fait partie de la composante\n",
    "    if ((...) >= 0 and M[i][j-1] == 1):\n",
    "        propager(M, i, ..., val)\n",
    "\n",
    "    # l'élément à droite fait partie de la composante\n",
    "    if ((...) < len(M) and M[i][j+1] == 1):\n",
    "        propager(M, i, ..., val)\n",
    "\n",
    "M = [[0,0,1,0],[0,1,0,1],[1,1,1,0],[0,1,1,0]]\n",
    "\n",
    "propager(M,2,1,3)\n",
    "\n",
    "assert M==[[0, 0, 1, 0], [0, 3, 0, 1], [3, 3, 3, 0], [0, 3, 3, 0]],'erreur 1'\n"
   ]
  }
 ],
 "metadata": {
  "kernelspec": {
   "display_name": "Python 3 (ipykernel)",
   "language": "python",
   "name": "python3"
  },
  "language_info": {
   "codemirror_mode": {
    "name": "ipython",
    "version": 3
   },
   "file_extension": ".py",
   "mimetype": "text/x-python",
   "name": "python",
   "nbconvert_exporter": "python",
   "pygments_lexer": "ipython3",
   "version": "3.10.2"
  }
 },
 "nbformat": 4,
 "nbformat_minor": 5
}
