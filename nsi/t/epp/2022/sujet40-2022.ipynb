{
 "cells": [
  {
   "cell_type": "markdown",
   "id": "da4d5d7d",
   "metadata": {},
   "source": [
    "## Etablissement :"
   ]
  },
  {
   "cell_type": "markdown",
   "id": "be7025d9",
   "metadata": {},
   "source": [
    "## Nom prénom :"
   ]
  },
  {
   "cell_type": "markdown",
   "id": "f846f6f8",
   "metadata": {},
   "source": [
    "<hr>\n",
    "<h1 align=\"center\"; margin:10;>BACCALAUREAT SESSION 2022<br>\n",
    "    Épreuve de l’enseignement de spécialité<br>\n",
    "    NUMERIQUE et SCIENCES INFORMATIQUES<br>\n",
    "    Partie pratique\n",
    "</h1>\n",
    "<h2 align=\"center\">Terminale de la voie générale<br></h2>\n",
    "<hr>"
   ]
  },
  {
   "cell_type": "markdown",
   "id": "6936c39d",
   "metadata": {},
   "source": [
    "\n",
    "## Sujet n° 40\n",
    "___\n",
    "## DUREE DE L’EPREUVE : 1 heure\n",
    "## - Le sujet comporte 2 exercices\n",
    "## - Le candidat doit traiter les 2 exercices."
   ]
  },
  {
   "cell_type": "markdown",
   "id": "352a9954",
   "metadata": {},
   "source": [
    "### EXERCICE 1 (4 points)\n",
    "Écrire une fonction recherche qui prend en paramètres elt un nombre et tab un tableau de nombres, et qui renvoie le tableau des indices de elt dans tab si elt est dans tab et le tableau vide [] sinon.\n",
    "\n",
    "Exemples :\n",
    "```\n",
    ">>> recherche(3, [3, 2, 1, 3, 2, 1])\n",
    "[0, 3]\n",
    ">>> recherche(4, [1, 2, 3])\n",
    "[]\n",
    "```\n"
   ]
  },
  {
   "cell_type": "code",
   "execution_count": null,
   "id": "0fc0efd2",
   "metadata": {},
   "outputs": [],
   "source": [
    "def verifie(tab):\n",
    "    pass\n",
    "\n",
    "# Les tests\n",
    "assert verifie([0, 5, 8, 8, 9]) == True\n",
    "assert  verifie([8, 12, 4]) == False\n",
    "assert  verifie([-1, 4])== True\n",
    "assert  verifie([5]) == True"
   ]
  },
  {
   "cell_type": "markdown",
   "id": "9043a97b",
   "metadata": {},
   "source": [
    "### EXERCICE 2 (4 points)\n",
    "\n",
    "Un professeur de NSI décide de gérer les résultats de sa classe sous la forme d’un dictionnaire :\n",
    "​\n",
    "    les clefs sont les noms des élèves ;\n",
    "​\n",
    "    les valeurs sont des dictionnaires dont les clefs sont les types d’épreuves et les valeurs sont les notes obtenues associées à leurs coefficients.\n",
    "​\n",
    "Avec :\n",
    "```\n",
    "resultats = {'Dupont':{'DS1' : [15.5, 4],\n",
    "                       'DM1' : [14.5, 1],\n",
    "                       'DS2' : [13, 4],\n",
    "                       'PROJET1' : [16, 3],\n",
    "                       'DS3' : [14, 4]},\n",
    "             'Durand':{'DS1' : [6 , 4],\n",
    "                       'DM1' : [14.5, 1],\n",
    "                       'DS2' : [8, 4],\n",
    "                       'PROJET1' : [9, 3],\n",
    "                       'IE1' : [7, 2],\n",
    "                       'DS3' : [8, 4],\n",
    "                       'DS4' :[15, 4]}}\n",
    "```\n",
    "L’élève dont le nom est Durand a ainsi obtenu au DS2 la note de 8 avec un coefficient 4.\n",
    "​\n",
    "Le professeur crée une fonction moyenne qui prend en paramètre le nom d’un de ces élèves et lui renvoie sa moyenne arrondie au dixième.\n",
    "​\n",
    "Compléter le code du professeur ci-dessous :\n",
    "```\n",
    "def moyenne(nom):\n",
    "    if nom in ...:\n",
    "        notes = resultats[nom]\n",
    "        total_points = ...\n",
    "        total_coefficients = ...\n",
    "        for ...  in notes.values():\n",
    "            note , coefficient = valeurs\n",
    "            total_points = total_points + ... * coefficient\n",
    "            total_coefficients = ... + coefficient\n",
    "        return round( ... / total_coefficients , 1 )\n",
    "    else:\n",
    "        return -1\n",
    "```"
   ]
  },
  {
   "cell_type": "code",
   "execution_count": null,
   "id": "176f0235",
   "metadata": {},
   "outputs": [],
   "source": [
    "resultats = {'Dupont':{'DS1' : [15.5, 4],\n",
    "                       'DM1' : [14.5, 1],\n",
    "                       'DS2' : [13, 4],\n",
    "                       'PROJET1' : [16, 3],\n",
    "                       'DS3' : [14, 4]},\n",
    "             'Durand':{'DS1' : [6 , 4],\n",
    "                       'DM1' : [14.5, 1],\n",
    "                       'DS2' : [8, 4],\n",
    "                       'PROJET1' : [9, 3],\n",
    "                       'IE1' : [7, 2],\n",
    "                       'DS3' : [8, 4],\n",
    "                       'DS4' :[15, 4]}}\n",
    "\n",
    "\n",
    "def moyenne(nom):\n",
    "    if nom in ...:\n",
    "        notes = resultats[nom]\n",
    "        total_points = ...\n",
    "        total_coefficients = ...\n",
    "        for ...  in notes.values():\n",
    "            note , coefficient = valeurs\n",
    "            total_points = total_points + ... * coefficient\n",
    "            total_coefficients = ... + coefficient\n",
    "        return round( ... / total_coefficients , 1 )\n",
    "    else:\n",
    "        return -1\n",
    "\n",
    "#L’élève dont le nom est Durand a ainsi obtenu au DS2 la note de 8 avec un coefficient 4.\n",
    "\n",
    "moyenne('Durand')\n"
   ]
  }
 ],
 "metadata": {
  "kernelspec": {
   "display_name": "Python 3",
   "language": "python",
   "name": "python3"
  },
  "language_info": {
   "codemirror_mode": {
    "name": "ipython",
    "version": 3
   },
   "file_extension": ".py",
   "mimetype": "text/x-python",
   "name": "python",
   "nbconvert_exporter": "python",
   "pygments_lexer": "ipython3",
   "version": "3.9.9"
  }
 },
 "nbformat": 4,
 "nbformat_minor": 5
}
