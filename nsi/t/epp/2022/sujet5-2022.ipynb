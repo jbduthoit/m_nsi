{
 "cells": [
  {
   "cell_type": "markdown",
   "id": "da4d5d7d",
   "metadata": {},
   "source": [
    "## Etablissement :"
   ]
  },
  {
   "cell_type": "markdown",
   "id": "be7025d9",
   "metadata": {},
   "source": [
    "## Nom prénom :"
   ]
  },
  {
   "cell_type": "markdown",
   "id": "f846f6f8",
   "metadata": {},
   "source": [
    "<hr>\n",
    "<h1 align=\"center\"; margin:10;>BACCALAUREAT SESSION 2022<br>\n",
    "    Épreuve de l’enseignement de spécialité<br>\n",
    "    NUMERIQUE et SCIENCES INFORMATIQUES<br>\n",
    "    Partie pratique\n",
    "</h1>\n",
    "<h2 align=\"center\">Terminale de la voie générale<br></h2>\n",
    "<hr>"
   ]
  },
  {
   "cell_type": "markdown",
   "id": "6936c39d",
   "metadata": {},
   "source": [
    "\n",
    "## Sujet n° 5\n",
    "___\n",
    "## DUREE DE L’EPREUVE : 1 heure\n",
    "## - Le sujet comporte 2 exercices\n",
    "## - Le candidat doit traiter les 2 exercices."
   ]
  },
  {
   "cell_type": "markdown",
   "id": "352a9954",
   "metadata": {},
   "source": [
    "### EXERCICE 1 (4 points)\n",
    "Écrire une fonction RechercheMinMax qui prend en paramètre un tableau de nombres  \n",
    "non triés tab, et qui renvoie la plus petite et la plus grande valeur du tableau sous la  \n",
    "forme d’un dictionnaire à deux clés ‘min’ et ‘max’. Les tableaux seront représentés sous  \n",
    "forme de liste Python.  \n",
    "\n",
    "Exemples :\n",
    "\n",
    "```\n",
    ">>> tableau = [0, 1, 4, 2, -2, 9, 3, 1, 7, 1]\n",
    ">>> resultat = RechercheMinMax(tableau)\n",
    ">>> resultat\n",
    "{'min': -2, 'max': 9}\n",
    ">>> tableau = []\n",
    ">>> resultat = RechercheMinMax(tableau)\n",
    ">>> resultat\n",
    "{'min': None, 'max': None}\n",
    "```"
   ]
  },
  {
   "cell_type": "code",
   "execution_count": null,
   "id": "0fc0efd2",
   "metadata": {},
   "outputs": [],
   "source": [
    "def rechercheMinMax(tab):\n",
    "    pass\n",
    "\n",
    "tableau = [0, 1, 4, 2, -2, 9, 3, 1, 7, 1]\n",
    "resultat = rechercheMinMax(tableau)\n",
    "resultat\n"
   ]
  },
  {
   "cell_type": "markdown",
   "id": "9043a97b",
   "metadata": {},
   "source": [
    "### EXERCICE 2 (4 points)\n",
    "On dispose d’un programme permettant de créer un objet de type PaquetDeCarte,  \n",
    "selon les éléments indiqués dans le code ci-dessous.  \n",
    "\n",
    "Compléter ce code aux endroits indiqués par #A compléter, puis ajouter des  \n",
    "assertions dans l’initialiseur de Carte, ainsi que dans la méthode getCarteAt().  \n",
    "\n",
    "```\n",
    "class Carte:\n",
    "    \"\"\"Initialise Couleur (entre 1 à 4), et Valeur (entre 1 à 13)\"\"\"\n",
    "    def __init__(self, c, v):\n",
    "        self.Couleur = c\n",
    "        self.Valeur = v\n",
    "\n",
    "    \"\"\"Renvoie le nom de la Carte As, 2, ... 10, \n",
    "       Valet, Dame, Roi\"\"\"\n",
    "    def getNom(self):\n",
    "        if ( self.Valeur > 1 and self.Valeur < 11):\n",
    "            return str( self.Valeur)\n",
    "        elif self.Valeur == 11:\n",
    "            return \"Valet\"\n",
    "        elif self.Valeur == 12:\n",
    "            return \"Dame\"\n",
    "        elif self.Valeur == 13:\n",
    "            return \"Roi\"\n",
    "        else:\n",
    "            return \"As\"\n",
    "\n",
    "    \"\"\"Renvoie la couleur de la Carte (parmi pique, coeur, carreau, trefle\"\"\"\n",
    "    def getCouleur(self):\n",
    "        return ['pique', 'coeur', 'carreau', 'trefle' ][self.Couleur-1]\n",
    "\n",
    "class PaquetDeCarte:\n",
    "    def __init__(self):\n",
    "        self.contenu = []\n",
    "\n",
    "    \"\"\"Remplit le paquet de cartes\"\"\"\n",
    "    def remplir(self):\n",
    "    #A compléter\n",
    "\n",
    "    \"\"\"Renvoie la Carte qui se trouve à la position donnée\"\"\"\n",
    "    def getCarteAt(self, pos):\n",
    "        #A compléter\n",
    "\n",
    "```\n",
    "**Exemple :**\n",
    "```\n",
    ">>> unPaquet = PaquetDeCarte()\n",
    ">>> unPaquet.remplir()\n",
    ">>> uneCarte = unPaquet.getCarteAt(20)\n",
    ">>> print(uneCarte.getNom() + \" de \" + uneCarte.getCouleur())\n",
    "8 de coeur\n",
    "```\n"
   ]
  },
  {
   "cell_type": "code",
   "execution_count": null,
   "id": "176f0235",
   "metadata": {},
   "outputs": [],
   "source": [
    "class Carte:\n",
    "    \"\"\"Initialise Couleur (entre 1 à 4), et Valeur (entre 1 à 13)\"\"\"\n",
    "    def __init__(self, c, v):\n",
    "        self.Couleur = c\n",
    "        self.Valeur = v\n",
    "\n",
    "    \"\"\"Renvoie le nom de la Carte As, 2, ... 10, \n",
    "       Valet, Dame, Roi\"\"\"\n",
    "    def getNom(self):\n",
    "        if ( self.Valeur > 1 and self.Valeur < 11):\n",
    "            return str( self.Valeur)\n",
    "        elif self.Valeur == 11:\n",
    "            return \"Valet\"\n",
    "        elif self.Valeur == 12:\n",
    "            return \"Dame\"\n",
    "        elif self.Valeur == 13:\n",
    "            return \"Roi\"\n",
    "        else:\n",
    "            return \"As\"\n",
    "\n",
    "    \"\"\"Renvoie la couleur de la Carte (parmi pique, coeur, carreau, trefle\"\"\"\n",
    "    def getCouleur(self):\n",
    "        return ['pique', 'coeur', 'carreau', 'trefle' ][self.Couleur-1]\n",
    "\n",
    "class PaquetDeCarte:\n",
    "    def __init__(self):\n",
    "        self.contenu = []\n",
    "\n",
    "    \"\"\"Remplit le paquet de cartes\"\"\"\n",
    "    def remplir(self):\n",
    "    #A compléter\n",
    "\n",
    "    \"\"\"Renvoie la Carte qui se trouve à la position donnée\"\"\"\n",
    "    def getCarteAt(self, pos):\n",
    "        #A compléter\n",
    "\n"
   ]
  }
 ],
 "metadata": {
  "kernelspec": {
   "display_name": "Python 3 (ipykernel)",
   "language": "python",
   "name": "python3"
  },
  "language_info": {
   "codemirror_mode": {
    "name": "ipython",
    "version": 3
   },
   "file_extension": ".py",
   "mimetype": "text/x-python",
   "name": "python",
   "nbconvert_exporter": "python",
   "pygments_lexer": "ipython3",
   "version": "3.10.2"
  }
 },
 "nbformat": 4,
 "nbformat_minor": 5
}
