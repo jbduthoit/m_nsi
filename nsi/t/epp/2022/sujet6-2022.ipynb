{
 "cells": [
  {
   "cell_type": "markdown",
   "id": "da4d5d7d",
   "metadata": {},
   "source": [
    "## Etablissement :"
   ]
  },
  {
   "cell_type": "markdown",
   "id": "be7025d9",
   "metadata": {},
   "source": [
    "## Nom prénom :"
   ]
  },
  {
   "cell_type": "markdown",
   "id": "f846f6f8",
   "metadata": {},
   "source": [
    "<hr>\n",
    "<h1 align=\"center\"; margin:10;>BACCALAUREAT SESSION 2022<br>\n",
    "    Épreuve de l’enseignement de spécialité<br>\n",
    "    NUMERIQUE et SCIENCES INFORMATIQUES<br>\n",
    "    Partie pratique\n",
    "</h1>\n",
    "<h2 align=\"center\">Terminale de la voie générale<br></h2>\n",
    "<hr>"
   ]
  },
  {
   "cell_type": "markdown",
   "id": "6936c39d",
   "metadata": {},
   "source": [
    "\n",
    "## Sujet n° 6\n",
    "___\n",
    "## DUREE DE L’EPREUVE : 1 heure\n",
    "## - Le sujet comporte 2 exercices\n",
    "## - Le candidat doit traiter les 2 exercices."
   ]
  },
  {
   "cell_type": "markdown",
   "id": "352a9954",
   "metadata": {},
   "source": [
    "### EXERCICE 1 (4 points)\n",
    "Écrire une fonction maxi qui prend en paramètre une liste tab de nombres entiers et qui  \n",
    "renvoie un couple donnant le plus grand élément de cette liste ainsi que l’indice de la  \n",
    "première apparition de ce maximum dans la liste.  \n",
    "\n",
    "```\n",
    "Exemple :\n",
    ">>> maxi([1,5,6,9,1,2,3,7,9,8])\n",
    "(9,3)\n",
    "```"
   ]
  },
  {
   "cell_type": "code",
   "execution_count": null,
   "id": "0fc0efd2",
   "metadata": {},
   "outputs": [],
   "source": [
    "def maxi(tab):\n",
    "    pass\n",
    "\n",
    "assert maxi([1,5,6,9,1,2,3,7,9,8])==(9,3),'erreur 1'\n"
   ]
  },
  {
   "cell_type": "markdown",
   "id": "9043a97b",
   "metadata": {},
   "source": [
    "### EXERCICE 2 (4 points)\n",
    "La fonction recherche prend en paramètres deux chaines de caractères gene et  \n",
    "seq_adn et renvoie True si on retrouve gene dans seq_adn et False sinon.  \n",
    "Compléter le code Python ci-dessous pour qu’il implémente la fonction recherche.  \n",
    "\n",
    "```\n",
    "def recherche(gene, seq_adn):\n",
    "    n = len(seq_adn)\n",
    "    g = len(gene)\n",
    "    i = ...\n",
    "    trouve = False\n",
    "    while i < ... and trouve == ... :\n",
    "        j = 0\n",
    "        while j < g and gene[j] == seq_adn[i+j]:\n",
    "            ...\n",
    "        if j == g:\n",
    "            trouve = True\n",
    "        ...\n",
    "    return trouve\n",
    "\n",
    "Exemples :\n",
    "\n",
    ">>> recherche(\"AATC\", \"GTACAAATCTTGCC\")\n",
    "True\n",
    "\n",
    ">>> recherche(\"AGTC\", \"GTACAAATCTTGCC\")\n",
    "False\n",
    "\n",
    "```\n"
   ]
  },
  {
   "cell_type": "code",
   "execution_count": null,
   "id": "176f0235",
   "metadata": {},
   "outputs": [],
   "source": [
    "def recherche(gene, seq_adn):\n",
    "    n = len(seq_adn)\n",
    "    g = len(gene)\n",
    "    i = ...\n",
    "    trouve = False\n",
    "    while i < ... and trouve == ... :\n",
    "        j = 0\n",
    "        while j < g and gene[j] == seq_adn[i+j]:\n",
    "            ...\n",
    "        if j == g:\n",
    "            trouve = True\n",
    "        ...\n",
    "    return trouve\n",
    "\n"
   ]
  }
 ],
 "metadata": {
  "kernelspec": {
   "display_name": "Python 3",
   "language": "python",
   "name": "python3"
  },
  "language_info": {
   "codemirror_mode": {
    "name": "ipython",
    "version": 3
   },
   "file_extension": ".py",
   "mimetype": "text/x-python",
   "name": "python",
   "nbconvert_exporter": "python",
   "pygments_lexer": "ipython3",
   "version": "3.9.9"
  }
 },
 "nbformat": 4,
 "nbformat_minor": 5
}
