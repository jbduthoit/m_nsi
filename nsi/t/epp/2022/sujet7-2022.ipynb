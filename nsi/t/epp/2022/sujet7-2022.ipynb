{
 "cells": [
  {
   "cell_type": "markdown",
   "id": "da4d5d7d",
   "metadata": {},
   "source": [
    "## Etablissement :"
   ]
  },
  {
   "cell_type": "markdown",
   "id": "be7025d9",
   "metadata": {},
   "source": [
    "## Nom prénom :"
   ]
  },
  {
   "cell_type": "markdown",
   "id": "f846f6f8",
   "metadata": {},
   "source": [
    "<hr>\n",
    "<h1 align=\"center\"; margin:10;>BACCALAUREAT SESSION 2022<br>\n",
    "    Épreuve de l’enseignement de spécialité<br>\n",
    "    NUMERIQUE et SCIENCES INFORMATIQUES<br>\n",
    "    Partie pratique\n",
    "</h1>\n",
    "<h2 align=\"center\">Terminale de la voie générale<br></h2>\n",
    "<hr>"
   ]
  },
  {
   "cell_type": "markdown",
   "id": "6936c39d",
   "metadata": {},
   "source": [
    "\n",
    "## Sujet n° 7\n",
    "___\n",
    "## DUREE DE L’EPREUVE : 1 heure\n",
    "## - Le sujet comporte 2 exercices\n",
    "## - Le candidat doit traiter les 2 exercices."
   ]
  },
  {
   "cell_type": "markdown",
   "id": "352a9954",
   "metadata": {},
   "source": [
    "### EXERCICE 1 (4 points)\n",
    "Écrire une fonction conv_bin qui prend en paramètre un entier positif n et renvoie un\n",
    "couple (b,bit) où :\n",
    "* b est une liste d'entiers correspondant à la représentation binaire de n;\n",
    "* bit correspond aux nombre de bits qui constituent b.\n",
    "\n",
    "Exemple :\n",
    "```\n",
    ">>> conv_bin(9)\n",
    "([1,0,0,1],4)\n",
    "```\n",
    "\n",
    "Aide :\n",
    "* l'opérateur // donne le quotient de la division euclidienne : 5//2 donne 2 ;  \n",
    "* l'opérateur % donne le reste de la division euclidienne : 5%2 donne 1 ;  \n",
    "* append est une méthode qui ajoute un élément à une liste existante :  \n",
    "\n",
    "Soit T=[5,2,4], alors T.append(10) ajoute 10 à la liste T. Ainsi, T devient [5,2,4,10].\n",
    "* reverse est une méthode qui renverse les éléments d'une liste.  \n",
    "Soit T=[5,2,4,10]. Après T.reverse(), la liste devient [10,4,2,5].  \n",
    "On remarquera qu’on récupère la représentation binaire d’un entier n en partant de la  \n",
    "gauche en appliquant successivement les instructions :\n",
    "\n",
    "- b = n%2\n",
    "- n = n//2\n",
    "\n",
    "répétées autant que nécessaire.\n"
   ]
  },
  {
   "cell_type": "code",
   "execution_count": null,
   "id": "0fc0efd2",
   "metadata": {},
   "outputs": [],
   "source": [
    "def conv_bin(nbre):\n",
    "    pass\n"
   ]
  },
  {
   "cell_type": "markdown",
   "id": "9043a97b",
   "metadata": {},
   "source": [
    "### EXERCICE 2 (4 points)\n",
    "La fonction tri_bulles prend en paramètre une liste T d’entiers non triés et renvoie la  \n",
    "liste triée par ordre croissant.  \n",
    "Compléter le code Python ci-dessous qui implémente la fonction tri_bulles.  \n",
    "\n",
    "\n",
    "```\n",
    "def tri_bulles(T):\n",
    "    n = len(T)\n",
    "    for i in range(...,...,-1):\n",
    "        for j in range(i):\n",
    "            if T[j] > T[...]:\n",
    "                ... = T[j]\n",
    "                T[j] = T[...]\n",
    "                T[j+1] = temp\n",
    "    return T\n",
    "\n",
    "```\n"
   ]
  },
  {
   "cell_type": "code",
   "execution_count": null,
   "id": "176f0235",
   "metadata": {},
   "outputs": [],
   "source": [
    "def tri_bulles(T):\n",
    "    n = len(T)\n",
    "    for i in range(...,...,-1):\n",
    "        for j in range(i):\n",
    "            if T[j] > T[...]:\n",
    "                ... = T[j]\n",
    "                T[j] = T[...]\n",
    "                T[j+1] = temp\n",
    "    return T\n",
    "\n",
    "\n"
   ]
  }
 ],
 "metadata": {
  "kernelspec": {
   "display_name": "Python 3",
   "language": "python",
   "name": "python3"
  },
  "language_info": {
   "codemirror_mode": {
    "name": "ipython",
    "version": 3
   },
   "file_extension": ".py",
   "mimetype": "text/x-python",
   "name": "python",
   "nbconvert_exporter": "python",
   "pygments_lexer": "ipython3",
   "version": "3.9.9"
  }
 },
 "nbformat": 4,
 "nbformat_minor": 5
}
