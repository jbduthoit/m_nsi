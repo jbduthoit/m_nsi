{
 "cells": [
  {
   "cell_type": "markdown",
   "id": "da4d5d7d",
   "metadata": {},
   "source": [
    "## Etablissement :"
   ]
  },
  {
   "cell_type": "markdown",
   "id": "be7025d9",
   "metadata": {},
   "source": [
    "## Nom prénom :"
   ]
  },
  {
   "cell_type": "markdown",
   "id": "f846f6f8",
   "metadata": {},
   "source": [
    "<hr>\n",
    "<h1 align=\"center\"; margin:10;>BACCALAUREAT SESSION 2022<br>\n",
    "    Épreuve de l’enseignement de spécialité<br>\n",
    "    NUMERIQUE et SCIENCES INFORMATIQUES<br>\n",
    "    Partie pratique\n",
    "</h1>\n",
    "<h2 align=\"center\">Terminale de la voie générale<br></h2>\n",
    "<hr>"
   ]
  },
  {
   "cell_type": "markdown",
   "id": "6936c39d",
   "metadata": {},
   "source": [
    "\n",
    "## Sujet n° 9\n",
    "___\n",
    "## DUREE DE L’EPREUVE : 1 heure\n",
    "## - Le sujet comporte 2 exercices\n",
    "## - Le candidat doit traiter les 2 exercices."
   ]
  },
  {
   "cell_type": "markdown",
   "id": "352a9954",
   "metadata": {},
   "source": [
    "### EXERCICE 1 (4 points)\n",
    "\n",
    "Soit un nombre entier supérieur ou égal à 1 :\n",
    "- s'il est pair, on le divise par 2 ;\n",
    "- s’il est impair, on le multiplie par 3 et on ajoute 1.\n",
    "\n",
    "Puis on recommence ces étapes avec le nombre entier obtenu, jusqu’à ce que l’on\n",
    "obtienne la valeur 1.\n",
    "On définit ainsi la suite (un) par\n",
    "\n",
    "- $u_{0} = k$ , où k est un entier choisi initialement ;\n",
    "- $u_{n+1} = \\frac{u_{n}}{2}$ si un est pair ;\n",
    "- $u_{n+1} = 3×u_{n} + 1$ si un est impair.\n",
    "\n",
    "On admet que, quel que soit l’entier k choisi au départ, la suite finit toujours sur la valeur 1.\n",
    "Écrire une fonction calcul prenant en paramètres un entier n strictement positif et qui  \n",
    "renvoie la liste des valeurs un , en partant de k et jusqu’à atteindre 1.  \n",
    "\n",
    "**Exemple :**\n",
    "\n",
    "```\n",
    ">>> calcul(7)\n",
    "[7, 22, 11, 34, 17, 52, 26, 13, 40, 20, 10, 5, 16, 8, 4, 2, 1]\n",
    "```\n"
   ]
  },
  {
   "cell_type": "code",
   "execution_count": null,
   "id": "0fc0efd2",
   "metadata": {},
   "outputs": [],
   "source": [
    "def calcul():\n",
    "    pass\n"
   ]
  },
  {
   "cell_type": "markdown",
   "id": "9043a97b",
   "metadata": {},
   "source": [
    "### EXERCICE 2 (4 points)\n",
    "On considère la fonction insere ci-dessous qui prend en argument un entier a et un\n",
    "tableau tab d'entiers triés par ordre croissant. Cette fonction insère la valeur a dans le\n",
    "tableau et renvoie le nouveau tableau. Les tableaux seront représentés sous la forme de\n",
    "listes python.\n",
    "\n",
    "\n",
    "\n",
    "```\n",
    "def insere(a, tab):\n",
    "    l = list(tab) #l contient les mêmes éléments que tab\n",
    "    l.append(a)\n",
    "    i = ...\n",
    "    while a < ... and i >= 0: \n",
    "      l[i+1] = ...\n",
    "      l[i] = a\n",
    "      i = ...\n",
    "    return l\n",
    "```\n",
    "\n",
    "Compléter la fonction insere dans la cellule ci-dessous.\n",
    "\n",
    "```\n",
    "Exemples :\n",
    ">>>\n",
    " insere(3,[1,2,4,5])\n",
    "[1,\n",
    " 2, 3, 4, 5]\n",
    ">>>\n",
    " insere(10,[1,2,7,12,14,25])\n",
    "[1,\n",
    " 2, 7, 10, 12, 14, 25]\n",
    ">>>\n",
    " insere(1,[2,3,4])\n",
    "[1,\n",
    " 2, 3, 4]\n",
    "\n",
    "\n",
    "```\n"
   ]
  },
  {
   "cell_type": "code",
   "execution_count": null,
   "id": "176f0235",
   "metadata": {},
   "outputs": [],
   "source": [
    "def insere(a, tab):\n",
    "    l = list(tab) #l contient les mêmes éléments que tab\n",
    "    l.append(a)\n",
    "    i = ...\n",
    "    while a < ... and i >= 0: \n",
    "      l[i+1] = ...\n",
    "      l[i] = a\n",
    "      i = ...\n",
    "    return l\n",
    "\n",
    "\n"
   ]
  }
 ],
 "metadata": {
  "kernelspec": {
   "display_name": "Python 3 (ipykernel)",
   "language": "python",
   "name": "python3"
  },
  "language_info": {
   "codemirror_mode": {
    "name": "ipython",
    "version": 3
   },
   "file_extension": ".py",
   "mimetype": "text/x-python",
   "name": "python",
   "nbconvert_exporter": "python",
   "pygments_lexer": "ipython3",
   "version": "3.10.2"
  }
 },
 "nbformat": 4,
 "nbformat_minor": 5
}
